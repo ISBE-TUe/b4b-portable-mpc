{
 "cells": [
  {
   "cell_type": "code",
   "execution_count": null,
   "metadata": {},
   "outputs": [],
   "source": [
    "# %pip install python-dotenv\n",
    "# %pip install pandas\n",
    "# %pip install requests\n",
    "# %pip install pyshacl\n",
    "# %pip install brickschema"
   ]
  },
  {
   "cell_type": "code",
   "execution_count": 2,
   "metadata": {},
   "outputs": [],
   "source": [
    "import requests\n",
    "import pandas as pd\n",
    "from io import StringIO\n",
    "from rdflib import Graph\n",
    "import os\n",
    "import pyshacl\n",
    "import uuid\n",
    "import json"
   ]
  },
  {
   "cell_type": "markdown",
   "metadata": {},
   "source": [
    "Test query"
   ]
  },
  {
   "cell_type": "code",
   "execution_count": null,
   "metadata": {},
   "outputs": [
    {
     "data": {
      "text/html": [
       "<div>\n",
       "<style scoped>\n",
       "    .dataframe tbody tr th:only-of-type {\n",
       "        vertical-align: middle;\n",
       "    }\n",
       "\n",
       "    .dataframe tbody tr th {\n",
       "        vertical-align: top;\n",
       "    }\n",
       "\n",
       "    .dataframe thead th {\n",
       "        text-align: right;\n",
       "    }\n",
       "</style>\n",
       "<table border=\"1\" class=\"dataframe\">\n",
       "  <thead>\n",
       "    <tr style=\"text-align: right;\">\n",
       "      <th></th>\n",
       "      <th>Input</th>\n",
       "      <th>Timeseries Reference</th>\n",
       "    </tr>\n",
       "  </thead>\n",
       "  <tbody>\n",
       "    <tr>\n",
       "      <th>0</th>\n",
       "      <td>https://w3id.org/b4b/schemes/algorithms/forc#W...</td>\n",
       "      <td>https://w3id.org/b4b/schemes/ext/ref-ext#Forec...</td>\n",
       "    </tr>\n",
       "    <tr>\n",
       "      <th>1</th>\n",
       "      <td>https://w3id.org/b4b/schemes/algorithms/forc#S...</td>\n",
       "      <td>https://w3id.org/b4b/schemes/ext/ref-ext#Forec...</td>\n",
       "    </tr>\n",
       "    <tr>\n",
       "      <th>2</th>\n",
       "      <td>https://w3id.org/b4b/schemes/algorithms/forc#O...</td>\n",
       "      <td>https://w3id.org/b4b/schemes/ext/ref-ext#Forec...</td>\n",
       "    </tr>\n",
       "    <tr>\n",
       "      <th>3</th>\n",
       "      <td>https://brickschema.org/schema/Brick#Building_...</td>\n",
       "      <td>https://w3id.org/b4b/schemes/ext/ref-ext#Histo...</td>\n",
       "    </tr>\n",
       "    <tr>\n",
       "      <th>4</th>\n",
       "      <td>https://brickschema.org/schema/Brick#Outside_A...</td>\n",
       "      <td>https://w3id.org/b4b/schemes/ext/ref-ext#Histo...</td>\n",
       "    </tr>\n",
       "    <tr>\n",
       "      <th>5</th>\n",
       "      <td>https://brickschema.org/schema/Brick#Wind_Spee...</td>\n",
       "      <td>https://w3id.org/b4b/schemes/ext/ref-ext#Histo...</td>\n",
       "    </tr>\n",
       "    <tr>\n",
       "      <th>6</th>\n",
       "      <td>https://brickschema.org/schema/Brick#Solar_Rad...</td>\n",
       "      <td>https://w3id.org/b4b/schemes/ext/ref-ext#Histo...</td>\n",
       "    </tr>\n",
       "  </tbody>\n",
       "</table>\n",
       "</div>"
      ],
      "text/plain": [
       "                                               Input  \\\n",
       "0  https://w3id.org/b4b/schemes/algorithms/forc#W...   \n",
       "1  https://w3id.org/b4b/schemes/algorithms/forc#S...   \n",
       "2  https://w3id.org/b4b/schemes/algorithms/forc#O...   \n",
       "3  https://brickschema.org/schema/Brick#Building_...   \n",
       "4  https://brickschema.org/schema/Brick#Outside_A...   \n",
       "5  https://brickschema.org/schema/Brick#Wind_Spee...   \n",
       "6  https://brickschema.org/schema/Brick#Solar_Rad...   \n",
       "\n",
       "                                Timeseries Reference  \n",
       "0  https://w3id.org/b4b/schemes/ext/ref-ext#Forec...  \n",
       "1  https://w3id.org/b4b/schemes/ext/ref-ext#Forec...  \n",
       "2  https://w3id.org/b4b/schemes/ext/ref-ext#Forec...  \n",
       "3  https://w3id.org/b4b/schemes/ext/ref-ext#Histo...  \n",
       "4  https://w3id.org/b4b/schemes/ext/ref-ext#Histo...  \n",
       "5  https://w3id.org/b4b/schemes/ext/ref-ext#Histo...  \n",
       "6  https://w3id.org/b4b/schemes/ext/ref-ext#Histo...  "
      ]
     },
     "execution_count": 3,
     "metadata": {},
     "output_type": "execute_result"
    }
   ],
   "source": [
    "artifacts_sparql_endpoint = 'http://localhost:7400/repositories/dsm-mpc'\n",
    "\n",
    "sparql_query = \"\"\"\n",
    "PREFIX ref-ext: <https://w3id.org/b4b/schemes/ext/ref-ext#>\n",
    "PREFIX ref: <https://brickschema.org/schema/Brick/ref#>\n",
    "PREFIX brick: <https://brickschema.org/schema/Brick#>\n",
    "PREFIX sba: <https://w3id.org/b4b/schemes/algorithms/sba#> \n",
    "PREFIX mpc: <https://w3id.org/b4b/schemes/algorithms/mpc#> \n",
    "PREFIX forc: <https://w3id.org/b4b/schemes/algorithms/forc#> \n",
    "\n",
    "select ?input ?tsref where {\n",
    "    ?s ?p ?input .\n",
    "    FILTER(?s=sba:LoadForecastAlgorithm)\n",
    "    FILTER(?p=sba:hasInputData)\n",
    "    ?input ref:hasExternalReference ?arr .\n",
    "    ?arr a ?tsref .\n",
    "}\n",
    "    \"\"\"\n",
    "\n",
    "headers = {\n",
    "    \"Content-Type\": \"application/sparql-query\",\n",
    "    \"Accept\": \"application/json\"\n",
    "}\n",
    "auth = (\"lchamari\", \"lchamari\")\n",
    "\n",
    "query_params = {\n",
    "    'query': sparql_query,\n",
    "    'infer': 'false' \n",
    "}\n",
    "\n",
    "response = requests.get(artifacts_sparql_endpoint, params=query_params, headers=headers, auth=auth)\n",
    "\n",
    "response_json = json.loads(response.text)\n",
    "formatted_json = json.dumps(response_json, indent=4)\n",
    "bindings = response_json[\"results\"][\"bindings\"]\n",
    "data = [\n",
    "    {\"Input\": item[\"input\"][\"value\"], \"Timeseries Reference\": item[\"tsref\"][\"value\"]}\n",
    "    for item in bindings\n",
    "]\n",
    "df = pd.DataFrame(data)\n",
    "df"
   ]
  },
  {
   "cell_type": "markdown",
   "metadata": {},
   "source": [
    "# Creating Shapes"
   ]
  },
  {
   "cell_type": "code",
   "execution_count": 4,
   "metadata": {},
   "outputs": [],
   "source": [
    "def generate_shape_graphs(algorithm_sparql_query, folder_name):\n",
    "\n",
    "    query_params = {\n",
    "        'query': algorithm_sparql_query,\n",
    "        'infer': 'false' \n",
    "    }\n",
    "    headers = {\n",
    "    \"Content-Type\": \"application/sparql-query\",\n",
    "    \"Accept\": \"application/json\"\n",
    "    }\n",
    "    auth = (\"lchamari\", \"lchamari\")\n",
    "\n",
    "    response = requests.get(artifacts_sparql_endpoint, params=query_params, headers=headers, auth=auth)\n",
    "    \n",
    "    prefixes = {\n",
    "        'brick:': 'https://brickschema.org/schema/Brick#',\n",
    "        'ref:': 'https://brickschema.org/schema/Brick/ref#',\n",
    "        'ref-ext:': 'https://w3id.org/b4b/schemes/ext/ref-ext#',\n",
    "        'sba:': 'https://w3id.org/b4b/schemes/algorithms/sba#', \n",
    "        'mpc:': 'https://w3id.org/b4b/schemes/algorithms/mpc#', \n",
    "        'forc:': 'https://w3id.org/b4b/schemes/algorithms/forc#', \n",
    "        'brick-ev': '<https://w3id.org/b4b/schemes/ext/brick-ev#>'\n",
    "    }\n",
    "\n",
    "    response_json = json.loads(response.text)\n",
    "    bindings = response_json[\"results\"][\"bindings\"]\n",
    "    data = [\n",
    "        {\"Input\": item[\"input\"][\"value\"], \"Timeseries Reference\": item[\"tsref\"][\"value\"]}\n",
    "        for item in bindings\n",
    "    ]\n",
    "    df = pd.DataFrame(data)\n",
    "\n",
    "    class_list = df['Input'].tolist()\n",
    "\n",
    "    point_with_suffix_list = []\n",
    "    for point in class_list:\n",
    "        suffix = point.split('#')[0] + '#'\n",
    "        point = point.split('#')[-1]\n",
    "\n",
    "        for prefix, uri in prefixes.items():\n",
    "            if uri == suffix:\n",
    "                suffix = prefix\n",
    "                point_with_suffix = f'{suffix}:{point}'\n",
    "                point_with_suffix_list.append(point_with_suffix)\n",
    "                break\n",
    "  \n",
    "    dplist = {}\n",
    "    for index, row in df.iterrows():\n",
    "        if row['Input'] and row['Timeseries Reference']:\n",
    "            dplist[row['Input']] = row['Timeseries Reference']\n",
    "    print(dplist)\n",
    "    \n",
    "\n",
    "    for key, value in dplist.items():\n",
    "        for prefix, uri in prefixes.items():\n",
    "            if uri in value:\n",
    "                dplist[key] = value.replace(uri, prefix)\n",
    "    dplist = {key.replace('https://w3id.org/b4b/schemes/algorithms/forc#', 'forc:'): value for key, value in dplist.items()}\n",
    "    dplist = {key.replace('https://brickschema.org/schema/Brick#', 'brick:'): value for key, value in dplist.items()}\n",
    "    dplist = {key.replace('https://w3id.org/b4b/schemes/algorithms/sba#', 'sba:'): value for key, value in dplist.items()}\n",
    "    dplist = {key.replace('https://w3id.org/b4b/schemes/algorithms/mpc#', 'mpc:'): value for key, value in dplist.items()}\n",
    "    dplist = {key.replace('https://brickschema.org/schema/Brick/ref#', 'ref:'): value for key, value in dplist.items()}\n",
    "    dplist = {key.replace('https://w3id.org/b4b/schemes/ext/ref-ext#', 'ref-ext:'): value for key, value in dplist.items()}\n",
    "    dplist = {key.replace('https://w3id.org/b4b/schemes/ext/brick-ev#', 'brick-ev:'): value for key, value in dplist.items()}\n",
    "\n",
    "    dict = {\n",
    "    \"ref-ext:LastKnownValueTimeseriesReference\": \"ref-ext:hasLastKnownValueTimeseriesId\",\n",
    "    \"ref-ext:HistoricalTimeseriesReference\": \"ref-ext:hasHistoricalTimeseriesId\",\n",
    "    \"ref-ext:RealtimeTimeseriesReference\": \"ref-ext:hasRealtimeTimeseriesId\",\n",
    "    \"ref-ext:ForecastTimeseriesReference\": \"ref-ext:hasForecastTimeseriesId\",\n",
    "    \"ref:TimeseriesReference\": \"ref:hasTimeseriesId\",\n",
    "    }\n",
    "\n",
    "    shape_graph_list = []\n",
    "    class_names = []\n",
    "    class_names_ = []\n",
    "    for k in dplist:\n",
    "        value_2 = dict[dplist[k]]\n",
    "        shape_graph = f\"\"\"\n",
    "@prefix brick: <https://brickschema.org/schema/Brick#> .\n",
    "@prefix rdf: <http://www.w3.org/1999/02/22-rdf-syntax-ns#> .\n",
    "@prefix sh: <http://www.w3.org/ns/shacl#>.\n",
    "@prefix ref: <https://brickschema.org/schema/Brick/ref#> .\n",
    "@prefix xsd: <http://www.w3.org/2001/XMLSchema#> .\n",
    "@prefix ref-ext: <https://w3id.org/b4b/schemes/ext/ref-ext#> .\n",
    "@prefix sba: <https://w3id.org/b4b/schemes/algorithms/sba#> .\n",
    "@prefix mpc: <https://w3id.org/b4b/schemes/algorithms/mpc#> .\n",
    "@prefix forc: <https://w3id.org/b4b/schemes/algorithms/forc#> .\n",
    "@prefix brick-ev: <https://w3id.org/b4b/schemes/ext/brick-ev#> .\n",
    "@prefix : <urn:algorithm_shapes#> .\n",
    "\n",
    ":AlgorithmInputShape_{uuid.uuid4()} \n",
    "    a sh:NodeShape ;\n",
    "    sh:targetClass {k} ;\n",
    "    sh:property :property_1;\n",
    ".\n",
    "\n",
    ":property_1\n",
    "        sh:path ref:hasExternalReference ;\n",
    "        sh:message \"All datapoints need an external reference.\" ;\n",
    "        sh:minCount 1 ;\n",
    "        sh:node sh:NodeShape ;\n",
    "        sh:property :property2, :property3 \n",
    ".\n",
    "\n",
    ":property2\n",
    "            sh:path rdf:type ;\n",
    "            sh:hasValue {dplist[k]} ;\n",
    ".\n",
    "\n",
    ":property3 \n",
    "            sh:path {value_2} ;\n",
    "            sh:minCount 1 ;\n",
    "            sh:datatype xsd:string ;\n",
    "            sh:message \"All datapoints need a timeseries reference.\" ;\n",
    ".\n",
    "\n",
    "\"\"\"\n",
    "        shape_graph_list.append(shape_graph)\n",
    "        class_names.append(k)\n",
    "        class_name = k.replace(\":\", \"_\")\n",
    "        class_names_.append(class_name)\n",
    "        \n",
    "\n",
    "    i=0\n",
    "    for g in shape_graph_list:\n",
    "        with open(f\"shacl/{folder_name}/shape_graph_{class_names_[i]}.ttl\", \"w\") as f:\n",
    "            f.write(g)\n",
    "            i=i+1\n",
    "\n",
    "    return df, dplist"
   ]
  },
  {
   "cell_type": "code",
   "execution_count": 5,
   "metadata": {},
   "outputs": [
    {
     "name": "stdout",
     "output_type": "stream",
     "text": [
      "{'https://w3id.org/b4b/schemes/algorithms/forc#WindSpeedForecast': 'https://w3id.org/b4b/schemes/ext/ref-ext#ForecastTimeseriesReference', 'https://w3id.org/b4b/schemes/algorithms/forc#SolarRadianceForecast': 'https://w3id.org/b4b/schemes/ext/ref-ext#ForecastTimeseriesReference', 'https://w3id.org/b4b/schemes/algorithms/forc#OutdoorTemperatureForecast': 'https://w3id.org/b4b/schemes/ext/ref-ext#ForecastTimeseriesReference', 'https://brickschema.org/schema/Brick#Building_Electrical_Meter': 'https://w3id.org/b4b/schemes/ext/ref-ext#HistoricalTimeseriesReference', 'https://brickschema.org/schema/Brick#Outside_Air_Temperature_Sensor': 'https://w3id.org/b4b/schemes/ext/ref-ext#HistoricalTimeseriesReference', 'https://brickschema.org/schema/Brick#Wind_Speed_Sensor': 'https://w3id.org/b4b/schemes/ext/ref-ext#HistoricalTimeseriesReference', 'https://brickschema.org/schema/Brick#Solar_Radiance_Sensor': 'https://w3id.org/b4b/schemes/ext/ref-ext#HistoricalTimeseriesReference'}\n"
     ]
    },
    {
     "data": {
      "text/plain": [
       "{'forc:WindSpeedForecast': 'ref-ext:ForecastTimeseriesReference',\n",
       " 'forc:SolarRadianceForecast': 'ref-ext:ForecastTimeseriesReference',\n",
       " 'forc:OutdoorTemperatureForecast': 'ref-ext:ForecastTimeseriesReference',\n",
       " 'brick:Building_Electrical_Meter': 'ref-ext:HistoricalTimeseriesReference',\n",
       " 'brick:Outside_Air_Temperature_Sensor': 'ref-ext:HistoricalTimeseriesReference',\n",
       " 'brick:Wind_Speed_Sensor': 'ref-ext:HistoricalTimeseriesReference',\n",
       " 'brick:Solar_Radiance_Sensor': 'ref-ext:HistoricalTimeseriesReference'}"
      ]
     },
     "execution_count": 5,
     "metadata": {},
     "output_type": "execute_result"
    }
   ],
   "source": [
    "query = \"\"\"\n",
    "PREFIX ref-ext: <https://w3id.org/b4b/schemes/ext/ref-ext#>\n",
    "PREFIX ref: <https://brickschema.org/schema/Brick/ref#>\n",
    "PREFIX brick: <https://brickschema.org/schema/Brick#>\n",
    "PREFIX sba: <https://w3id.org/b4b/schemes/algorithms/sba#> \n",
    "PREFIX mpc: <https://w3id.org/b4b/schemes/algorithms/mpc#> \n",
    "PREFIX forc: <https://w3id.org/b4b/schemes/algorithms/forc#> \n",
    "\n",
    "select ?input ?tsref where {\n",
    "    ?s ?p ?input .\n",
    "    FILTER(?s=sba:LoadForecastAlgorithm)\n",
    "    FILTER(?p=sba:hasInputData)\n",
    "    ?input ref:hasExternalReference ?arr .\n",
    "    ?arr a ?tsref .\n",
    "}\n",
    "    \"\"\"\n",
    "df,dplist_LoadForecastAlgorithm = generate_shape_graphs(algorithm_sparql_query=query, folder_name=\"LoadForecastAlgorithm\")\n",
    "dplist_LoadForecastAlgorithm"
   ]
  },
  {
   "cell_type": "code",
   "execution_count": 6,
   "metadata": {},
   "outputs": [
    {
     "name": "stdout",
     "output_type": "stream",
     "text": [
      "{'https://w3id.org/b4b/schemes/algorithms/forc#BuildingLoadForecast': 'https://w3id.org/b4b/schemes/ext/ref-ext#ForecastTimeseriesReference', 'https://w3id.org/b4b/schemes/algorithms/forc#PVForecast': 'https://w3id.org/b4b/schemes/ext/ref-ext#ForecastTimeseriesReference', 'https://w3id.org/b4b/schemes/algorithms/forc#ElectricityPriceForecast': 'https://w3id.org/b4b/schemes/ext/ref-ext#ForecastTimeseriesReference'}\n"
     ]
    },
    {
     "data": {
      "text/plain": [
       "{'forc:BuildingLoadForecast': 'ref-ext:ForecastTimeseriesReference',\n",
       " 'forc:PVForecast': 'ref-ext:ForecastTimeseriesReference',\n",
       " 'forc:ElectricityPriceForecast': 'ref-ext:ForecastTimeseriesReference'}"
      ]
     },
     "execution_count": 6,
     "metadata": {},
     "output_type": "execute_result"
    }
   ],
   "source": [
    "query = \"\"\"\n",
    "PREFIX ref-ext: <https://w3id.org/b4b/schemes/ext/ref-ext#>\n",
    "PREFIX ref: <https://brickschema.org/schema/Brick/ref#>\n",
    "PREFIX brick: <https://brickschema.org/schema/Brick#>\n",
    "PREFIX sba: <https://w3id.org/b4b/schemes/algorithms/sba#> \n",
    "PREFIX mpc: <https://w3id.org/b4b/schemes/algorithms/mpc#> \n",
    "PREFIX forc: <https://w3id.org/b4b/schemes/algorithms/forc#> \n",
    "\n",
    "select ?input ?tsref where {\n",
    "    ?s ?p ?input .\n",
    "    FILTER(?s=mpc:DSM-MPC)\n",
    "    FILTER(?p=mpc:hasInputDisturbanceForecast || ?p=mpc:hasInputRealtimeFeedback )\n",
    "    ?input ref:hasExternalReference ?arr .\n",
    "    ?arr a ?tsref .\n",
    "}\n",
    "    \"\"\"\n",
    "df, dplist_MPC = generate_shape_graphs(algorithm_sparql_query=query, folder_name=\"DSM-MPC\")\n",
    "dplist_MPC"
   ]
  },
  {
   "cell_type": "code",
   "execution_count": 203,
   "metadata": {},
   "outputs": [
    {
     "name": "stdout",
     "output_type": "stream",
     "text": [
      "{'https://w3id.org/b4b/schemes/ext/brick-ev#EV_Charging_Station_ID': 'https://w3id.org/b4b/schemes/ext/ref-ext#RealtimeTimeseriesReference', 'https://w3id.org/b4b/schemes/ext/brick-ev#EV_Battery_Size': 'https://w3id.org/b4b/schemes/ext/ref-ext#RealtimeTimeseriesReference', 'https://w3id.org/b4b/schemes/ext/brick-ev#EV_Arrival_Time': 'https://w3id.org/b4b/schemes/ext/ref-ext#RealtimeTimeseriesReference', 'https://w3id.org/b4b/schemes/ext/brick-ev#EV_Departure_Time': 'https://w3id.org/b4b/schemes/ext/ref-ext#RealtimeTimeseriesReference', 'https://w3id.org/b4b/schemes/ext/brick-ev#EV_Arrival_SOC': 'https://w3id.org/b4b/schemes/ext/ref-ext#RealtimeTimeseriesReference', 'https://w3id.org/b4b/schemes/ext/brick-ev#Charging_Session_Status': 'https://w3id.org/b4b/schemes/ext/ref-ext#RealtimeTimeseriesReference', 'https://w3id.org/b4b/schemes/ext/brick-ev#Vehicle_Full_Status': 'https://w3id.org/b4b/schemes/ext/ref-ext#RealtimeTimeseriesReference', 'https://w3id.org/b4b/schemes/ext/brick-ev#EV_Electric_Energy_Meter': 'https://w3id.org/b4b/schemes/ext/ref-ext#RealtimeTimeseriesReference', 'https://w3id.org/b4b/schemes/ext/brick-ev#EV_Charging_Session_Visual_Number': 'https://w3id.org/b4b/schemes/ext/ref-ext#RealtimeTimeseriesReference'}\n"
     ]
    },
    {
     "data": {
      "text/plain": [
       "{'brick-ev:EV_Charging_Station_ID': 'ref-ext:RealtimeTimeseriesReference',\n",
       " 'brick-ev:EV_Battery_Size': 'ref-ext:RealtimeTimeseriesReference',\n",
       " 'brick-ev:EV_Arrival_Time': 'ref-ext:RealtimeTimeseriesReference',\n",
       " 'brick-ev:EV_Departure_Time': 'ref-ext:RealtimeTimeseriesReference',\n",
       " 'brick-ev:EV_Arrival_SOC': 'ref-ext:RealtimeTimeseriesReference',\n",
       " 'brick-ev:Charging_Session_Status': 'ref-ext:RealtimeTimeseriesReference',\n",
       " 'brick-ev:Vehicle_Full_Status': 'ref-ext:RealtimeTimeseriesReference',\n",
       " 'brick-ev:EV_Electric_Energy_Meter': 'ref-ext:RealtimeTimeseriesReference',\n",
       " 'brick-ev:EV_Charging_Session_Visual_Number': 'ref-ext:RealtimeTimeseriesReference'}"
      ]
     },
     "execution_count": 203,
     "metadata": {},
     "output_type": "execute_result"
    }
   ],
   "source": [
    "query = \"\"\"\n",
    "PREFIX ref-ext: <https://w3id.org/b4b/schemes/ext/ref-ext#>\n",
    "PREFIX ref: <https://brickschema.org/schema/Brick/ref#>\n",
    "PREFIX brick: <https://brickschema.org/schema/Brick#>\n",
    "PREFIX sba: <https://w3id.org/b4b/schemes/algorithms/sba#> \n",
    "PREFIX mpc: <https://w3id.org/b4b/schemes/algorithms/mpc#> \n",
    "PREFIX forc: <https://w3id.org/b4b/schemes/algorithms/forc#> \n",
    "\n",
    "select ?input ?tsref where {\n",
    "    ?s ?p ?input .\n",
    "    FILTER(?s=sba:RealtimeFeedbackAlgorithm)\n",
    "    FILTER(?p=sba:hasInputData)\n",
    "    ?input ref:hasExternalReference ?arr .\n",
    "    ?arr a ?tsref .\n",
    "}\n",
    "    \"\"\"\n",
    "df, dplist_RealtimeFeedbackAlgorithm = generate_shape_graphs(algorithm_sparql_query=query, folder_name=\"RealtimeFeedbackAlgorithm\")\n",
    "dplist_RealtimeFeedbackAlgorithm"
   ]
  },
  {
   "cell_type": "code",
   "execution_count": 204,
   "metadata": {},
   "outputs": [],
   "source": [
    "dplist_LoadForecastAlgorithm=list(dplist_LoadForecastAlgorithm.keys())\n",
    "dplist_MPC=list(dplist_MPC.keys())\n",
    "dplist_RealtimeFeedbackAlgorithm=list(dplist_RealtimeFeedbackAlgorithm.keys())"
   ]
  },
  {
   "cell_type": "markdown",
   "metadata": {},
   "source": [
    "# Check"
   ]
  },
  {
   "cell_type": "code",
   "execution_count": null,
   "metadata": {},
   "outputs": [],
   "source": [
    "def ask_query(building_sparql_endpoint, point_list):\n",
    "\n",
    "    construct_query = \"\"\"\n",
    "    CONSTRUCT { ?s ?p ?o }\n",
    "    WHERE { ?s ?p ?o }\n",
    "    \"\"\"\n",
    "    query_params = {\n",
    "        'query': construct_query,\n",
    "        'infer': 'true' \n",
    "    }\n",
    "    headers = {\n",
    "    \"Content-Type\": \"application/sparql-query\",\n",
    "    \"Accept\": \"application/json\"\n",
    "    }\n",
    "    auth = (\"lchamari\", \"lchamari\")\n",
    "\n",
    "    response = requests.get(building_sparql_endpoint, params=query_params,  auth=auth)\n",
    "\n",
    "    if response.status_code == 200:\n",
    "        response_text = response.text\n",
    "        building2_data_graph= Graph()\n",
    "        building2_data_graph.parse(data=response_text, format=\"turtle\")\n",
    "        print(f\"Loaded {len(building2_data_graph)} tripples\")\n",
    "\n",
    "    else:\n",
    "        print(f\"Error: {response.status_code} - {response.reason}\")\n",
    "\n",
    "\n",
    "    status_dict = {}\n",
    "    for point in point_list:\n",
    "            ask_query = f\"\"\"\n",
    "            PREFIX brick-ev: <https://w3id.org/b4b/schemes/ext/brick-ev#>\n",
    "            PREFIX ref-ext: <https://w3id.org/b4b/schemes/ext/ref-ext#>\n",
    "            PREFIX ref: <https://brickschema.org/schema/Brick/ref#>\n",
    "            PREFIX brick: <https://brickschema.org/schema/Brick#>\n",
    "            PREFIX sba: <https://w3id.org/b4b/schemes/algorithms/sba#> \n",
    "            PREFIX mpc: <https://w3id.org/b4b/schemes/algorithms/mpc#> \n",
    "            PREFIX forc: <https://w3id.org/b4b/schemes/algorithms/forc#> \n",
    "\n",
    "            ASK WHERE {{\n",
    "                ?s a {point}\n",
    "            }}\n",
    "            \"\"\"\n",
    "            res = building2_data_graph.query(ask_query)\n",
    "            staus=res.askAnswer\n",
    "            status_dict[point] = staus\n",
    "    df=pd.DataFrame(status_dict.items(), columns=['Data Point', 'Status'])\n",
    "    df.sort_values(by=['Status'], ascending=False)\n",
    "    return df"
   ]
  },
  {
   "cell_type": "markdown",
   "metadata": {},
   "source": [
    "### Breda"
   ]
  },
  {
   "cell_type": "code",
   "execution_count": null,
   "metadata": {},
   "outputs": [],
   "source": [
    "breda_sparql_endpoint='http://localhost:7400/repositories/breda'"
   ]
  },
  {
   "cell_type": "code",
   "execution_count": 276,
   "metadata": {},
   "outputs": [
    {
     "name": "stdout",
     "output_type": "stream",
     "text": [
      "Loaded 605 tripples\n"
     ]
    },
    {
     "data": {
      "text/html": [
       "<div>\n",
       "<style scoped>\n",
       "    .dataframe tbody tr th:only-of-type {\n",
       "        vertical-align: middle;\n",
       "    }\n",
       "\n",
       "    .dataframe tbody tr th {\n",
       "        vertical-align: top;\n",
       "    }\n",
       "\n",
       "    .dataframe thead th {\n",
       "        text-align: right;\n",
       "    }\n",
       "</style>\n",
       "<table border=\"1\" class=\"dataframe\">\n",
       "  <thead>\n",
       "    <tr style=\"text-align: right;\">\n",
       "      <th></th>\n",
       "      <th>Data Point</th>\n",
       "      <th>Status</th>\n",
       "    </tr>\n",
       "  </thead>\n",
       "  <tbody>\n",
       "    <tr>\n",
       "      <th>0</th>\n",
       "      <td>forc:WindSpeedForecast</td>\n",
       "      <td>True</td>\n",
       "    </tr>\n",
       "    <tr>\n",
       "      <th>1</th>\n",
       "      <td>forc:SolarRadianceForecast</td>\n",
       "      <td>True</td>\n",
       "    </tr>\n",
       "    <tr>\n",
       "      <th>2</th>\n",
       "      <td>forc:OutdoorTemperatureForecast</td>\n",
       "      <td>True</td>\n",
       "    </tr>\n",
       "    <tr>\n",
       "      <th>3</th>\n",
       "      <td>brick:Building_Electrical_Meter</td>\n",
       "      <td>True</td>\n",
       "    </tr>\n",
       "    <tr>\n",
       "      <th>4</th>\n",
       "      <td>brick:Outside_Air_Temperature_Sensor</td>\n",
       "      <td>True</td>\n",
       "    </tr>\n",
       "    <tr>\n",
       "      <th>5</th>\n",
       "      <td>brick:Wind_Speed_Sensor</td>\n",
       "      <td>True</td>\n",
       "    </tr>\n",
       "    <tr>\n",
       "      <th>6</th>\n",
       "      <td>brick:Solar_Radiance_Sensor</td>\n",
       "      <td>True</td>\n",
       "    </tr>\n",
       "  </tbody>\n",
       "</table>\n",
       "</div>"
      ],
      "text/plain": [
       "                             Data Point  Status\n",
       "0                forc:WindSpeedForecast    True\n",
       "1            forc:SolarRadianceForecast    True\n",
       "2       forc:OutdoorTemperatureForecast    True\n",
       "3       brick:Building_Electrical_Meter    True\n",
       "4  brick:Outside_Air_Temperature_Sensor    True\n",
       "5               brick:Wind_Speed_Sensor    True\n",
       "6           brick:Solar_Radiance_Sensor    True"
      ]
     },
     "execution_count": 276,
     "metadata": {},
     "output_type": "execute_result"
    }
   ],
   "source": [
    "df=ask_query(breda_sparql_endpoint, dplist_LoadForecastAlgorithm)\n",
    "df"
   ]
  },
  {
   "cell_type": "code",
   "execution_count": 216,
   "metadata": {},
   "outputs": [
    {
     "data": {
      "text/plain": [
       "['forc:WindSpeedForecast',\n",
       " 'forc:SolarRadianceForecast',\n",
       " 'forc:OutdoorTemperatureForecast',\n",
       " 'brick:Building_Electrical_Meter',\n",
       " 'brick:Outside_Air_Temperature_Sensor',\n",
       " 'brick:Wind_Speed_Sensor',\n",
       " 'brick:Solar_Radiance_Sensor']"
      ]
     },
     "execution_count": 216,
     "metadata": {},
     "output_type": "execute_result"
    }
   ],
   "source": [
    "dplist_LoadForecastAlgorithm"
   ]
  },
  {
   "cell_type": "code",
   "execution_count": 217,
   "metadata": {},
   "outputs": [
    {
     "name": "stdout",
     "output_type": "stream",
     "text": [
      "Loaded 643 tripples\n"
     ]
    },
    {
     "data": {
      "text/html": [
       "<div>\n",
       "<style scoped>\n",
       "    .dataframe tbody tr th:only-of-type {\n",
       "        vertical-align: middle;\n",
       "    }\n",
       "\n",
       "    .dataframe tbody tr th {\n",
       "        vertical-align: top;\n",
       "    }\n",
       "\n",
       "    .dataframe thead th {\n",
       "        text-align: right;\n",
       "    }\n",
       "</style>\n",
       "<table border=\"1\" class=\"dataframe\">\n",
       "  <thead>\n",
       "    <tr style=\"text-align: right;\">\n",
       "      <th></th>\n",
       "      <th>Data Point</th>\n",
       "      <th>Status</th>\n",
       "    </tr>\n",
       "  </thead>\n",
       "  <tbody>\n",
       "    <tr>\n",
       "      <th>0</th>\n",
       "      <td>forc:BuildingLoadForecast</td>\n",
       "      <td>False</td>\n",
       "    </tr>\n",
       "    <tr>\n",
       "      <th>1</th>\n",
       "      <td>forc:PVForecast</td>\n",
       "      <td>True</td>\n",
       "    </tr>\n",
       "    <tr>\n",
       "      <th>2</th>\n",
       "      <td>forc:ElectricityPriceForecast</td>\n",
       "      <td>True</td>\n",
       "    </tr>\n",
       "  </tbody>\n",
       "</table>\n",
       "</div>"
      ],
      "text/plain": [
       "                      Data Point  Status\n",
       "0      forc:BuildingLoadForecast   False\n",
       "1                forc:PVForecast    True\n",
       "2  forc:ElectricityPriceForecast    True"
      ]
     },
     "execution_count": 217,
     "metadata": {},
     "output_type": "execute_result"
    }
   ],
   "source": [
    "df=ask_query(breda_sparql_endpoint, dplist_MPC)\n",
    "df"
   ]
  },
  {
   "cell_type": "code",
   "execution_count": 218,
   "metadata": {},
   "outputs": [
    {
     "name": "stdout",
     "output_type": "stream",
     "text": [
      "Loaded 643 tripples\n"
     ]
    },
    {
     "data": {
      "text/html": [
       "<div>\n",
       "<style scoped>\n",
       "    .dataframe tbody tr th:only-of-type {\n",
       "        vertical-align: middle;\n",
       "    }\n",
       "\n",
       "    .dataframe tbody tr th {\n",
       "        vertical-align: top;\n",
       "    }\n",
       "\n",
       "    .dataframe thead th {\n",
       "        text-align: right;\n",
       "    }\n",
       "</style>\n",
       "<table border=\"1\" class=\"dataframe\">\n",
       "  <thead>\n",
       "    <tr style=\"text-align: right;\">\n",
       "      <th></th>\n",
       "      <th>Data Point</th>\n",
       "      <th>Status</th>\n",
       "    </tr>\n",
       "  </thead>\n",
       "  <tbody>\n",
       "    <tr>\n",
       "      <th>0</th>\n",
       "      <td>brick-ev:EV_Charging_Station_ID</td>\n",
       "      <td>True</td>\n",
       "    </tr>\n",
       "    <tr>\n",
       "      <th>1</th>\n",
       "      <td>brick-ev:EV_Battery_Size</td>\n",
       "      <td>True</td>\n",
       "    </tr>\n",
       "    <tr>\n",
       "      <th>2</th>\n",
       "      <td>brick-ev:EV_Arrival_Time</td>\n",
       "      <td>True</td>\n",
       "    </tr>\n",
       "    <tr>\n",
       "      <th>3</th>\n",
       "      <td>brick-ev:EV_Departure_Time</td>\n",
       "      <td>True</td>\n",
       "    </tr>\n",
       "    <tr>\n",
       "      <th>4</th>\n",
       "      <td>brick-ev:EV_Arrival_SOC</td>\n",
       "      <td>True</td>\n",
       "    </tr>\n",
       "    <tr>\n",
       "      <th>5</th>\n",
       "      <td>brick-ev:Charging_Session_Status</td>\n",
       "      <td>True</td>\n",
       "    </tr>\n",
       "    <tr>\n",
       "      <th>6</th>\n",
       "      <td>brick-ev:Vehicle_Full_Status</td>\n",
       "      <td>True</td>\n",
       "    </tr>\n",
       "    <tr>\n",
       "      <th>7</th>\n",
       "      <td>brick-ev:EV_Electric_Energy_Meter</td>\n",
       "      <td>True</td>\n",
       "    </tr>\n",
       "    <tr>\n",
       "      <th>8</th>\n",
       "      <td>brick-ev:EV_Charging_Session_Visual_Number</td>\n",
       "      <td>True</td>\n",
       "    </tr>\n",
       "  </tbody>\n",
       "</table>\n",
       "</div>"
      ],
      "text/plain": [
       "                                   Data Point  Status\n",
       "0             brick-ev:EV_Charging_Station_ID    True\n",
       "1                    brick-ev:EV_Battery_Size    True\n",
       "2                    brick-ev:EV_Arrival_Time    True\n",
       "3                  brick-ev:EV_Departure_Time    True\n",
       "4                     brick-ev:EV_Arrival_SOC    True\n",
       "5            brick-ev:Charging_Session_Status    True\n",
       "6                brick-ev:Vehicle_Full_Status    True\n",
       "7           brick-ev:EV_Electric_Energy_Meter    True\n",
       "8  brick-ev:EV_Charging_Session_Visual_Number    True"
      ]
     },
     "execution_count": 218,
     "metadata": {},
     "output_type": "execute_result"
    }
   ],
   "source": [
    "df=ask_query(breda_sparql_endpoint, dplist_RealtimeFeedbackAlgorithm)\n",
    "df"
   ]
  },
  {
   "cell_type": "markdown",
   "metadata": {},
   "source": [
    "# Validate"
   ]
  },
  {
   "cell_type": "code",
   "execution_count": 236,
   "metadata": {},
   "outputs": [],
   "source": [
    "def validate_graph(data_graph, shape_graph):\n",
    "    shapes_file_format = \"turtle\"\n",
    "    data_file_format = \"turtle\"\n",
    "\n",
    "    res = pyshacl.validate(\n",
    "        data_graph=data_graph,\n",
    "        shacl_graph=shape_graph,\n",
    "        data_graph_format=data_file_format,\n",
    "        shacl_graph_format=shapes_file_format,\n",
    "        inference=\"both\",\n",
    "        debug=False\n",
    "    )\n",
    "    return res"
   ]
  },
  {
   "cell_type": "code",
   "execution_count": 237,
   "metadata": {},
   "outputs": [],
   "source": [
    "folder_names = [\"DSM-MPC\", \"LoadForecastAlgorithm\", \"RealtimeFeedbackAlgorithm\"]"
   ]
  },
  {
   "cell_type": "code",
   "execution_count": null,
   "metadata": {},
   "outputs": [
    {
     "name": "stdout",
     "output_type": "stream",
     "text": [
      "Loaded 605 tripples\n"
     ]
    }
   ],
   "source": [
    "construct_query = \"\"\"\n",
    "CONSTRUCT { ?s ?p ?o }\n",
    "WHERE { ?s ?p ?o }\n",
    "\"\"\"\n",
    "query_params = {\n",
    "    'query': construct_query,\n",
    "    'infer': 'true' \n",
    "}\n",
    "headers = {\n",
    "\"Content-Type\": \"application/sparql-query\",\n",
    "\"Accept\": \"application/json\"\n",
    "}\n",
    "auth = (\"lchamari\", \"lchamari\")\n",
    "\n",
    "response = requests.get(building_sparql_endpoint, params=query_params,  auth=auth)\n",
    "\n",
    "if response.status_code == 200:\n",
    "    response_text = response.text\n",
    "    building_data_graph= Graph()\n",
    "    building_data_graph.parse(data=response_text, format=\"turtle\")\n",
    "    print(f\"Loaded {len(building_data_graph)} tripples\")\n",
    "\n",
    "else:\n",
    "    print(f\"Error: {response.status_code} - {response.reason}\")"
   ]
  },
  {
   "cell_type": "code",
   "execution_count": 242,
   "metadata": {},
   "outputs": [],
   "source": [
    "def validate_artifact(folder_name):\n",
    "    full_text = \"\"\n",
    "    folder_path = f\"shacl\\{folder_name}\"\n",
    "    for file_name in os.listdir(folder_path):\n",
    "        if file_name.endswith('.ttl'):\n",
    "            file_path = os.path.join(folder_path, file_name)\n",
    "            temp_graph = Graph()\n",
    "            temp_graph.parse(file_path, format='turtle')\n",
    "            res = validate_graph(building_data_graph, temp_graph)\n",
    "            conforms, results_graph, results_text = res\n",
    "            full_text = full_text + file_name + \"\\n\"\n",
    "            full_text = full_text + results_text + \"\\n\"\n",
    "    with open(f\"validation/building_1/{folder_name}/validation.txt\", \"w\") as f:\n",
    "        f.write(full_text)\n",
    "    return full_text\n"
   ]
  },
  {
   "cell_type": "code",
   "execution_count": 243,
   "metadata": {},
   "outputs": [
    {
     "data": {
      "text/plain": [
       "'shape_graph_brick-ev_Charging_Session_Status.ttl\\nValidation Report\\nConforms: True\\n\\nshape_graph_brick-ev_EV_Arrival_SOC.ttl\\nValidation Report\\nConforms: True\\n\\nshape_graph_brick-ev_EV_Arrival_Time.ttl\\nValidation Report\\nConforms: True\\n\\nshape_graph_brick-ev_EV_Battery_Size.ttl\\nValidation Report\\nConforms: True\\n\\nshape_graph_brick-ev_EV_Charging_Session_Visual_Number.ttl\\nValidation Report\\nConforms: True\\n\\nshape_graph_brick-ev_EV_Charging_Station_ID.ttl\\nValidation Report\\nConforms: True\\n\\nshape_graph_brick-ev_EV_Departure_Time.ttl\\nValidation Report\\nConforms: True\\n\\nshape_graph_brick-ev_EV_Electric_Energy_Meter.ttl\\nValidation Report\\nConforms: True\\n\\nshape_graph_brick-ev_Vehicle_Full_Status.ttl\\nValidation Report\\nConforms: True\\n\\n'"
      ]
     },
     "execution_count": 243,
     "metadata": {},
     "output_type": "execute_result"
    }
   ],
   "source": [
    "validate_artifact(\"DSM-MPC\")\n",
    "validate_artifact(\"LoadForecastAlgorithm\")\n",
    "validate_artifact(\"RealtimeFeedbackAlgorithm\")"
   ]
  },
  {
   "cell_type": "markdown",
   "metadata": {},
   "source": [
    "### Building_v1"
   ]
  },
  {
   "cell_type": "code",
   "execution_count": null,
   "metadata": {},
   "outputs": [],
   "source": [
    "building_sparql_endpoint = 'http://localhost:7400/repositories/building_v1'"
   ]
  },
  {
   "cell_type": "code",
   "execution_count": null,
   "metadata": {},
   "outputs": [
    {
     "name": "stdout",
     "output_type": "stream",
     "text": [
      "Loaded 572 tripples\n"
     ]
    }
   ],
   "source": [
    "construct_query = \"\"\"\n",
    "CONSTRUCT { ?s ?p ?o }\n",
    "WHERE { ?s ?p ?o }\n",
    "\"\"\"\n",
    "query_params = {\n",
    "    'query': construct_query,\n",
    "    'infer': 'true' \n",
    "}\n",
    "headers = {\n",
    "\"Content-Type\": \"application/sparql-query\",\n",
    "\"Accept\": \"application/json\"\n",
    "}\n",
    "auth = (\"lchamari\", \"lchamari\")\n",
    "\n",
    "response = requests.get(building_sparql_endpoint, params=query_params,  auth=auth)\n",
    "\n",
    "if response.status_code == 200:\n",
    "    response_text = response.text\n",
    "    building_data_graph= Graph()\n",
    "    building_data_graph.parse(data=response_text, format=\"turtle\")\n",
    "    print(f\"Loaded {len(building_data_graph)} tripples\")\n",
    "\n",
    "else:\n",
    "    print(f\"Error: {response.status_code} - {response.reason}\")"
   ]
  },
  {
   "cell_type": "code",
   "execution_count": 246,
   "metadata": {},
   "outputs": [],
   "source": [
    "def validate_artifact(folder_name):\n",
    "    full_text = \"\"\n",
    "    folder_path = f\"shacl\\{folder_name}\"\n",
    "    for file_name in os.listdir(folder_path):\n",
    "        if file_name.endswith('.ttl'):\n",
    "            file_path = os.path.join(folder_path, file_name)\n",
    "            temp_graph = Graph()\n",
    "            temp_graph.parse(file_path, format='turtle')\n",
    "            res = validate_graph(building_data_graph, temp_graph)\n",
    "            conforms, results_graph, results_text = res\n",
    "            full_text = full_text + file_name + \"\\n\"\n",
    "            full_text = full_text + results_text + \"\\n\"\n",
    "    with open(f\"validation/building_v1/{folder_name}/validation.txt\", \"w\") as f:\n",
    "        f.write(full_text)\n",
    "    return full_text\n"
   ]
  },
  {
   "cell_type": "code",
   "execution_count": 247,
   "metadata": {},
   "outputs": [
    {
     "data": {
      "text/plain": [
       "'shape_graph_brick-ev_Charging_Session_Status.ttl\\nValidation Report\\nConforms: True\\n\\nshape_graph_brick-ev_EV_Arrival_SOC.ttl\\nValidation Report\\nConforms: True\\n\\nshape_graph_brick-ev_EV_Arrival_Time.ttl\\nValidation Report\\nConforms: True\\n\\nshape_graph_brick-ev_EV_Battery_Size.ttl\\nValidation Report\\nConforms: True\\n\\nshape_graph_brick-ev_EV_Charging_Session_Visual_Number.ttl\\nValidation Report\\nConforms: True\\n\\nshape_graph_brick-ev_EV_Charging_Station_ID.ttl\\nValidation Report\\nConforms: True\\n\\nshape_graph_brick-ev_EV_Departure_Time.ttl\\nValidation Report\\nConforms: True\\n\\nshape_graph_brick-ev_EV_Electric_Energy_Meter.ttl\\nValidation Report\\nConforms: True\\n\\nshape_graph_brick-ev_Vehicle_Full_Status.ttl\\nValidation Report\\nConforms: True\\n\\n'"
      ]
     },
     "execution_count": 247,
     "metadata": {},
     "output_type": "execute_result"
    }
   ],
   "source": [
    "validate_artifact(\"DSM-MPC\")\n",
    "validate_artifact(\"LoadForecastAlgorithm\")\n",
    "validate_artifact(\"RealtimeFeedbackAlgorithm\")"
   ]
  },
  {
   "cell_type": "markdown",
   "metadata": {},
   "source": [
    "# Configure"
   ]
  },
  {
   "cell_type": "code",
   "execution_count": null,
   "metadata": {},
   "outputs": [],
   "source": [
    "def configure_algorithm(query, building_url):\n",
    "\n",
    "    query_params = {\n",
    "        'query': query,\n",
    "        'infer': 'false' \n",
    "    }\n",
    "    headers = {\n",
    "    \"Content-Type\": \"application/sparql-query\",\n",
    "    \"Accept\": \"application/json\"\n",
    "    }\n",
    "    auth = (\"lchamari\", \"lchamari\")\n",
    "\n",
    "    response = requests.get(building_url, params=query_params,  auth=auth, headers=headers)\n",
    "\n",
    "    if response.status_code == 200:\n",
    "        response_json = response.json()\n",
    "        bindings = response_json[\"results\"][\"bindings\"]\n",
    "        data = [\n",
    "            {\n",
    "                \"WindSpeedForecast\": item.get(\"WindSpeedForecast\", {}).get(\"value\", \"\"),\n",
    "                \"SolarRadianceForecast\": item.get(\"SolarRadianceForecast\", {}).get(\"value\", \"\"),\n",
    "                \"OutdoorTemperatureForecast\": item.get(\"OutdoorTemperatureForecast\", {}).get(\"value\", \"\"),\n",
    "                \"BuildingLoad\": item.get(\"BuildingLoad\", {}).get(\"value\", \"\") ,\n",
    "                \"OutdoorTemperature\": item.get(\"OutdoorTemperature\", {}).get(\"value\", \"\") ,\n",
    "                \"WindSpeed\": item.get(\"WindSpeed\", {}).get(\"value\", \"\") ,\n",
    "                \"SolarRadiance\": item.get(\"SolarRadiance\", {}).get(\"value\", \"\"),\n",
    "            }\n",
    "            for item in bindings\n",
    "        ]\n",
    "        df=pd.DataFrame(data)\n",
    "\n",
    "    return df"
   ]
  },
  {
   "cell_type": "markdown",
   "metadata": {},
   "source": [
    "##### Forecasting service"
   ]
  },
  {
   "cell_type": "code",
   "execution_count": 321,
   "metadata": {},
   "outputs": [],
   "source": [
    "query=\"\"\" PREFIX ref-ext: <https://w3id.org/b4b/schemes/ext/ref-ext#>\n",
    "PREFIX ref: <https://brickschema.org/schema/Brick/ref#>\n",
    "PREFIX brick: <https://brickschema.org/schema/Brick#>\n",
    "PREFIX sba: <https://w3id.org/b4b/schemes/algorithms/sba#> \n",
    "PREFIX mpc: <https://w3id.org/b4b/schemes/algorithms/mpc#> \n",
    "PREFIX forc: <https://w3id.org/b4b/schemes/algorithms/forc#> \n",
    "\n",
    "SELECT ?WindSpeedForecast ?SolarRadianceForecast ?OutdoorTemperatureForecast ?BuildingLoad ?OutdoorTemperature ?WindSpeed ?SolarRadiance where { \n",
    " \n",
    "?windForc a  forc:WindSpeedForecast .\n",
    "?windForc  ref:hasExternalReference ?windForcExt .\n",
    "?windForcExt ref-ext:hasForecastTimeseriesId ?WindSpeedForecast .\n",
    "\n",
    "?ghiForc a  forc:SolarRadianceForecast .\n",
    "?ghiForc  ref:hasExternalReference ?ghiForcExt .\n",
    "?ghiForcExt ref-ext:hasForecastTimeseriesId ?SolarRadianceForecast .\n",
    "\n",
    "?tempForc a  forc:OutdoorTemperatureForecast .\n",
    "?tempForc  ref:hasExternalReference ?tempForcExt .\n",
    "?tempForcExt ref-ext:hasForecastTimeseriesId ?OutdoorTemperatureForecast .\n",
    "\n",
    "?bLoad a  brick:Building_Electrical_Meter .\n",
    "?bLoad  ref:hasExternalReference ?bLoadExt .\n",
    "?bLoadExt ref-ext:hasHistoricalTimeseriesId ?BuildingLoad .\n",
    "\n",
    "?temp a  brick:Outside_Air_Temperature_Sensor .\n",
    "?temp  ref:hasExternalReference ?tempExt .\n",
    "?tempExt ref-ext:hasHistoricalTimeseriesId ?OutdoorTemperature .\n",
    "\n",
    "?windSp a  brick:Wind_Speed_Sensor .\n",
    "?windSp  ref:hasExternalReference ?windSpExt .\n",
    "?windSpExt ref-ext:hasHistoricalTimeseriesId ?WindSpeed .\n",
    "\n",
    "?ghi a  brick:Solar_Radiance_Sensor .\n",
    "?ghi  ref:hasExternalReference ?ghiExt .\n",
    "?ghiExt ref-ext:hasHistoricalTimeseriesId ?SolarRadiance .\n",
    "    \n",
    "} \"\"\""
   ]
  },
  {
   "cell_type": "code",
   "execution_count": 332,
   "metadata": {},
   "outputs": [
    {
     "name": "stdout",
     "output_type": "stream",
     "text": [
      "['WindSpeedForecast=3ede3817d96d7bb87865eaa7ac657860.Value', 'SolarRadianceForecast=3ede3817d96d7bb87865eaa7ac657860.Value', 'OutdoorTemperatureForecast=3ede3817d96d7bb87865eaa7ac657860.Value', 'BuildingLoad=f30ca6c6d2b3111dee9066951e270141.Value', 'OutdoorTemperature=a683b494a806af9a8da4d35ae99ba763.Value', 'WindSpeed=a683b494a806af9a8da4d35ae99ba763.Value', 'SolarRadiance=a683b494a806af9a8da4d35ae99ba763.Value']\n"
     ]
    }
   ],
   "source": [
    "df = configure_algorithm(query, breda_sparql_endpoint)\n",
    "data = df.to_dict(orient='records')\n",
    "lines = [f\"{key}={value}\" for key, value in data[0].items()]\n",
    "print(lines)\n",
    "\n",
    "file_path = \"config/LoadForecastAlgorithm/forecast.env\"\n",
    "\n",
    "with open(file_path, \"w\") as file:\n",
    "    file.write(\"\\n\".join(lines))"
   ]
  },
  {
   "cell_type": "markdown",
   "metadata": {},
   "source": [
    "##### Realtime Feedback"
   ]
  },
  {
   "cell_type": "code",
   "execution_count": null,
   "metadata": {},
   "outputs": [],
   "source": [
    "def configure_feedback_algorithm(query, building_url):\n",
    "\n",
    "    query_params = {\n",
    "        'query': query,\n",
    "        'infer': 'false' \n",
    "    }\n",
    "    headers = {\n",
    "    \"Content-Type\": \"application/sparql-query\",\n",
    "    \"Accept\": \"application/json\"\n",
    "    }\n",
    "    auth = (\"lchamari\", \"lchamari\")\n",
    "\n",
    "    response = requests.get(building_url, params=query_params,  auth=auth, headers=headers)\n",
    "\n",
    "    if response.status_code == 200:\n",
    "        response_json = response.json()\n",
    "        bindings = response_json[\"results\"][\"bindings\"]\n",
    "        print(bindings)\n",
    "    return bindings"
   ]
  },
  {
   "cell_type": "code",
   "execution_count": 348,
   "metadata": {},
   "outputs": [],
   "source": [
    "query=\"\"\"PREFIX ref-ext: <https://w3id.org/b4b/schemes/ext/ref-ext#>\n",
    "PREFIX ref: <https://brickschema.org/schema/Brick/ref#>\n",
    "PREFIX brick: <https://brickschema.org/schema/Brick#>\n",
    "PREFIX brick-ev: <https://w3id.org/b4b/schemes/ext/brick-ev#>\n",
    "PREFIX sba: <https://w3id.org/b4b/schemes/algorithms/sba#> \n",
    "PREFIX mpc: <https://w3id.org/b4b/schemes/algorithms/mpc#> \n",
    "PREFIX forc: <https://w3id.org/b4b/schemes/algorithms/forc#> \n",
    "\n",
    "SELECT DISTINCT ?chrgStId ?timeArrId ?timeDeptId ?arrivalSOCId ?evBatId ?vFullId ?chrgStatusId ?energyId ?visualNumId\n",
    "where { \n",
    "    \n",
    "?s a brick:Electric_Vehicle_Charging_Port .\n",
    "#?s eva:physical_reference \"2\" .\n",
    "?s brick:hasPoint ?chrgSt, ?timeArr, ?timeDept, ?arrivalSOC, ?evBat, ?vFull, ?chrgStatus, ?energy, ?visualNum .\n",
    "    \n",
    "?chrgSt a brick-ev:EV_Charging_Station_ID .\n",
    "?chrgSt  ref:hasExternalReference ?chrgStExt .\n",
    "?chrgStExt ref-ext:hasRealtimeTimeseriesId ?chrgStId .\n",
    "        \n",
    "?timeArr a brick-ev:EV_Arrival_Time .\n",
    "?timeArr  ref:hasExternalReference ?timeArrExt .\n",
    "?timeArrExt ref-ext:hasRealtimeTimeseriesId ?timeArrId .\n",
    "    \n",
    "?timeDept a brick-ev:EV_Departure_Time .\n",
    "?timeDept  ref:hasExternalReference ?timeDeptExt .\n",
    "?timeDeptExt ref-ext:hasRealtimeTimeseriesId ?timeDeptId .\n",
    "    \n",
    "?arrivalSOC a brick-ev:EV_Arrival_SOC .\n",
    "?arrivalSOC  ref:hasExternalReference ?arrivalSOCExt .\n",
    "?arrivalSOCExt ref-ext:hasRealtimeTimeseriesId ?arrivalSOCId .\n",
    "\n",
    "?evBat a brick-ev:EV_Battery_Size .\n",
    "?evBat  ref:hasExternalReference ?evBatExt .\n",
    "?evBatExt ref-ext:hasRealtimeTimeseriesId ?evBatId .\n",
    "\n",
    "?vFull a brick-ev:Vehicle_Full_Status .\n",
    "?vFull  ref:hasExternalReference ?vFullExt .\n",
    "?vFullExt ref-ext:hasRealtimeTimeseriesId ?vFullId .\n",
    "\n",
    "?vFull a brick-ev:Vehicle_Full_Status .\n",
    "?vFull  ref:hasExternalReference ?vFullExt .\n",
    "?vFullExt ref-ext:hasRealtimeTimeseriesId ?vFullId .\n",
    "\n",
    "?chrgStatus a brick-ev:Charging_Session_Status .\n",
    "?chrgStatus  ref:hasExternalReference ?chrgStatusExt .\n",
    "?chrgStatusExt ref-ext:hasRealtimeTimeseriesId ?chrgStatusId .\n",
    "        \n",
    "?energy a brick-ev:EV_Electric_Energy_Meter .\n",
    "?energy  ref:hasExternalReference ?energyExt .\n",
    "?energyExt ref-ext:hasRealtimeTimeseriesId ?energyId .\n",
    "\n",
    "?visualNum a brick-ev:EV_Charging_Session_Visual_Number .\n",
    "?visualNum  ref:hasExternalReference ?visualNumExt .\n",
    "?visualNumExt ref-ext:hasRealtimeTimeseriesId ?visualNumId .\n",
    "\n",
    "}\"\"\""
   ]
  },
  {
   "cell_type": "code",
   "execution_count": 366,
   "metadata": {},
   "outputs": [
    {
     "name": "stdout",
     "output_type": "stream",
     "text": [
      "[{'chrgStId': {'type': 'literal', 'value': '1'}, 'timeArrId': {'type': 'literal', 'value': 'evse/welkomkropman'}, 'timeDeptId': {'type': 'literal', 'value': 'evse/welkomkropman'}, 'arrivalSOCId': {'type': 'literal', 'value': 'evse/welkomkropman'}, 'evBatId': {'type': 'literal', 'value': 'evse/welkomkropman'}, 'vFullId': {'type': 'literal', 'value': '759ca9cc4f3bf8f552084d67f25d4589.vehicle_full_date'}, 'chrgStatusId': {'type': 'literal', 'value': '759ca9cc4f3bf8f552084d67f25d4589.status'}, 'energyId': {'type': 'literal', 'value': '759ca9cc4f3bf8f552084d67f25d45899.kwh'}, 'visualNumId': {'type': 'literal', 'value': '759ca9cc4f3bf8f552084d67f25d4589.visual_number'}}, {'chrgStId': {'type': 'literal', 'value': '2'}, 'timeArrId': {'type': 'literal', 'value': 'evse/welkomkropman'}, 'timeDeptId': {'type': 'literal', 'value': 'evse/welkomkropman'}, 'arrivalSOCId': {'type': 'literal', 'value': 'evse/welkomkropman'}, 'evBatId': {'type': 'literal', 'value': 'evse/welkomkropman'}, 'vFullId': {'type': 'literal', 'value': '1cb94c6d3ecd7c90b08317ad11121a31.vehicle_full_date'}, 'chrgStatusId': {'type': 'literal', 'value': '1cb94c6d3ecd7c90b08317ad11121a31.status'}, 'energyId': {'type': 'literal', 'value': '1cb94c6d3ecd7c90b08317ad11121a31c.kwh'}, 'visualNumId': {'type': 'literal', 'value': '1cb94c6d3ecd7c90b08317ad11121a31.visual_number'}}, {'chrgStId': {'type': 'literal', 'value': '3'}, 'timeArrId': {'type': 'literal', 'value': 'evse/welkomkropman'}, 'timeDeptId': {'type': 'literal', 'value': 'evse/welkomkropman'}, 'arrivalSOCId': {'type': 'literal', 'value': 'evse/welkomkropman'}, 'evBatId': {'type': 'literal', 'value': 'evse/welkomkropman'}, 'vFullId': {'type': 'literal', 'value': 'f10dc57115f3546ff2ccb745362c73c9.vehicle_full_date'}, 'chrgStatusId': {'type': 'literal', 'value': 'f10dc57115f3546ff2ccb745362c73c9.status'}, 'energyId': {'type': 'literal', 'value': 'f10dc57115f3546ff2ccb745362c73c96.kwh'}, 'visualNumId': {'type': 'literal', 'value': 'f10dc57115f3546ff2ccb745362c73c9.visual_number'}}, {'chrgStId': {'type': 'literal', 'value': '4'}, 'timeArrId': {'type': 'literal', 'value': 'evse/welkomkropman'}, 'timeDeptId': {'type': 'literal', 'value': 'evse/welkomkropman'}, 'arrivalSOCId': {'type': 'literal', 'value': 'evse/welkomkropman'}, 'evBatId': {'type': 'literal', 'value': 'evse/welkomkropman'}, 'vFullId': {'type': 'literal', 'value': '83a9cd04a4852e57bc3918762d1a049f.vehicle_full_date'}, 'chrgStatusId': {'type': 'literal', 'value': '83a9cd04a4852e57bc3918762d1a049f.status'}, 'energyId': {'type': 'literal', 'value': '83a9cd04a4852e57bc3918762d1a049f3.kwh'}, 'visualNumId': {'type': 'literal', 'value': '83a9cd04a4852e57bc3918762d1a049f.visual_number'}}]\n"
     ]
    }
   ],
   "source": [
    "data = configure_feedback_algorithm(query, breda_sparql_endpoint)\n",
    "lines1 = [f\"{key}1={value['value']}\" for key, value in data[0].items()]\n",
    "lines2 = [f\"{key}2={value['value']}\" for key, value in data[1].items()]\n",
    "lines3 = [f\"{key}3={value['value']}\" for key, value in data[2].items()]\n",
    "lines4 = [f\"{key}4={value['value']}\" for key, value in data[3].items()]\n",
    "\n",
    "file_path1 = \"config/RealtimeFeedbackAlgorithm/feedback_1.env\"\n",
    "file_path2 = \"config/RealtimeFeedbackAlgorithm/feedback_2.env\"\n",
    "file_path3 = \"config/RealtimeFeedbackAlgorithm/feedback_3.env\"\n",
    "file_path4 = \"config/RealtimeFeedbackAlgorithm/feedback_4.env\"\n",
    "\n",
    "with open(file_path1, \"w\") as file:\n",
    "    file.write(\"\\n\".join(lines1))\n",
    "with open(file_path2, \"w\") as file:\n",
    "    file.write(\"\\n\".join(lines2))\n",
    "with open(file_path3, \"w\") as file:\n",
    "    file.write(\"\\n\".join(lines3))\n",
    "with open(file_path4, \"w\") as file:\n",
    "    file.write(\"\\n\".join(lines4))\n",
    "\n",
    "input_files = [\"config/RealtimeFeedbackAlgorithm/feedback_1.env\", \"config/RealtimeFeedbackAlgorithm/feedback_2.env\", \n",
    "               \"config/RealtimeFeedbackAlgorithm/feedback_3.env\", \"config/RealtimeFeedbackAlgorithm/feedback_4.env\"]\n",
    "\n",
    "output_file = \"config/RealtimeFeedbackAlgorithm/feedback.env\"\n",
    "\n",
    "with open(output_file, \"w\") as outfile:\n",
    "    for file in input_files:\n",
    "        with open(file, \"r\") as infile:\n",
    "            outfile.write(infile.read()) \n",
    "            outfile.write(\"\\n\")\n"
   ]
  }
 ],
 "metadata": {
  "kernelspec": {
   "display_name": "venv",
   "language": "python",
   "name": "python3"
  },
  "language_info": {
   "codemirror_mode": {
    "name": "ipython",
    "version": 3
   },
   "file_extension": ".py",
   "mimetype": "text/x-python",
   "name": "python",
   "nbconvert_exporter": "python",
   "pygments_lexer": "ipython3",
   "version": "3.11.2"
  }
 },
 "nbformat": 4,
 "nbformat_minor": 2
}
