{
 "cells": [
  {
   "cell_type": "code",
   "execution_count": 191,
   "metadata": {},
   "outputs": [],
   "source": [
    "# %pip install python-dotenv\n",
    "# %pip install pandas\n",
    "# %pip install requests\n",
    "# %pip install pyshacl\n",
    "# %pip install brickschema"
   ]
  },
  {
   "cell_type": "code",
   "execution_count": 97,
   "metadata": {},
   "outputs": [],
   "source": [
    "import requests\n",
    "import pandas as pd\n",
    "from rdflib import Graph\n",
    "import os\n",
    "import pyshacl\n",
    "import json\n",
    "from pandas import DataFrame\n"
   ]
  },
  {
   "cell_type": "code",
   "execution_count": 98,
   "metadata": {},
   "outputs": [],
   "source": [
    "prefixes = {\n",
    "    'brick:': 'https://brickschema.org/schema/Brick#',\n",
    "    'ref:': 'https://brickschema.org/schema/Brick/ref#',\n",
    "    'ref-ext:': 'https://w3id.org/b4b/schemes/ext/ref-ext#',\n",
    "    'sba:': 'https://w3id.org/b4b/schemes/algorithms/sba#', \n",
    "    'mpc:': 'https://w3id.org/b4b/schemes/algorithms/mpc#', \n",
    "    'forc:': 'https://w3id.org/b4b/schemes/algorithms/forc#', \n",
    "    'brick-ev:': '<https://w3id.org/b4b/schemes/ext/brick-ev#>',\n",
    "    'brick-ext:': '<https://w3id.org/b4b/schemes/ext/brick-ext#>',\n",
    "}"
   ]
  },
  {
   "cell_type": "code",
   "execution_count": 99,
   "metadata": {},
   "outputs": [],
   "source": [
    "def do_prefixes(data):\n",
    "    if type(data) is list:\n",
    "        for i, item in enumerate(data):\n",
    "            for prefix, uri in prefixes.items():\n",
    "                if item.startswith(uri):\n",
    "                    data[i] = item.replace(uri, prefix)\n",
    "                    break\n",
    "\n",
    "    elif type(data) is DataFrame:\n",
    "        for prefix, uri in prefixes.items():\n",
    "            data.columns = [col.replace(uri, prefix) for col in data.columns]\n",
    "    return data"
   ]
  },
  {
   "cell_type": "code",
   "execution_count": 100,
   "metadata": {},
   "outputs": [],
   "source": [
    "def semantic_query(endpoint, query, headers=None, auth=None, infer=False):   \n",
    "    \"\"\"\n",
    "    Executes a SPARQL query against the specified endpoint.\n",
    "    \n",
    "    :param endpoint: The SPARQL endpoint URL.\n",
    "    :param query: The SPARQL query string.\n",
    "    :param headers: Optional headers for the request.\n",
    "    :param auth: Optional authentication tuple (username, password).\n",
    "    :return: The response from the SPARQL endpoint.\n",
    "    \"\"\"\n",
    "    headers = {\n",
    "    \"Content-Type\": \"application/sparql-query\",\n",
    "    \"Accept\": \"application/json\"}\n",
    "\n",
    "    auth = (\"lchamari\", \"lchamari\")\n",
    "\n",
    "    query_params = {\n",
    "    'query': query,\n",
    "    'infer': infer}\n",
    "\n",
    "    response = requests.get(endpoint, params=query_params, headers=headers, auth=auth)\n",
    "    if response.status_code != 200:\n",
    "        raise Exception(f\"SPARQL query failed with status code {response.status_code}: {response.text}\")\n",
    "    try:\n",
    "        response_json = response.json()\n",
    "    except json.JSONDecodeError:\n",
    "        raise Exception(\"Failed to parse response from SPARQL endpoint. Response content: \" + response.text)\n",
    "    response_graph = Graph()\n",
    "    response_graph.parse(data=response.text, format='json-ld')\n",
    "    return response_json\n",
    "\n",
    "\n"
   ]
  },
  {
   "cell_type": "markdown",
   "metadata": {},
   "source": [
    "# Querying Schemas"
   ]
  },
  {
   "cell_type": "code",
   "execution_count": 173,
   "metadata": {},
   "outputs": [],
   "source": [
    "sparql_endpoint = 'https://graphdb.bimsim.app/repositories/Smart_charging_MPC_Schemas'"
   ]
  },
  {
   "cell_type": "markdown",
   "metadata": {},
   "source": [
    "## Forecast Inputs"
   ]
  },
  {
   "cell_type": "code",
   "execution_count": 174,
   "metadata": {},
   "outputs": [
    {
     "data": {
      "text/plain": [
       "['https://brickschema.org/schema/Brick#Building_Electrical_Meter',\n",
       " 'https://brickschema.org/schema/Brick#Building_Electrical_Meter',\n",
       " 'https://brickschema.org/schema/Brick#Building_Electrical_Meter',\n",
       " 'https://brickschema.org/schema/Brick#Building_Electrical_Meter',\n",
       " 'https://brickschema.org/schema/Brick#Building_Electrical_Meter',\n",
       " 'https://brickschema.org/schema/Brick#Building_Electrical_Meter',\n",
       " 'https://brickschema.org/schema/Brick#Outside_Air_Temperature_Sensor',\n",
       " 'https://brickschema.org/schema/Brick#Outside_Air_Temperature_Sensor',\n",
       " 'https://brickschema.org/schema/Brick#Outside_Air_Temperature_Sensor',\n",
       " 'https://brickschema.org/schema/Brick#Outside_Air_Temperature_Sensor',\n",
       " 'https://brickschema.org/schema/Brick#Outside_Air_Temperature_Sensor',\n",
       " 'https://brickschema.org/schema/Brick#Outside_Air_Temperature_Sensor',\n",
       " 'https://brickschema.org/schema/Brick#Wind_Speed_Sensor',\n",
       " 'https://brickschema.org/schema/Brick#Wind_Speed_Sensor',\n",
       " 'https://brickschema.org/schema/Brick#Wind_Speed_Sensor',\n",
       " 'https://brickschema.org/schema/Brick#Wind_Speed_Sensor',\n",
       " 'https://brickschema.org/schema/Brick#Wind_Speed_Sensor',\n",
       " 'https://brickschema.org/schema/Brick#Wind_Speed_Sensor',\n",
       " 'https://brickschema.org/schema/Brick#Solar_Radiance_Sensor',\n",
       " 'https://brickschema.org/schema/Brick#Solar_Radiance_Sensor',\n",
       " 'https://brickschema.org/schema/Brick#Solar_Radiance_Sensor',\n",
       " 'https://brickschema.org/schema/Brick#Solar_Radiance_Sensor',\n",
       " 'https://brickschema.org/schema/Brick#Solar_Radiance_Sensor',\n",
       " 'https://brickschema.org/schema/Brick#Solar_Radiance_Sensor',\n",
       " 'https://w3id.org/b4b/schemes/algorithms/forc#OutdoorTemperatureForecast',\n",
       " 'https://w3id.org/b4b/schemes/algorithms/forc#OutdoorTemperatureForecast',\n",
       " 'https://w3id.org/b4b/schemes/algorithms/forc#OutdoorTemperatureForecast',\n",
       " 'https://w3id.org/b4b/schemes/algorithms/forc#OutdoorTemperatureForecast',\n",
       " 'https://w3id.org/b4b/schemes/algorithms/forc#OutdoorTemperatureForecast',\n",
       " 'https://w3id.org/b4b/schemes/algorithms/forc#OutdoorTemperatureForecast',\n",
       " 'https://w3id.org/b4b/schemes/algorithms/forc#WindSpeedForecast',\n",
       " 'https://w3id.org/b4b/schemes/algorithms/forc#WindSpeedForecast',\n",
       " 'https://w3id.org/b4b/schemes/algorithms/forc#WindSpeedForecast',\n",
       " 'https://w3id.org/b4b/schemes/algorithms/forc#WindSpeedForecast',\n",
       " 'https://w3id.org/b4b/schemes/algorithms/forc#WindSpeedForecast',\n",
       " 'https://w3id.org/b4b/schemes/algorithms/forc#WindSpeedForecast',\n",
       " 'https://w3id.org/b4b/schemes/algorithms/forc#SolarRadianceForecast',\n",
       " 'https://w3id.org/b4b/schemes/algorithms/forc#SolarRadianceForecast',\n",
       " 'https://w3id.org/b4b/schemes/algorithms/forc#SolarRadianceForecast',\n",
       " 'https://w3id.org/b4b/schemes/algorithms/forc#SolarRadianceForecast',\n",
       " 'https://w3id.org/b4b/schemes/algorithms/forc#SolarRadianceForecast',\n",
       " 'https://w3id.org/b4b/schemes/algorithms/forc#SolarRadianceForecast']"
      ]
     },
     "execution_count": 174,
     "metadata": {},
     "output_type": "execute_result"
    }
   ],
   "source": [
    "# sparql_endpoint = 'https://graphdb.bimsim.app/repositories/breda_plus_schemas'\n",
    "\n",
    "query = \"\"\"\n",
    "PREFIX ref-ext: <https://w3id.org/b4b/schemes/ext/ref-ext#>\n",
    "PREFIX ref: <https://brickschema.org/schema/Brick/ref#>\n",
    "PREFIX brick: <https://brickschema.org/schema/Brick#>\n",
    "PREFIX sba: <https://w3id.org/b4b/schemes/algorithms/sba#> \n",
    "PREFIX mpc: <https://w3id.org/b4b/schemes/algorithms/mpc#> \n",
    "PREFIX forc: <https://w3id.org/b4b/schemes/algorithms/forc#> \n",
    "\n",
    "select ?input ?tsref where {\n",
    "    ?s ?p ?input .\n",
    "    FILTER(?s=sba:LoadForecastAlgorithm)\n",
    "    FILTER(?p=sba:hasInput)\n",
    "    ?input ref:hasExternalReference ?arr .\n",
    "    ?arr a ?tsref .\n",
    "}\n",
    "    \"\"\"\n",
    "result = semantic_query(sparql_endpoint, query, infer=True)\n",
    "forc_inputs = [binding['input']['value'] for binding in result['results']['bindings']]\n",
    "# forc_inputs=do_prefixes(inputs)\n",
    "forc_inputs\n"
   ]
  },
  {
   "cell_type": "markdown",
   "metadata": {},
   "source": [
    "## MPC constraints"
   ]
  },
  {
   "cell_type": "code",
   "execution_count": 175,
   "metadata": {},
   "outputs": [
    {
     "data": {
      "text/plain": [
       "['https://w3id.org/b4b/schemes/ext/brick-ev#Minimum_Charging_Current_Setpoint',\n",
       " 'https://w3id.org/b4b/schemes/ext/brick-ev#Maximum_Charging_Current_Setpoint']"
      ]
     },
     "execution_count": 175,
     "metadata": {},
     "output_type": "execute_result"
    }
   ],
   "source": [
    "q2 = \"\"\"\n",
    "PREFIX ref-ext: <https://w3id.org/b4b/schemes/ext/ref-ext#>\n",
    "PREFIX brick-ev: <https://w3id.org/b4b/schemes/ext/brick-ev#>\n",
    "PREFIX brick-ext: <https://w3id.org/b4b/schemes/ext/brick-ext#>\n",
    "PREFIX ref: <https://brickschema.org/schema/Brick/ref#>\n",
    "PREFIX brick: <https://brickschema.org/schema/Brick#>\n",
    "PREFIX sba: <https://w3id.org/b4b/schemes/algorithms/sba#> \n",
    "PREFIX mpc: <https://w3id.org/b4b/schemes/algorithms/mpc#> \n",
    "PREFIX forc: <https://w3id.org/b4b/schemes/algorithms/forc#> \n",
    "\n",
    "select ?input ?tsref where {\n",
    "    ?s ?p ?input .\n",
    "    FILTER(?s=mpc:Smart_Charging_MPC_Constraints_Algorithm)\n",
    "    FILTER(?p=sba:hasInput)\n",
    "}\n",
    "    \"\"\"\n",
    "result = semantic_query(sparql_endpoint, q2, infer=True)\n",
    "constraints_inputs = [binding['input']['value'] for binding in result['results']['bindings']]\n",
    "# constraints_inputs=do_prefixes(inputs)\n",
    "constraints_inputs"
   ]
  },
  {
   "cell_type": "markdown",
   "metadata": {},
   "source": [
    "## Feedback Inputs"
   ]
  },
  {
   "cell_type": "code",
   "execution_count": 176,
   "metadata": {},
   "outputs": [
    {
     "data": {
      "text/plain": [
       "['https://w3id.org/b4b/schemes/ext/brick-ev#EV_Charging_Station_ID',\n",
       " 'https://w3id.org/b4b/schemes/ext/brick-ev#EV_Charging_Station_ID',\n",
       " 'https://w3id.org/b4b/schemes/ext/brick-ev#EV_Arrival_Time',\n",
       " 'https://w3id.org/b4b/schemes/ext/brick-ev#EV_Arrival_Time',\n",
       " 'https://w3id.org/b4b/schemes/ext/brick-ev#EV_Departure_Time',\n",
       " 'https://w3id.org/b4b/schemes/ext/brick-ev#EV_Departure_Time',\n",
       " 'https://w3id.org/b4b/schemes/ext/brick-ev#EV_Arrival_SOC',\n",
       " 'https://w3id.org/b4b/schemes/ext/brick-ev#EV_Arrival_SOC',\n",
       " 'https://w3id.org/b4b/schemes/ext/brick-ev#EV_Battery_Size',\n",
       " 'https://w3id.org/b4b/schemes/ext/brick-ev#EV_Battery_Size',\n",
       " 'https://w3id.org/b4b/schemes/ext/brick-ev#Vehicle_Full_Status',\n",
       " 'https://w3id.org/b4b/schemes/ext/brick-ev#Vehicle_Full_Status',\n",
       " 'https://w3id.org/b4b/schemes/ext/brick-ev#Charging_Session_Status',\n",
       " 'https://w3id.org/b4b/schemes/ext/brick-ev#Charging_Session_Status',\n",
       " 'https://w3id.org/b4b/schemes/ext/brick-ev#EV_Electric_Energy_Meter',\n",
       " 'https://w3id.org/b4b/schemes/ext/brick-ev#EV_Electric_Energy_Meter',\n",
       " 'https://w3id.org/b4b/schemes/ext/brick-ev#EV_Charging_Session_Visual_Number',\n",
       " 'https://w3id.org/b4b/schemes/ext/brick-ev#EV_Charging_Session_Visual_Number']"
      ]
     },
     "execution_count": 176,
     "metadata": {},
     "output_type": "execute_result"
    }
   ],
   "source": [
    "q3 = \"\"\"\n",
    "PREFIX ref-ext: <https://w3id.org/b4b/schemes/ext/ref-ext#>\n",
    "PREFIX brick-ev: <https://w3id.org/b4b/schemes/ext/brick-ev#>\n",
    "PREFIX brick-ext: <https://w3id.org/b4b/schemes/ext/brick-ext#>\n",
    "PREFIX ref: <https://brickschema.org/schema/Brick/ref#>\n",
    "PREFIX brick: <https://brickschema.org/schema/Brick#>\n",
    "PREFIX sba: <https://w3id.org/b4b/schemes/algorithms/sba#> \n",
    "PREFIX mpc: <https://w3id.org/b4b/schemes/algorithms/mpc#> \n",
    "PREFIX forc: <https://w3id.org/b4b/schemes/algorithms/forc#> \n",
    "\n",
    "select DISTINCT ?input ?tsref where {\n",
    "    ?s ?p ?input .\n",
    "    FILTER(?s=mpc:EVRealtimeFeedbackAlgorithm)\n",
    "    FILTER(?p=sba:hasInputData)\n",
    "    ?input ref:hasExternalReference ?arr .\n",
    "    ?arr a ?tsref .\n",
    "}\n",
    "    \"\"\"\n",
    "result = semantic_query(sparql_endpoint, q3, infer=True)\n",
    "feedback_inputs = [binding['input']['value'] for binding in result['results']['bindings']]\n",
    "# feedback_inputs=do_prefixes(inputs)\n",
    "feedback_inputs"
   ]
  },
  {
   "cell_type": "markdown",
   "metadata": {},
   "source": [
    "## Static Parameter estimation"
   ]
  },
  {
   "cell_type": "code",
   "execution_count": 177,
   "metadata": {},
   "outputs": [
    {
     "data": {
      "text/plain": [
       "['https://w3id.org/b4b/schemes/ext/brick-ev#Charger_Voltage_Rating',\n",
       " 'https://w3id.org/b4b/schemes/ext/brick-ev#Charger_Power_Rating',\n",
       " 'https://w3id.org/b4b/schemes/ext/brick-ext#Power_Factor',\n",
       " 'https://w3id.org/b4b/schemes/algorithms/sba#BuildingPowerContract']"
      ]
     },
     "execution_count": 177,
     "metadata": {},
     "output_type": "execute_result"
    }
   ],
   "source": [
    "q4 = \"\"\"\n",
    "PREFIX ref-ext: <https://w3id.org/b4b/schemes/ext/ref-ext#>\n",
    "PREFIX brick-ev: <https://w3id.org/b4b/schemes/ext/brick-ev#>\n",
    "PREFIX brick-ext: <https://w3id.org/b4b/schemes/ext/brick-ext#>\n",
    "PREFIX ref: <https://brickschema.org/schema/Brick/ref#>\n",
    "PREFIX brick: <https://brickschema.org/schema/Brick#>\n",
    "PREFIX sba: <https://w3id.org/b4b/schemes/algorithms/sba#> \n",
    "PREFIX mpc: <https://w3id.org/b4b/schemes/algorithms/mpc#> \n",
    "PREFIX forc: <https://w3id.org/b4b/schemes/algorithms/forc#> \n",
    "\n",
    "select ?input ?tsref where {\n",
    "    ?s ?p ?input .\n",
    "    FILTER(?s=mpc:StaticParameterEstimationAlgorithm)\n",
    "    FILTER(?p=sba:hasInput)\n",
    "}\n",
    "    \"\"\"\n",
    "result = semantic_query(sparql_endpoint, q4, infer=True)\n",
    "static_param_inputs = [binding['input']['value'] for binding in result['results']['bindings']]\n",
    "# static_param_inputs=do_prefixes(inputs)\n",
    "static_param_inputs"
   ]
  },
  {
   "cell_type": "markdown",
   "metadata": {},
   "source": [
    "## Dynamic Parameter estimation"
   ]
  },
  {
   "cell_type": "code",
   "execution_count": 178,
   "metadata": {},
   "outputs": [
    {
     "data": {
      "text/plain": [
       "['https://w3id.org/b4b/schemes/ext/brick-ev#EV_Electric_Energy_Meter',\n",
       " 'https://w3id.org/b4b/schemes/ext/brick-ev#EV_Electric_Power_Sensor']"
      ]
     },
     "execution_count": 178,
     "metadata": {},
     "output_type": "execute_result"
    }
   ],
   "source": [
    "q5 = \"\"\"\n",
    "PREFIX ref-ext: <https://w3id.org/b4b/schemes/ext/ref-ext#>\n",
    "PREFIX brick-ev: <https://w3id.org/b4b/schemes/ext/brick-ev#>\n",
    "PREFIX brick-ext: <https://w3id.org/b4b/schemes/ext/brick-ext#>\n",
    "PREFIX ref: <https://brickschema.org/schema/Brick/ref#>\n",
    "PREFIX brick: <https://brickschema.org/schema/Brick#>\n",
    "PREFIX sba: <https://w3id.org/b4b/schemes/algorithms/sba#> \n",
    "PREFIX mpc: <https://w3id.org/b4b/schemes/algorithms/mpc#> \n",
    "PREFIX forc: <https://w3id.org/b4b/schemes/algorithms/forc#> \n",
    "\n",
    "select ?input ?tsref where {\n",
    "    ?s ?p ?input .\n",
    "    FILTER(?s=mpc:DynamicParameterEstimationAlgorithm)\n",
    "    FILTER(?p=sba:hasInput)\n",
    "}\n",
    "    \"\"\"\n",
    "result = semantic_query(sparql_endpoint, q5, infer=True)\n",
    "dynamic_param_inputs = [binding['input']['value'] for binding in result['results']['bindings']]\n",
    "# dynamic_param_inputs=do_prefixes(inputs)\n",
    "dynamic_param_inputs"
   ]
  },
  {
   "cell_type": "markdown",
   "metadata": {},
   "source": [
    "## Estate estimation"
   ]
  },
  {
   "cell_type": "code",
   "execution_count": 179,
   "metadata": {},
   "outputs": [
    {
     "data": {
      "text/plain": [
       "['https://w3id.org/b4b/schemes/ext/brick-ev#EV_Charging_Station_ID',\n",
       " 'https://w3id.org/b4b/schemes/ext/brick-ev#EV_Arrival_Time',\n",
       " 'https://w3id.org/b4b/schemes/ext/brick-ev#EV_Departure_Time',\n",
       " 'https://w3id.org/b4b/schemes/ext/brick-ev#EV_Arrival_SOC',\n",
       " 'https://w3id.org/b4b/schemes/ext/brick-ev#EV_Battery_Size',\n",
       " 'https://w3id.org/b4b/schemes/ext/brick-ev#Vehicle_Full_Status',\n",
       " 'https://w3id.org/b4b/schemes/ext/brick-ev#Charging_Session_Status',\n",
       " 'https://w3id.org/b4b/schemes/ext/brick-ev#EV_Electric_Energy_Meter',\n",
       " 'https://w3id.org/b4b/schemes/ext/brick-ev#EV_Charging_Session_Visual_Number',\n",
       " 'https://w3id.org/b4b/schemes/ext/brick-ev#EV_Load_Current_Sensor']"
      ]
     },
     "execution_count": 179,
     "metadata": {},
     "output_type": "execute_result"
    }
   ],
   "source": [
    "q6 = \"\"\"\n",
    "PREFIX ref-ext: <https://w3id.org/b4b/schemes/ext/ref-ext#>\n",
    "PREFIX brick-ev: <https://w3id.org/b4b/schemes/ext/brick-ev#>\n",
    "PREFIX brick-ext: <https://w3id.org/b4b/schemes/ext/brick-ext#>\n",
    "PREFIX ref: <https://brickschema.org/schema/Brick/ref#>\n",
    "PREFIX brick: <https://brickschema.org/schema/Brick#>\n",
    "PREFIX sba: <https://w3id.org/b4b/schemes/algorithms/sba#> \n",
    "PREFIX mpc: <https://w3id.org/b4b/schemes/algorithms/mpc#> \n",
    "PREFIX forc: <https://w3id.org/b4b/schemes/algorithms/forc#> \n",
    "\n",
    "select ?input ?tsref where {\n",
    "    ?s ?p ?input .\n",
    "    FILTER(?s=mpc:EVStateEstimationAlgorithm)\n",
    "    FILTER(?p=sba:hasInput)\n",
    "}\n",
    "    \"\"\"\n",
    "result = semantic_query(sparql_endpoint, q6, infer=True)\n",
    "state_inputs = [binding['input']['value'] for binding in result['results']['bindings']]\n",
    "# state_inputs=do_prefixes(inputs)\n",
    "state_inputs"
   ]
  },
  {
   "cell_type": "markdown",
   "metadata": {},
   "source": [
    "## Send setpoints"
   ]
  },
  {
   "cell_type": "code",
   "execution_count": 180,
   "metadata": {},
   "outputs": [
    {
     "data": {
      "text/plain": [
       "['https://w3id.org/b4b/schemes/ext/brick-ev#MinimumEVChargingCurrentSetpoint',\n",
       " 'https://w3id.org/b4b/schemes/ext/brick-ev#MaximumEVChargingCurrentSetpoint',\n",
       " 'https://w3id.org/b4b/schemes/ext/brick-ev#EVChargingCurrentSetpoint']"
      ]
     },
     "execution_count": 180,
     "metadata": {},
     "output_type": "execute_result"
    }
   ],
   "source": [
    "q7 = \"\"\"\n",
    "PREFIX ref-ext: <https://w3id.org/b4b/schemes/ext/ref-ext#>\n",
    "PREFIX brick-ev: <https://w3id.org/b4b/schemes/ext/brick-ev#>\n",
    "PREFIX brick-ext: <https://w3id.org/b4b/schemes/ext/brick-ext#>\n",
    "PREFIX ref: <https://brickschema.org/schema/Brick/ref#>\n",
    "PREFIX brick: <https://brickschema.org/schema/Brick#>\n",
    "PREFIX sba: <https://w3id.org/b4b/schemes/algorithms/sba#> \n",
    "PREFIX mpc: <https://w3id.org/b4b/schemes/algorithms/mpc#> \n",
    "PREFIX forc: <https://w3id.org/b4b/schemes/algorithms/forc#> \n",
    "\n",
    "select ?input ?tsref where {\n",
    "    ?s ?p ?input .\n",
    "    FILTER(?s=mpc:EVChargingCurrentSetpointCommunication)\n",
    "    FILTER(?p=sba:hasInput)\n",
    "}\n",
    "    \"\"\"\n",
    "result = semantic_query(sparql_endpoint, q7, infer=True)\n",
    "setpoint_inputs = [binding['input']['value'] for binding in result['results']['bindings']]\n",
    "# setpoint_inputs=do_prefixes(inputs)\n",
    "setpoint_inputs"
   ]
  },
  {
   "cell_type": "markdown",
   "metadata": {},
   "source": [
    "# Check Availability"
   ]
  },
  {
   "cell_type": "code",
   "execution_count": 181,
   "metadata": {},
   "outputs": [],
   "source": [
    "def ask_query(building_sparql_endpoint, inputs):\n",
    "\n",
    "    construct_query = \"\"\"\n",
    "    CONSTRUCT { ?s ?p ?o }\n",
    "    WHERE { ?s ?p ?o }\n",
    "    \"\"\"\n",
    "    query_params = {\n",
    "        'query': construct_query,\n",
    "        'infer': 'true' \n",
    "    }\n",
    "    headers = {\n",
    "    \"Content-Type\": \"application/sparql-query\",\n",
    "    \"Accept\": \"application/json\"\n",
    "    }\n",
    "    auth = (\"lchamari\", \"lchamari\")\n",
    "\n",
    "    response = requests.get(building_sparql_endpoint, params=query_params,  auth=auth)\n",
    "\n",
    "    if response.status_code == 200:\n",
    "        response_text = response.text\n",
    "        building2_data_graph= Graph()\n",
    "        building2_data_graph.parse(data=response_text, format=\"turtle\")\n",
    "        print(f\"Loaded {len(building2_data_graph)} tripples\")\n",
    "\n",
    "    else:\n",
    "        print(f\"Error: {response.status_code} - {response.reason}\")\n",
    "\n",
    "\n",
    "    status_dict = {}\n",
    "    for point in inputs:\n",
    "            if point.startswith(\"http\"):\n",
    "                class_expr = f\"<{point}>\"\n",
    "            else:\n",
    "                class_expr = point\n",
    "            ask_query = f\"\"\"\n",
    "            PREFIX brick-ext: <https://w3id.org/b4b/schemes/ext/brick-ext#>\n",
    "            PREFIX ref-ext: <https://w3id.org/b4b/schemes/ext/ref-ext#>\n",
    "            PREFIX ref: <https://brickschema.org/schema/Brick/ref#>\n",
    "            PREFIX brick: <https://brickschema.org/schema/Brick#>\n",
    "            PREFIX sba: <https://w3id.org/b4b/schemes/algorithms/sba#> \n",
    "            PREFIX mpc: <https://w3id.org/b4b/schemes/algorithms/mpc#> \n",
    "            PREFIX forc: <https://w3id.org/b4b/schemes/algorithms/forc#> \n",
    "            PREFIX brick-ev: <https://w3id.org/b4b/schemes/ext/brick-ev#>\n",
    "            ASK WHERE {{\n",
    "                ?s a {class_expr}\n",
    "            }}\n",
    "            \"\"\"\n",
    "            res = building2_data_graph.query(ask_query)\n",
    "            staus=res.askAnswer\n",
    "            status_dict[point] = staus\n",
    "    df=pd.DataFrame(status_dict.items(), columns=['Data Point', 'Status'])\n",
    "    df.sort_values(by=['Status'], ascending=False)\n",
    "    return df"
   ]
  },
  {
   "cell_type": "markdown",
   "metadata": {},
   "source": [
    "### Breda"
   ]
  },
  {
   "cell_type": "code",
   "execution_count": 182,
   "metadata": {},
   "outputs": [],
   "source": [
    "# breda_sparql_endpoint='https://graphdb.bimsim.app/repositories/breda'\n",
    "breda_sparql_endpoint='https://graphdb.bimsim.app/repositories/building_v1'"
   ]
  },
  {
   "cell_type": "code",
   "execution_count": null,
   "metadata": {},
   "outputs": [],
   "source": []
  },
  {
   "cell_type": "code",
   "execution_count": 183,
   "metadata": {},
   "outputs": [
    {
     "name": "stdout",
     "output_type": "stream",
     "text": [
      "Loaded 719 tripples\n"
     ]
    },
    {
     "data": {
      "text/html": [
       "<div>\n",
       "<style scoped>\n",
       "    .dataframe tbody tr th:only-of-type {\n",
       "        vertical-align: middle;\n",
       "    }\n",
       "\n",
       "    .dataframe tbody tr th {\n",
       "        vertical-align: top;\n",
       "    }\n",
       "\n",
       "    .dataframe thead th {\n",
       "        text-align: right;\n",
       "    }\n",
       "</style>\n",
       "<table border=\"1\" class=\"dataframe\">\n",
       "  <thead>\n",
       "    <tr style=\"text-align: right;\">\n",
       "      <th></th>\n",
       "      <th>Data Point</th>\n",
       "      <th>Status</th>\n",
       "    </tr>\n",
       "  </thead>\n",
       "  <tbody>\n",
       "    <tr>\n",
       "      <th>0</th>\n",
       "      <td>https://brickschema.org/schema/Brick#Building_...</td>\n",
       "      <td>True</td>\n",
       "    </tr>\n",
       "    <tr>\n",
       "      <th>1</th>\n",
       "      <td>https://brickschema.org/schema/Brick#Outside_A...</td>\n",
       "      <td>False</td>\n",
       "    </tr>\n",
       "    <tr>\n",
       "      <th>2</th>\n",
       "      <td>https://brickschema.org/schema/Brick#Wind_Spee...</td>\n",
       "      <td>True</td>\n",
       "    </tr>\n",
       "    <tr>\n",
       "      <th>3</th>\n",
       "      <td>https://brickschema.org/schema/Brick#Solar_Rad...</td>\n",
       "      <td>True</td>\n",
       "    </tr>\n",
       "    <tr>\n",
       "      <th>4</th>\n",
       "      <td>https://w3id.org/b4b/schemes/algorithms/forc#O...</td>\n",
       "      <td>True</td>\n",
       "    </tr>\n",
       "    <tr>\n",
       "      <th>5</th>\n",
       "      <td>https://w3id.org/b4b/schemes/algorithms/forc#W...</td>\n",
       "      <td>True</td>\n",
       "    </tr>\n",
       "    <tr>\n",
       "      <th>6</th>\n",
       "      <td>https://w3id.org/b4b/schemes/algorithms/forc#S...</td>\n",
       "      <td>True</td>\n",
       "    </tr>\n",
       "  </tbody>\n",
       "</table>\n",
       "</div>"
      ],
      "text/plain": [
       "                                          Data Point  Status\n",
       "0  https://brickschema.org/schema/Brick#Building_...    True\n",
       "1  https://brickschema.org/schema/Brick#Outside_A...   False\n",
       "2  https://brickschema.org/schema/Brick#Wind_Spee...    True\n",
       "3  https://brickschema.org/schema/Brick#Solar_Rad...    True\n",
       "4  https://w3id.org/b4b/schemes/algorithms/forc#O...    True\n",
       "5  https://w3id.org/b4b/schemes/algorithms/forc#W...    True\n",
       "6  https://w3id.org/b4b/schemes/algorithms/forc#S...    True"
      ]
     },
     "execution_count": 183,
     "metadata": {},
     "output_type": "execute_result"
    }
   ],
   "source": [
    "df=ask_query(breda_sparql_endpoint, inputs=forc_inputs)\n",
    "df"
   ]
  },
  {
   "cell_type": "code",
   "execution_count": 184,
   "metadata": {},
   "outputs": [
    {
     "name": "stdout",
     "output_type": "stream",
     "text": [
      "Loaded 719 tripples\n"
     ]
    },
    {
     "data": {
      "text/html": [
       "<div>\n",
       "<style scoped>\n",
       "    .dataframe tbody tr th:only-of-type {\n",
       "        vertical-align: middle;\n",
       "    }\n",
       "\n",
       "    .dataframe tbody tr th {\n",
       "        vertical-align: top;\n",
       "    }\n",
       "\n",
       "    .dataframe thead th {\n",
       "        text-align: right;\n",
       "    }\n",
       "</style>\n",
       "<table border=\"1\" class=\"dataframe\">\n",
       "  <thead>\n",
       "    <tr style=\"text-align: right;\">\n",
       "      <th></th>\n",
       "      <th>Data Point</th>\n",
       "      <th>Status</th>\n",
       "    </tr>\n",
       "  </thead>\n",
       "  <tbody>\n",
       "    <tr>\n",
       "      <th>0</th>\n",
       "      <td>https://w3id.org/b4b/schemes/ext/brick-ev#Mini...</td>\n",
       "      <td>True</td>\n",
       "    </tr>\n",
       "    <tr>\n",
       "      <th>1</th>\n",
       "      <td>https://w3id.org/b4b/schemes/ext/brick-ev#Maxi...</td>\n",
       "      <td>True</td>\n",
       "    </tr>\n",
       "  </tbody>\n",
       "</table>\n",
       "</div>"
      ],
      "text/plain": [
       "                                          Data Point  Status\n",
       "0  https://w3id.org/b4b/schemes/ext/brick-ev#Mini...    True\n",
       "1  https://w3id.org/b4b/schemes/ext/brick-ev#Maxi...    True"
      ]
     },
     "execution_count": 184,
     "metadata": {},
     "output_type": "execute_result"
    }
   ],
   "source": [
    "df=ask_query(breda_sparql_endpoint, inputs=constraints_inputs)\n",
    "df"
   ]
  },
  {
   "cell_type": "code",
   "execution_count": 185,
   "metadata": {},
   "outputs": [
    {
     "name": "stdout",
     "output_type": "stream",
     "text": [
      "Loaded 719 tripples\n"
     ]
    },
    {
     "data": {
      "text/html": [
       "<div>\n",
       "<style scoped>\n",
       "    .dataframe tbody tr th:only-of-type {\n",
       "        vertical-align: middle;\n",
       "    }\n",
       "\n",
       "    .dataframe tbody tr th {\n",
       "        vertical-align: top;\n",
       "    }\n",
       "\n",
       "    .dataframe thead th {\n",
       "        text-align: right;\n",
       "    }\n",
       "</style>\n",
       "<table border=\"1\" class=\"dataframe\">\n",
       "  <thead>\n",
       "    <tr style=\"text-align: right;\">\n",
       "      <th></th>\n",
       "      <th>Data Point</th>\n",
       "      <th>Status</th>\n",
       "    </tr>\n",
       "  </thead>\n",
       "  <tbody>\n",
       "    <tr>\n",
       "      <th>0</th>\n",
       "      <td>https://w3id.org/b4b/schemes/ext/brick-ev#EV_C...</td>\n",
       "      <td>True</td>\n",
       "    </tr>\n",
       "    <tr>\n",
       "      <th>1</th>\n",
       "      <td>https://w3id.org/b4b/schemes/ext/brick-ev#EV_A...</td>\n",
       "      <td>True</td>\n",
       "    </tr>\n",
       "    <tr>\n",
       "      <th>2</th>\n",
       "      <td>https://w3id.org/b4b/schemes/ext/brick-ev#EV_D...</td>\n",
       "      <td>False</td>\n",
       "    </tr>\n",
       "    <tr>\n",
       "      <th>3</th>\n",
       "      <td>https://w3id.org/b4b/schemes/ext/brick-ev#EV_A...</td>\n",
       "      <td>True</td>\n",
       "    </tr>\n",
       "    <tr>\n",
       "      <th>4</th>\n",
       "      <td>https://w3id.org/b4b/schemes/ext/brick-ev#EV_B...</td>\n",
       "      <td>True</td>\n",
       "    </tr>\n",
       "    <tr>\n",
       "      <th>5</th>\n",
       "      <td>https://w3id.org/b4b/schemes/ext/brick-ev#Vehi...</td>\n",
       "      <td>True</td>\n",
       "    </tr>\n",
       "    <tr>\n",
       "      <th>6</th>\n",
       "      <td>https://w3id.org/b4b/schemes/ext/brick-ev#Char...</td>\n",
       "      <td>True</td>\n",
       "    </tr>\n",
       "    <tr>\n",
       "      <th>7</th>\n",
       "      <td>https://w3id.org/b4b/schemes/ext/brick-ev#EV_E...</td>\n",
       "      <td>True</td>\n",
       "    </tr>\n",
       "    <tr>\n",
       "      <th>8</th>\n",
       "      <td>https://w3id.org/b4b/schemes/ext/brick-ev#EV_C...</td>\n",
       "      <td>True</td>\n",
       "    </tr>\n",
       "  </tbody>\n",
       "</table>\n",
       "</div>"
      ],
      "text/plain": [
       "                                          Data Point  Status\n",
       "0  https://w3id.org/b4b/schemes/ext/brick-ev#EV_C...    True\n",
       "1  https://w3id.org/b4b/schemes/ext/brick-ev#EV_A...    True\n",
       "2  https://w3id.org/b4b/schemes/ext/brick-ev#EV_D...   False\n",
       "3  https://w3id.org/b4b/schemes/ext/brick-ev#EV_A...    True\n",
       "4  https://w3id.org/b4b/schemes/ext/brick-ev#EV_B...    True\n",
       "5  https://w3id.org/b4b/schemes/ext/brick-ev#Vehi...    True\n",
       "6  https://w3id.org/b4b/schemes/ext/brick-ev#Char...    True\n",
       "7  https://w3id.org/b4b/schemes/ext/brick-ev#EV_E...    True\n",
       "8  https://w3id.org/b4b/schemes/ext/brick-ev#EV_C...    True"
      ]
     },
     "execution_count": 185,
     "metadata": {},
     "output_type": "execute_result"
    }
   ],
   "source": [
    "df=ask_query(breda_sparql_endpoint, inputs=feedback_inputs)\n",
    "df"
   ]
  },
  {
   "cell_type": "code",
   "execution_count": 186,
   "metadata": {},
   "outputs": [
    {
     "name": "stdout",
     "output_type": "stream",
     "text": [
      "Loaded 719 tripples\n"
     ]
    },
    {
     "data": {
      "text/html": [
       "<div>\n",
       "<style scoped>\n",
       "    .dataframe tbody tr th:only-of-type {\n",
       "        vertical-align: middle;\n",
       "    }\n",
       "\n",
       "    .dataframe tbody tr th {\n",
       "        vertical-align: top;\n",
       "    }\n",
       "\n",
       "    .dataframe thead th {\n",
       "        text-align: right;\n",
       "    }\n",
       "</style>\n",
       "<table border=\"1\" class=\"dataframe\">\n",
       "  <thead>\n",
       "    <tr style=\"text-align: right;\">\n",
       "      <th></th>\n",
       "      <th>Data Point</th>\n",
       "      <th>Status</th>\n",
       "    </tr>\n",
       "  </thead>\n",
       "  <tbody>\n",
       "    <tr>\n",
       "      <th>0</th>\n",
       "      <td>https://w3id.org/b4b/schemes/ext/brick-ev#Char...</td>\n",
       "      <td>True</td>\n",
       "    </tr>\n",
       "    <tr>\n",
       "      <th>1</th>\n",
       "      <td>https://w3id.org/b4b/schemes/ext/brick-ev#Char...</td>\n",
       "      <td>True</td>\n",
       "    </tr>\n",
       "    <tr>\n",
       "      <th>2</th>\n",
       "      <td>https://w3id.org/b4b/schemes/ext/brick-ext#Pow...</td>\n",
       "      <td>True</td>\n",
       "    </tr>\n",
       "    <tr>\n",
       "      <th>3</th>\n",
       "      <td>https://w3id.org/b4b/schemes/algorithms/sba#Bu...</td>\n",
       "      <td>False</td>\n",
       "    </tr>\n",
       "  </tbody>\n",
       "</table>\n",
       "</div>"
      ],
      "text/plain": [
       "                                          Data Point  Status\n",
       "0  https://w3id.org/b4b/schemes/ext/brick-ev#Char...    True\n",
       "1  https://w3id.org/b4b/schemes/ext/brick-ev#Char...    True\n",
       "2  https://w3id.org/b4b/schemes/ext/brick-ext#Pow...    True\n",
       "3  https://w3id.org/b4b/schemes/algorithms/sba#Bu...   False"
      ]
     },
     "execution_count": 186,
     "metadata": {},
     "output_type": "execute_result"
    }
   ],
   "source": [
    "df=ask_query(breda_sparql_endpoint, inputs=static_param_inputs)\n",
    "df"
   ]
  },
  {
   "cell_type": "code",
   "execution_count": 187,
   "metadata": {},
   "outputs": [
    {
     "name": "stdout",
     "output_type": "stream",
     "text": [
      "Loaded 719 tripples\n"
     ]
    },
    {
     "data": {
      "text/html": [
       "<div>\n",
       "<style scoped>\n",
       "    .dataframe tbody tr th:only-of-type {\n",
       "        vertical-align: middle;\n",
       "    }\n",
       "\n",
       "    .dataframe tbody tr th {\n",
       "        vertical-align: top;\n",
       "    }\n",
       "\n",
       "    .dataframe thead th {\n",
       "        text-align: right;\n",
       "    }\n",
       "</style>\n",
       "<table border=\"1\" class=\"dataframe\">\n",
       "  <thead>\n",
       "    <tr style=\"text-align: right;\">\n",
       "      <th></th>\n",
       "      <th>Data Point</th>\n",
       "      <th>Status</th>\n",
       "    </tr>\n",
       "  </thead>\n",
       "  <tbody>\n",
       "    <tr>\n",
       "      <th>0</th>\n",
       "      <td>https://w3id.org/b4b/schemes/ext/brick-ev#EV_E...</td>\n",
       "      <td>True</td>\n",
       "    </tr>\n",
       "    <tr>\n",
       "      <th>1</th>\n",
       "      <td>https://w3id.org/b4b/schemes/ext/brick-ev#EV_E...</td>\n",
       "      <td>True</td>\n",
       "    </tr>\n",
       "  </tbody>\n",
       "</table>\n",
       "</div>"
      ],
      "text/plain": [
       "                                          Data Point  Status\n",
       "0  https://w3id.org/b4b/schemes/ext/brick-ev#EV_E...    True\n",
       "1  https://w3id.org/b4b/schemes/ext/brick-ev#EV_E...    True"
      ]
     },
     "execution_count": 187,
     "metadata": {},
     "output_type": "execute_result"
    }
   ],
   "source": [
    "df=ask_query(breda_sparql_endpoint, inputs=dynamic_param_inputs)\n",
    "df"
   ]
  },
  {
   "cell_type": "code",
   "execution_count": 188,
   "metadata": {},
   "outputs": [
    {
     "name": "stdout",
     "output_type": "stream",
     "text": [
      "Loaded 719 tripples\n"
     ]
    },
    {
     "data": {
      "text/html": [
       "<div>\n",
       "<style scoped>\n",
       "    .dataframe tbody tr th:only-of-type {\n",
       "        vertical-align: middle;\n",
       "    }\n",
       "\n",
       "    .dataframe tbody tr th {\n",
       "        vertical-align: top;\n",
       "    }\n",
       "\n",
       "    .dataframe thead th {\n",
       "        text-align: right;\n",
       "    }\n",
       "</style>\n",
       "<table border=\"1\" class=\"dataframe\">\n",
       "  <thead>\n",
       "    <tr style=\"text-align: right;\">\n",
       "      <th></th>\n",
       "      <th>Data Point</th>\n",
       "      <th>Status</th>\n",
       "    </tr>\n",
       "  </thead>\n",
       "  <tbody>\n",
       "    <tr>\n",
       "      <th>0</th>\n",
       "      <td>https://w3id.org/b4b/schemes/ext/brick-ev#EV_C...</td>\n",
       "      <td>True</td>\n",
       "    </tr>\n",
       "    <tr>\n",
       "      <th>1</th>\n",
       "      <td>https://w3id.org/b4b/schemes/ext/brick-ev#EV_A...</td>\n",
       "      <td>True</td>\n",
       "    </tr>\n",
       "    <tr>\n",
       "      <th>2</th>\n",
       "      <td>https://w3id.org/b4b/schemes/ext/brick-ev#EV_D...</td>\n",
       "      <td>False</td>\n",
       "    </tr>\n",
       "    <tr>\n",
       "      <th>3</th>\n",
       "      <td>https://w3id.org/b4b/schemes/ext/brick-ev#EV_A...</td>\n",
       "      <td>True</td>\n",
       "    </tr>\n",
       "    <tr>\n",
       "      <th>4</th>\n",
       "      <td>https://w3id.org/b4b/schemes/ext/brick-ev#EV_B...</td>\n",
       "      <td>True</td>\n",
       "    </tr>\n",
       "    <tr>\n",
       "      <th>5</th>\n",
       "      <td>https://w3id.org/b4b/schemes/ext/brick-ev#Vehi...</td>\n",
       "      <td>True</td>\n",
       "    </tr>\n",
       "    <tr>\n",
       "      <th>6</th>\n",
       "      <td>https://w3id.org/b4b/schemes/ext/brick-ev#Char...</td>\n",
       "      <td>True</td>\n",
       "    </tr>\n",
       "    <tr>\n",
       "      <th>7</th>\n",
       "      <td>https://w3id.org/b4b/schemes/ext/brick-ev#EV_E...</td>\n",
       "      <td>True</td>\n",
       "    </tr>\n",
       "    <tr>\n",
       "      <th>8</th>\n",
       "      <td>https://w3id.org/b4b/schemes/ext/brick-ev#EV_C...</td>\n",
       "      <td>True</td>\n",
       "    </tr>\n",
       "    <tr>\n",
       "      <th>9</th>\n",
       "      <td>https://w3id.org/b4b/schemes/ext/brick-ev#EV_L...</td>\n",
       "      <td>True</td>\n",
       "    </tr>\n",
       "  </tbody>\n",
       "</table>\n",
       "</div>"
      ],
      "text/plain": [
       "                                          Data Point  Status\n",
       "0  https://w3id.org/b4b/schemes/ext/brick-ev#EV_C...    True\n",
       "1  https://w3id.org/b4b/schemes/ext/brick-ev#EV_A...    True\n",
       "2  https://w3id.org/b4b/schemes/ext/brick-ev#EV_D...   False\n",
       "3  https://w3id.org/b4b/schemes/ext/brick-ev#EV_A...    True\n",
       "4  https://w3id.org/b4b/schemes/ext/brick-ev#EV_B...    True\n",
       "5  https://w3id.org/b4b/schemes/ext/brick-ev#Vehi...    True\n",
       "6  https://w3id.org/b4b/schemes/ext/brick-ev#Char...    True\n",
       "7  https://w3id.org/b4b/schemes/ext/brick-ev#EV_E...    True\n",
       "8  https://w3id.org/b4b/schemes/ext/brick-ev#EV_C...    True\n",
       "9  https://w3id.org/b4b/schemes/ext/brick-ev#EV_L...    True"
      ]
     },
     "execution_count": 188,
     "metadata": {},
     "output_type": "execute_result"
    }
   ],
   "source": [
    "df=ask_query(breda_sparql_endpoint, inputs=state_inputs)\n",
    "df"
   ]
  },
  {
   "cell_type": "code",
   "execution_count": 189,
   "metadata": {},
   "outputs": [
    {
     "name": "stdout",
     "output_type": "stream",
     "text": [
      "Loaded 719 tripples\n"
     ]
    },
    {
     "data": {
      "text/html": [
       "<div>\n",
       "<style scoped>\n",
       "    .dataframe tbody tr th:only-of-type {\n",
       "        vertical-align: middle;\n",
       "    }\n",
       "\n",
       "    .dataframe tbody tr th {\n",
       "        vertical-align: top;\n",
       "    }\n",
       "\n",
       "    .dataframe thead th {\n",
       "        text-align: right;\n",
       "    }\n",
       "</style>\n",
       "<table border=\"1\" class=\"dataframe\">\n",
       "  <thead>\n",
       "    <tr style=\"text-align: right;\">\n",
       "      <th></th>\n",
       "      <th>Data Point</th>\n",
       "      <th>Status</th>\n",
       "    </tr>\n",
       "  </thead>\n",
       "  <tbody>\n",
       "    <tr>\n",
       "      <th>0</th>\n",
       "      <td>https://w3id.org/b4b/schemes/ext/brick-ev#Mini...</td>\n",
       "      <td>False</td>\n",
       "    </tr>\n",
       "    <tr>\n",
       "      <th>1</th>\n",
       "      <td>https://w3id.org/b4b/schemes/ext/brick-ev#Maxi...</td>\n",
       "      <td>False</td>\n",
       "    </tr>\n",
       "    <tr>\n",
       "      <th>2</th>\n",
       "      <td>https://w3id.org/b4b/schemes/ext/brick-ev#EVCh...</td>\n",
       "      <td>False</td>\n",
       "    </tr>\n",
       "  </tbody>\n",
       "</table>\n",
       "</div>"
      ],
      "text/plain": [
       "                                          Data Point  Status\n",
       "0  https://w3id.org/b4b/schemes/ext/brick-ev#Mini...   False\n",
       "1  https://w3id.org/b4b/schemes/ext/brick-ev#Maxi...   False\n",
       "2  https://w3id.org/b4b/schemes/ext/brick-ev#EVCh...   False"
      ]
     },
     "execution_count": 189,
     "metadata": {},
     "output_type": "execute_result"
    }
   ],
   "source": [
    "df=ask_query(breda_sparql_endpoint, inputs=setpoint_inputs)\n",
    "df"
   ]
  },
  {
   "cell_type": "markdown",
   "metadata": {},
   "source": [
    "###  Configurations"
   ]
  },
  {
   "cell_type": "code",
   "execution_count": 190,
   "metadata": {},
   "outputs": [],
   "source": [
    "sparql_endpoint = 'https://graphdb.bimsim.app/repositories/building_v1'"
   ]
  },
  {
   "cell_type": "code",
   "execution_count": 191,
   "metadata": {},
   "outputs": [],
   "source": [
    "def do_config(query):\n",
    "    result = semantic_query(sparql_endpoint, query, infer=True)\n",
    "    vars = result['head']['vars']\n",
    "    bindings = result['results']['bindings']\n",
    "    data = []\n",
    "    for binding in bindings:\n",
    "        row = {var: binding[var]['value'] for var in vars}\n",
    "        data.append(row)\n",
    "    df = pd.DataFrame(data)\n",
    "    return df"
   ]
  },
  {
   "cell_type": "markdown",
   "metadata": {},
   "source": [
    "### Constraints"
   ]
  },
  {
   "cell_type": "code",
   "execution_count": 192,
   "metadata": {},
   "outputs": [
    {
     "data": {
      "text/html": [
       "<div>\n",
       "<style scoped>\n",
       "    .dataframe tbody tr th:only-of-type {\n",
       "        vertical-align: middle;\n",
       "    }\n",
       "\n",
       "    .dataframe tbody tr th {\n",
       "        vertical-align: top;\n",
       "    }\n",
       "\n",
       "    .dataframe thead th {\n",
       "        text-align: right;\n",
       "    }\n",
       "</style>\n",
       "<table border=\"1\" class=\"dataframe\">\n",
       "  <thead>\n",
       "    <tr style=\"text-align: right;\">\n",
       "      <th></th>\n",
       "      <th>Imin</th>\n",
       "      <th>Imax</th>\n",
       "    </tr>\n",
       "  </thead>\n",
       "  <tbody>\n",
       "    <tr>\n",
       "      <th>0</th>\n",
       "      <td>6</td>\n",
       "      <td>16</td>\n",
       "    </tr>\n",
       "  </tbody>\n",
       "</table>\n",
       "</div>"
      ],
      "text/plain": [
       "  Imin Imax\n",
       "0    6   16"
      ]
     },
     "execution_count": 192,
     "metadata": {},
     "output_type": "execute_result"
    }
   ],
   "source": [
    "query = \"\"\"\n",
    "PREFIX ref-ext: <https://w3id.org/b4b/schemes/ext/ref-ext#>\n",
    "PREFIX ref: <https://brickschema.org/schema/Brick/ref#>\n",
    "PREFIX brick: <https://brickschema.org/schema/Brick#>\n",
    "PREFIX brick-ev: <https://w3id.org/b4b/schemes/ext/brick-ev#>\n",
    "PREFIX sba: <https://w3id.org/b4b/schemes/algorithms/sba#> \n",
    "PREFIX mpc: <https://w3id.org/b4b/schemes/algorithms/mpc#> \n",
    "PREFIX forc: <https://w3id.org/b4b/schemes/algorithms/forc#> \n",
    "\n",
    "SELECT DISTINCT ?Imin ?Imax\n",
    "WHERE { \n",
    "    \n",
    "?s a brick:Electric_Vehicle_Charging_Port .\n",
    "?s  brick-ev:hasMinimumChargingCurrent ?Iminref.\n",
    "?Iminref brick:value ?Imin .\n",
    "\n",
    "?s a brick:Electric_Vehicle_Charging_Port .\n",
    "?s  brick-ev:hasMaximumChargingCurrent ?Imaxref.\n",
    "?Imaxref brick:value ?Imax .\n",
    "}\n",
    "    \"\"\"\n",
    "df = do_config(query)\n",
    "df"
   ]
  },
  {
   "cell_type": "markdown",
   "metadata": {},
   "source": [
    "### Static params"
   ]
  },
  {
   "cell_type": "code",
   "execution_count": 193,
   "metadata": {},
   "outputs": [
    {
     "data": {
      "text/html": [
       "<div>\n",
       "<style scoped>\n",
       "    .dataframe tbody tr th:only-of-type {\n",
       "        vertical-align: middle;\n",
       "    }\n",
       "\n",
       "    .dataframe tbody tr th {\n",
       "        vertical-align: top;\n",
       "    }\n",
       "\n",
       "    .dataframe thead th {\n",
       "        text-align: right;\n",
       "    }\n",
       "</style>\n",
       "<table border=\"1\" class=\"dataframe\">\n",
       "  <thead>\n",
       "    <tr style=\"text-align: right;\">\n",
       "      <th></th>\n",
       "      <th>chrgStId</th>\n",
       "      <th>PowerRating</th>\n",
       "      <th>Powerunits</th>\n",
       "      <th>Vcharger</th>\n",
       "      <th>Vunits</th>\n",
       "      <th>BuildingContract</th>\n",
       "      <th>BuildingContractUnits</th>\n",
       "    </tr>\n",
       "  </thead>\n",
       "  <tbody>\n",
       "    <tr>\n",
       "      <th>0</th>\n",
       "      <td>1</td>\n",
       "      <td>11</td>\n",
       "      <td>http://qudt.org/vocab/unit/KiloW</td>\n",
       "      <td>230</td>\n",
       "      <td>http://qudt.org/vocab/unit/Volt</td>\n",
       "      <td>61</td>\n",
       "      <td>http://qudt.org/vocab/unit/KiloW</td>\n",
       "    </tr>\n",
       "    <tr>\n",
       "      <th>1</th>\n",
       "      <td>2</td>\n",
       "      <td>11</td>\n",
       "      <td>http://qudt.org/vocab/unit/KiloW</td>\n",
       "      <td>230</td>\n",
       "      <td>http://qudt.org/vocab/unit/Volt</td>\n",
       "      <td>61</td>\n",
       "      <td>http://qudt.org/vocab/unit/KiloW</td>\n",
       "    </tr>\n",
       "    <tr>\n",
       "      <th>2</th>\n",
       "      <td>3</td>\n",
       "      <td>11</td>\n",
       "      <td>http://qudt.org/vocab/unit/KiloW</td>\n",
       "      <td>230</td>\n",
       "      <td>http://qudt.org/vocab/unit/Volt</td>\n",
       "      <td>61</td>\n",
       "      <td>http://qudt.org/vocab/unit/KiloW</td>\n",
       "    </tr>\n",
       "    <tr>\n",
       "      <th>3</th>\n",
       "      <td>4</td>\n",
       "      <td>11</td>\n",
       "      <td>http://qudt.org/vocab/unit/KiloW</td>\n",
       "      <td>230</td>\n",
       "      <td>http://qudt.org/vocab/unit/Volt</td>\n",
       "      <td>61</td>\n",
       "      <td>http://qudt.org/vocab/unit/KiloW</td>\n",
       "    </tr>\n",
       "  </tbody>\n",
       "</table>\n",
       "</div>"
      ],
      "text/plain": [
       "  chrgStId PowerRating                        Powerunits Vcharger  \\\n",
       "0        1          11  http://qudt.org/vocab/unit/KiloW      230   \n",
       "1        2          11  http://qudt.org/vocab/unit/KiloW      230   \n",
       "2        3          11  http://qudt.org/vocab/unit/KiloW      230   \n",
       "3        4          11  http://qudt.org/vocab/unit/KiloW      230   \n",
       "\n",
       "                            Vunits BuildingContract  \\\n",
       "0  http://qudt.org/vocab/unit/Volt               61   \n",
       "1  http://qudt.org/vocab/unit/Volt               61   \n",
       "2  http://qudt.org/vocab/unit/Volt               61   \n",
       "3  http://qudt.org/vocab/unit/Volt               61   \n",
       "\n",
       "              BuildingContractUnits  \n",
       "0  http://qudt.org/vocab/unit/KiloW  \n",
       "1  http://qudt.org/vocab/unit/KiloW  \n",
       "2  http://qudt.org/vocab/unit/KiloW  \n",
       "3  http://qudt.org/vocab/unit/KiloW  "
      ]
     },
     "execution_count": 193,
     "metadata": {},
     "output_type": "execute_result"
    }
   ],
   "source": [
    "query = \"\"\"\n",
    "PREFIX bldg1: <urn:building_kropman#>\n",
    "PREFIX brick-ext: <https://w3id.org/b4b/schemes/ext/brick-ext#>\n",
    "PREFIX bot: <https://w3id.org/bot#>\n",
    "PREFIX ref-ext: <https://w3id.org/b4b/schemes/ext/ref-ext#>\n",
    "PREFIX ref: <https://brickschema.org/schema/Brick/ref#>\n",
    "PREFIX brick: <https://brickschema.org/schema/Brick#>\n",
    "PREFIX brick-ev: <https://w3id.org/b4b/schemes/ext/brick-ev#>\n",
    "PREFIX sba: <https://w3id.org/b4b/schemes/algorithms/sba#> \n",
    "PREFIX mpc: <https://w3id.org/b4b/schemes/algorithms/mpc#> \n",
    "PREFIX forc: <https://w3id.org/b4b/schemes/algorithms/forc#> \n",
    "\n",
    "SELECT DISTINCT ?chrgStId ?PowerRating ?Powerunits ?Vcharger ?Vunits ?BuildingContract ?BuildingContractUnits \n",
    "WHERE { \n",
    "   \n",
    "?s a brick:Electric_Vehicle_Charging_Port .\n",
    "?s brick:hasPoint ?chrgSt.\n",
    "?s brick-ev:hasChargerPowerRating ?Prating .\n",
    "?Prating a  brick-ev:Charger_Power_Rating .\n",
    "?Prating brick:value ?PowerRating .\n",
    "?Prating brick:hasUnit ?Powerunits .\n",
    "\n",
    "?s a brick:Electric_Vehicle_Charging_Port .\n",
    "?s brick-ev:hasChargerVoltageRating ?Vcharge.\n",
    "?Vcharge a brick-ev:Charger_Voltage_Rating .\n",
    "?Vcharge brick:value ?Vcharger .\n",
    "?Vcharge brick:hasUnit ?Vunits .\n",
    "\n",
    "?b a bot:Building .\n",
    "?b brick-ext:hasBuildingPowerContract ?o .\n",
    "?o a brick-ext:BuildingPowerContract .\n",
    "?o brick:value ?BuildingContract .\n",
    "?o brick:hasUnit ?BuildingContractUnits .\n",
    "\n",
    "?chrgSt a brick-ev:EV_Charging_Station_ID .\n",
    "?chrgSt  ref:hasExternalReference ?chrgStExt .\n",
    "?chrgStExt ref-ext:hasRealtimeTimeseriesId ?chrgStId .\n",
    "\n",
    "}\n",
    "    \"\"\"\n",
    "\n",
    "df = do_config(query)\n",
    "df"
   ]
  },
  {
   "cell_type": "markdown",
   "metadata": {},
   "source": [
    "### Dynamic params"
   ]
  },
  {
   "cell_type": "code",
   "execution_count": 194,
   "metadata": {},
   "outputs": [
    {
     "data": {
      "text/html": [
       "<div>\n",
       "<style scoped>\n",
       "    .dataframe tbody tr th:only-of-type {\n",
       "        vertical-align: middle;\n",
       "    }\n",
       "\n",
       "    .dataframe tbody tr th {\n",
       "        vertical-align: top;\n",
       "    }\n",
       "\n",
       "    .dataframe thead th {\n",
       "        text-align: right;\n",
       "    }\n",
       "</style>\n",
       "<table border=\"1\" class=\"dataframe\">\n",
       "  <thead>\n",
       "    <tr style=\"text-align: right;\">\n",
       "      <th></th>\n",
       "      <th>chrgStId</th>\n",
       "      <th>EVPower</th>\n",
       "      <th>EVEnergy</th>\n",
       "    </tr>\n",
       "  </thead>\n",
       "  <tbody>\n",
       "    <tr>\n",
       "      <th>0</th>\n",
       "      <td>1</td>\n",
       "      <td>56b56a995eae7ac5e331e115b3ad9a708.AVERAGE_POWE...</td>\n",
       "      <td>759ca9cc4f3bf8f552084d67f25d45899</td>\n",
       "    </tr>\n",
       "    <tr>\n",
       "      <th>1</th>\n",
       "      <td>2</td>\n",
       "      <td>cd8afb76be06cc43e288041260df100eb.AVERAGE_POWE...</td>\n",
       "      <td>1cb94c6d3ecd7c90b08317ad11121a31c</td>\n",
       "    </tr>\n",
       "    <tr>\n",
       "      <th>2</th>\n",
       "      <td>3</td>\n",
       "      <td>9fd044a2806b252458d24a054ecf0f145.AVERAGE_POWE...</td>\n",
       "      <td>f10dc57115f3546ff2ccb745362c73c96</td>\n",
       "    </tr>\n",
       "    <tr>\n",
       "      <th>3</th>\n",
       "      <td>4</td>\n",
       "      <td>737bf181efc276eec62f75bc34a171dd2.AVERAGE_POWE...</td>\n",
       "      <td>83a9cd04a4852e57bc3918762d1a049f3</td>\n",
       "    </tr>\n",
       "  </tbody>\n",
       "</table>\n",
       "</div>"
      ],
      "text/plain": [
       "  chrgStId                                            EVPower  \\\n",
       "0        1  56b56a995eae7ac5e331e115b3ad9a708.AVERAGE_POWE...   \n",
       "1        2  cd8afb76be06cc43e288041260df100eb.AVERAGE_POWE...   \n",
       "2        3  9fd044a2806b252458d24a054ecf0f145.AVERAGE_POWE...   \n",
       "3        4  737bf181efc276eec62f75bc34a171dd2.AVERAGE_POWE...   \n",
       "\n",
       "                            EVEnergy  \n",
       "0  759ca9cc4f3bf8f552084d67f25d45899  \n",
       "1  1cb94c6d3ecd7c90b08317ad11121a31c  \n",
       "2  f10dc57115f3546ff2ccb745362c73c96  \n",
       "3  83a9cd04a4852e57bc3918762d1a049f3  "
      ]
     },
     "execution_count": 194,
     "metadata": {},
     "output_type": "execute_result"
    }
   ],
   "source": [
    "query = \"\"\"\n",
    "PREFIX ref-ext: <https://w3id.org/b4b/schemes/ext/ref-ext#>\n",
    "PREFIX ref: <https://brickschema.org/schema/Brick/ref#>\n",
    "PREFIX brick: <https://brickschema.org/schema/Brick#>\n",
    "PREFIX brick-ev: <https://w3id.org/b4b/schemes/ext/brick-ev#>\n",
    "PREFIX sba: <https://w3id.org/b4b/schemes/algorithms/sba#> \n",
    "PREFIX mpc: <https://w3id.org/b4b/schemes/algorithms/mpc#> \n",
    "PREFIX forc: <https://w3id.org/b4b/schemes/algorithms/forc#> \n",
    "\n",
    "SELECT DISTINCT  ?chrgStId ?EVPower ?EVEnergy\n",
    "\n",
    "WHERE {\n",
    "  \n",
    "?s a brick:Electric_Vehicle_Charging_Port .\n",
    "?s brick:hasPoint ?chrgSt, ?evEnerMeter.\n",
    "?evEnerMeter a  brick-ev:EV_Electric_Energy_Meter .\n",
    "?evEnerMeter ref:hasExternalReference ?evEngExt .\n",
    "?evEngExt ref-ext:hasHistoricalTimeseriesId ?EVEnergy .\n",
    "\n",
    "?s a brick:Electric_Vehicle_Charging_Port .\n",
    "?s brick:hasPoint ?chrgSt, ?evPowerMeter.\n",
    "?evPowerMeter a brick-ev:EV_Electric_Power_Sensor .\n",
    "?evPowerMeter ref:hasExternalReference ?evPExt .\n",
    "?evPExt ref-ext:hasHistoricalTimeseriesId ?EVPower .\n",
    "\n",
    "?chrgSt a brick-ev:EV_Charging_Station_ID .\n",
    "?chrgSt  ref:hasExternalReference ?chrgStExt .\n",
    "?chrgStExt ref-ext:hasRealtimeTimeseriesId ?chrgStId .\n",
    "\n",
    "}\n",
    "    \"\"\"\n",
    "\n",
    "df = do_config(query)\n",
    "df"
   ]
  },
  {
   "cell_type": "markdown",
   "metadata": {},
   "source": [
    "### Realtime feedback"
   ]
  },
  {
   "cell_type": "code",
   "execution_count": 195,
   "metadata": {},
   "outputs": [
    {
     "data": {
      "text/html": [
       "<div>\n",
       "<style scoped>\n",
       "    .dataframe tbody tr th:only-of-type {\n",
       "        vertical-align: middle;\n",
       "    }\n",
       "\n",
       "    .dataframe tbody tr th {\n",
       "        vertical-align: top;\n",
       "    }\n",
       "\n",
       "    .dataframe thead th {\n",
       "        text-align: right;\n",
       "    }\n",
       "</style>\n",
       "<table border=\"1\" class=\"dataframe\">\n",
       "  <thead>\n",
       "    <tr style=\"text-align: right;\">\n",
       "      <th></th>\n",
       "    </tr>\n",
       "  </thead>\n",
       "  <tbody>\n",
       "  </tbody>\n",
       "</table>\n",
       "</div>"
      ],
      "text/plain": [
       "Empty DataFrame\n",
       "Columns: []\n",
       "Index: []"
      ]
     },
     "execution_count": 195,
     "metadata": {},
     "output_type": "execute_result"
    }
   ],
   "source": [
    "query = \"\"\"\n",
    "PREFIX ref-ext: <https://w3id.org/b4b/schemes/ext/ref-ext#>\n",
    "PREFIX ref: <https://brickschema.org/schema/Brick/ref#>\n",
    "PREFIX brick: <https://brickschema.org/schema/Brick#>\n",
    "PREFIX brick-ev: <https://w3id.org/b4b/schemes/ext/brick-ev#>\n",
    "PREFIX sba: <https://w3id.org/b4b/schemes/algorithms/sba#> \n",
    "PREFIX mpc: <https://w3id.org/b4b/schemes/algorithms/mpc#> \n",
    "PREFIX forc: <https://w3id.org/b4b/schemes/algorithms/forc#> \n",
    "\n",
    "SELECT DISTINCT ?chrgStId ?timeArrId ?timeDeptId ?arrivalSOCId ?evBatId ?vFullId ?chrgStatusId ?energyId ?visualNumId\n",
    "where { \n",
    "    \n",
    "?s a brick:Electric_Vehicle_Charging_Port .\n",
    "#?s eva:physical_reference \"2\" .\n",
    "?s brick:hasPoint ?chrgSt, ?timeArr, ?timeDept, ?arrivalSOC, ?evBat, ?vFull, ?chrgStatus, ?energy, ?visualNum .\n",
    "    \n",
    "?chrgSt a brick-ev:EV_Charging_Station_ID .\n",
    "?chrgSt  ref:hasExternalReference ?chrgStExt .\n",
    "?chrgStExt ref-ext:hasRealtimeTimeseriesId ?chrgStId .\n",
    "        \n",
    "?timeArr a brick-ev:EV_Arrival_Time .\n",
    "?timeArr  ref:hasExternalReference ?timeArrExt .\n",
    "?timeArrExt ref-ext:hasRealtimeTimeseriesId ?timeArrId .\n",
    "    \n",
    "?timeDept a brick-ev:EV_Departure_Time .\n",
    "?timeDept  ref:hasExternalReference ?timeDeptExt .\n",
    "?timeDeptExt ref-ext:hasRealtimeTimeseriesId ?timeDeptId .\n",
    "    \n",
    "?arrivalSOC a brick-ev:EV_Arrival_SOC .\n",
    "?arrivalSOC  ref:hasExternalReference ?arrivalSOCExt .\n",
    "?arrivalSOCExt ref-ext:hasRealtimeTimeseriesId ?arrivalSOCId .\n",
    "\n",
    "?evBat a brick-ev:EV_Battery_Size .\n",
    "?evBat  ref:hasExternalReference ?evBatExt .\n",
    "?evBatExt ref-ext:hasRealtimeTimeseriesId ?evBatId .\n",
    "\n",
    "?vFull a brick-ev:Vehicle_Full_Status .\n",
    "?vFull  ref:hasExternalReference ?vFullExt .\n",
    "?vFullExt ref-ext:hasRealtimeTimeseriesId ?vFullId .\n",
    "\n",
    "?chrgStatus a brick-ev:Charging_Session_Status .\n",
    "?chrgStatus  ref:hasExternalReference ?chrgStatusExt .\n",
    "?chrgStatusExt ref-ext:hasRealtimeTimeseriesId ?chrgStatusId .\n",
    "        \n",
    "?energy a brick-ev:EV_Electric_Energy_Meter .\n",
    "?energy  ref:hasExternalReference ?energyExt .\n",
    "?energyExt ref-ext:hasHistoricalTimeseriesId ?energyId .\n",
    "\n",
    "?visualNum a brick-ev:EV_Charging_Session_Visual_Number .\n",
    "?visualNum  ref:hasExternalReference ?visualNumExt .\n",
    "?visualNumExt ref-ext:hasRealtimeTimeseriesId ?visualNumId .\n",
    "\n",
    "}\n",
    "    \"\"\"\n",
    "\n",
    "df = do_config(query)\n",
    "df"
   ]
  },
  {
   "cell_type": "markdown",
   "metadata": {},
   "source": [
    "# Configuration"
   ]
  },
  {
   "cell_type": "code",
   "execution_count": 223,
   "metadata": {},
   "outputs": [],
   "source": [
    "def sensor_metadata_dynamic(dp_class, timeseries,variable_name):\n",
    "    query = f\"\"\"\n",
    "    PREFIX ref-ext: <https://w3id.org/b4b/schemes/ext/ref-ext#>\n",
    "    PREFIX ref: <https://brickschema.org/schema/Brick/ref#>\n",
    "    PREFIX brick: <https://brickschema.org/schema/Brick#>\n",
    "    PREFIX sba: <https://w3id.org/b4b/schemes/algorithms/sba#> \n",
    "    PREFIX mpc: <https://w3id.org/b4b/schemes/algorithms/mpc#> \n",
    "    PREFIX forc: <https://w3id.org/b4b/schemes/algorithms/forc#> \n",
    "\n",
    "    SELECT DISTINCT ?{variable_name} ?Tsid ?DataSource ?APIPath ?refType \n",
    "    WHERE {{ \n",
    "    ?cls a  <{dp_class}> .\n",
    "    ?cls  ref:hasExternalReference ?Ext .\n",
    "    ?Ext a ?refType .\n",
    "    ?Ext ref-ext:has{timeseries}TimeseriesId ?Tsid .\n",
    "    ?Ext ref:storedAt ?DataSource .\n",
    "    ?DataSource ref-ext:connstring ?APIPath .\n",
    "    BIND(<{dp_class}> AS ?{variable_name}) .\n",
    "    }}\n",
    "    \"\"\"\n",
    "\n",
    "    df = do_config(query)\n",
    "    # df = do_prefixes(df)\n",
    "    nested_json = {}\n",
    "    for index, row in df.iterrows():\n",
    "        key = df.columns[0]\n",
    "        if key not in nested_json:\n",
    "            nested_json[key] = {\n",
    "                'Point':dp_class,\n",
    "                f'{df.columns[0]}{df.columns[1]}': row[df.columns[1]],\n",
    "                f'{df.columns[0]}{df.columns[2]}': row[df.columns[2]],\n",
    "                f'{df.columns[0]}{df.columns[3]}': row[df.columns[3]],\n",
    "                f'{df.columns[0]}{df.columns[4]}': row[df.columns[4]],\n",
    "            }\n",
    "    # print(json.dumps(nested_json, indent=4))\n",
    "    return nested_json"
   ]
  },
  {
   "cell_type": "code",
   "execution_count": 224,
   "metadata": {},
   "outputs": [],
   "source": [
    "def sensor_metadata_static(dp_class, variable_name):\n",
    "    query = f\"\"\"\n",
    "    PREFIX ref-ext: <https://w3id.org/b4b/schemes/ext/ref-ext#>\n",
    "    PREFIX ref: <https://brickschema.org/schema/Brick/ref#>\n",
    "    PREFIX brick: <https://brickschema.org/schema/Brick#>\n",
    "    PREFIX sba: <https://w3id.org/b4b/schemes/algorithms/sba#> \n",
    "    PREFIX mpc: <https://w3id.org/b4b/schemes/algorithms/mpc#> \n",
    "    PREFIX forc: <https://w3id.org/b4b/schemes/algorithms/forc#> \n",
    "\n",
    "    SELECT DISTINCT ?{variable_name} ?Val ?Unit \n",
    "    WHERE {{ \n",
    "    ?cls a  <{dp_class}> .\n",
    "    ?cls  brick:value ?Val .\n",
    "    ?cls brick:hasUnit ?Unit .\n",
    "    BIND(<{dp_class}> AS ?{variable_name}) .\n",
    "    }}\n",
    "    \"\"\"\n",
    "\n",
    "    df = do_config(query)\n",
    "    # df = do_prefixes(df)\n",
    "    nested_json = {}\n",
    "    for index, row in df.iterrows():\n",
    "        key = df.columns[0]\n",
    "        if key not in nested_json:\n",
    "            nested_json[key] = {\n",
    "                'Point':dp_class,\n",
    "                f'{df.columns[0]}{df.columns[1]}': row[df.columns[1]],\n",
    "                f'{df.columns[0]}{df.columns[2]}': row[df.columns[2]],\n",
    "            }\n",
    "    # print(json.dumps(nested_json, indent=4))\n",
    "    return nested_json"
   ]
  },
  {
   "cell_type": "code",
   "execution_count": null,
   "metadata": {},
   "outputs": [],
   "source": [
    "def gen_configs(inputs_arr, config_type):\n",
    "    all_configs={}\n",
    "    data_type=['Historical', 'Realtime', 'Forecast', 'LastKnown']\n",
    "\n",
    "    if config_type == 'dynamic':\n",
    "        for input in inputs_arr:\n",
    "            sensor_class = input.split('#')[1]\n",
    "            variable_name = input.split('#')[1].replace(\"_\", \"\")\n",
    "            for data in data_type:\n",
    "                res = sensor_metadata_dynamic(input, data, variable_name)\n",
    "                all_configs.update(res)\n",
    "    elif config_type == 'static':\n",
    "        for input in inputs_arr:\n",
    "            sensor_class = input.split('#')[1]\n",
    "            variable_name = input.split('#')[1].replace(\"_\", \"\")\n",
    "            res = sensor_metadata_static(input, variable_name)\n",
    "            all_configs.update(res)\n",
    "    # print(json.dumps(all_configs, indent=4))\n",
    "    return all_configs"
   ]
  },
  {
   "cell_type": "markdown",
   "metadata": {},
   "source": [
    "### Load forecast"
   ]
  },
  {
   "cell_type": "code",
   "execution_count": 248,
   "metadata": {},
   "outputs": [
    {
     "data": {
      "text/plain": [
       "{'BuildingElectricalMeter': {'Point': 'https://brickschema.org/schema/Brick#Building_Electrical_Meter',\n",
       "  'BuildingElectricalMeterTsid': 'f30ca6c6d2b3111dee9066951e270141',\n",
       "  'BuildingElectricalMeterDataSource': 'urn:building_v1#insitereports',\n",
       "  'BuildingElectricalMeterAPIPath': 'https://ivs.kropman.nl/insitereports/',\n",
       "  'BuildingElectricalMeterrefType': 'https://w3id.org/b4b/schemes/ext/ref-ext#HistoricalTimeseriesReference'},\n",
       " 'SolarRadianceSensor': {'Point': 'https://brickschema.org/schema/Brick#Solar_Radiance_Sensor',\n",
       "  'SolarRadianceSensorTsid': 'a683b494a806af9a8da4d35ae99ba763',\n",
       "  'SolarRadianceSensorDataSource': 'urn:building_v1#insitereports',\n",
       "  'SolarRadianceSensorAPIPath': 'https://ivs.kropman.nl/insitereports/',\n",
       "  'SolarRadianceSensorrefType': 'https://w3id.org/b4b/schemes/ext/ref-ext#HistoricalTimeseriesReference'},\n",
       " 'OutdoorTemperatureForecast': {'Point': 'https://w3id.org/b4b/schemes/algorithms/forc#OutdoorTemperatureForecast',\n",
       "  'OutdoorTemperatureForecastTsid': '3ede3817d96d7bb87865eaa7ac657860',\n",
       "  'OutdoorTemperatureForecastDataSource': 'urn:building_v1#insitereports',\n",
       "  'OutdoorTemperatureForecastAPIPath': 'https://ivs.kropman.nl/insitereports/',\n",
       "  'OutdoorTemperatureForecastrefType': 'https://w3id.org/b4b/schemes/ext/ref-ext#ForecastTimeseriesReference'},\n",
       " 'WindSpeedForecast': {'Point': 'https://w3id.org/b4b/schemes/algorithms/forc#WindSpeedForecast',\n",
       "  'WindSpeedForecastTsid': '3ede3817d96d7bb87865eaa7ac657860',\n",
       "  'WindSpeedForecastDataSource': 'urn:building_v1#insitereports',\n",
       "  'WindSpeedForecastAPIPath': 'https://ivs.kropman.nl/insitereports/',\n",
       "  'WindSpeedForecastrefType': 'https://w3id.org/b4b/schemes/ext/ref-ext#ForecastTimeseriesReference'},\n",
       " 'SolarRadianceForecast': {'Point': 'https://w3id.org/b4b/schemes/algorithms/forc#SolarRadianceForecast',\n",
       "  'SolarRadianceForecastTsid': '3ede3817d96d7bb87865eaa7ac657860',\n",
       "  'SolarRadianceForecastDataSource': 'urn:building_v1#insitereports',\n",
       "  'SolarRadianceForecastAPIPath': 'https://ivs.kropman.nl/insitereports/',\n",
       "  'SolarRadianceForecastrefType': 'https://w3id.org/b4b/schemes/ext/ref-ext#ForecastTimeseriesReference'}}"
      ]
     },
     "execution_count": 248,
     "metadata": {},
     "output_type": "execute_result"
    }
   ],
   "source": [
    "res=gen_configs(forc_inputs, config_type='dynamic')\n",
    "res "
   ]
  },
  {
   "cell_type": "code",
   "execution_count": 227,
   "metadata": {},
   "outputs": [],
   "source": [
    "def extract_configs(res, config_var='Tsid'):\n",
    "    extracted_configs = {}\n",
    "    for item in res.values():\n",
    "        for key, value in item.items():\n",
    "            if config_var in key:\n",
    "                # print(f\"{key}={value}\")\n",
    "                extracted_configs[key] = value\n",
    "    return extracted_configs"
   ]
  },
  {
   "cell_type": "code",
   "execution_count": 249,
   "metadata": {},
   "outputs": [
    {
     "data": {
      "text/plain": [
       "{'BuildingElectricalMeterTsid': 'f30ca6c6d2b3111dee9066951e270141',\n",
       " 'SolarRadianceSensorTsid': 'a683b494a806af9a8da4d35ae99ba763',\n",
       " 'OutdoorTemperatureForecastTsid': '3ede3817d96d7bb87865eaa7ac657860',\n",
       " 'WindSpeedForecastTsid': '3ede3817d96d7bb87865eaa7ac657860',\n",
       " 'SolarRadianceForecastTsid': '3ede3817d96d7bb87865eaa7ac657860'}"
      ]
     },
     "execution_count": 249,
     "metadata": {},
     "output_type": "execute_result"
    }
   ],
   "source": [
    "extract_configs(res, config_var='Tsid')"
   ]
  },
  {
   "cell_type": "code",
   "execution_count": 229,
   "metadata": {},
   "outputs": [
    {
     "data": {
      "text/plain": [
       "{'BuildingElectricalMeterDataSource': 'urn:building_v1#insitereports',\n",
       " 'SolarRadianceSensorDataSource': 'urn:building_v1#insitereports',\n",
       " 'OutdoorTemperatureForecastDataSource': 'urn:building_v1#insitereports',\n",
       " 'WindSpeedForecastDataSource': 'urn:building_v1#insitereports',\n",
       " 'SolarRadianceForecastDataSource': 'urn:building_v1#insitereports'}"
      ]
     },
     "execution_count": 229,
     "metadata": {},
     "output_type": "execute_result"
    }
   ],
   "source": [
    "extract_configs(res, config_var='Source')"
   ]
  },
  {
   "cell_type": "code",
   "execution_count": 230,
   "metadata": {},
   "outputs": [
    {
     "data": {
      "text/plain": [
       "{'BuildingElectricalMeterAPIPath': 'https://ivs.kropman.nl/insitereports/',\n",
       " 'SolarRadianceSensorAPIPath': 'https://ivs.kropman.nl/insitereports/',\n",
       " 'OutdoorTemperatureForecastAPIPath': 'https://ivs.kropman.nl/insitereports/',\n",
       " 'WindSpeedForecastAPIPath': 'https://ivs.kropman.nl/insitereports/',\n",
       " 'SolarRadianceForecastAPIPath': 'https://ivs.kropman.nl/insitereports/'}"
      ]
     },
     "execution_count": 230,
     "metadata": {},
     "output_type": "execute_result"
    }
   ],
   "source": [
    "extract_configs(res, config_var='API')"
   ]
  },
  {
   "cell_type": "code",
   "execution_count": 231,
   "metadata": {},
   "outputs": [
    {
     "data": {
      "text/plain": [
       "{'BuildingElectricalMeterrefType': 'https://w3id.org/b4b/schemes/ext/ref-ext#HistoricalTimeseriesReference',\n",
       " 'SolarRadianceSensorrefType': 'https://w3id.org/b4b/schemes/ext/ref-ext#HistoricalTimeseriesReference',\n",
       " 'OutdoorTemperatureForecastrefType': 'https://w3id.org/b4b/schemes/ext/ref-ext#ForecastTimeseriesReference',\n",
       " 'WindSpeedForecastrefType': 'https://w3id.org/b4b/schemes/ext/ref-ext#ForecastTimeseriesReference',\n",
       " 'SolarRadianceForecastrefType': 'https://w3id.org/b4b/schemes/ext/ref-ext#ForecastTimeseriesReference'}"
      ]
     },
     "execution_count": 231,
     "metadata": {},
     "output_type": "execute_result"
    }
   ],
   "source": [
    "extract_configs(res, config_var='ref')"
   ]
  },
  {
   "cell_type": "markdown",
   "metadata": {},
   "source": [
    "## Realtime feedback"
   ]
  },
  {
   "cell_type": "code",
   "execution_count": 232,
   "metadata": {},
   "outputs": [
    {
     "data": {
      "text/plain": [
       "{'EVArrivalTime': {'Point': 'https://w3id.org/b4b/schemes/ext/brick-ev#EV_Arrival_Time',\n",
       "  'EVArrivalTimeTsid': 'evse/welkomkropman',\n",
       "  'EVArrivalTimeDataSource': 'urn:building_v1#welkomkropman',\n",
       "  'EVArrivalTimeAPIPath': 'https://ivs.kropman.nl/wk/',\n",
       "  'EVArrivalTimerefType': 'https://w3id.org/b4b/schemes/ext/ref-ext#RealtimeTimeseriesReference'},\n",
       " 'EVArrivalSOC': {'Point': 'https://w3id.org/b4b/schemes/ext/brick-ev#EV_Arrival_SOC',\n",
       "  'EVArrivalSOCTsid': 'evse/welkomkropman',\n",
       "  'EVArrivalSOCDataSource': 'urn:building_v1#welkomkropman',\n",
       "  'EVArrivalSOCAPIPath': 'https://ivs.kropman.nl/wk/',\n",
       "  'EVArrivalSOCrefType': 'https://w3id.org/b4b/schemes/ext/ref-ext#RealtimeTimeseriesReference'},\n",
       " 'EVBatterySize': {'Point': 'https://w3id.org/b4b/schemes/ext/brick-ev#EV_Battery_Size',\n",
       "  'EVBatterySizeTsid': 'evse/welkomkropman',\n",
       "  'EVBatterySizeDataSource': 'urn:building_v1#welkomkropman',\n",
       "  'EVBatterySizeAPIPath': 'https://ivs.kropman.nl/wk/',\n",
       "  'EVBatterySizerefType': 'https://w3id.org/b4b/schemes/ext/ref-ext#RealtimeTimeseriesReference'},\n",
       " 'VehicleFullStatus': {'Point': 'https://w3id.org/b4b/schemes/ext/brick-ev#Vehicle_Full_Status',\n",
       "  'VehicleFullStatusTsid': '759ca9cc4f3bf8f552084d67f25d4589',\n",
       "  'VehicleFullStatusDataSource': 'urn:building_v1#insiteview',\n",
       "  'VehicleFullStatusAPIPath': 'https://ivs.kropman.nl/insiteview/',\n",
       "  'VehicleFullStatusrefType': 'https://w3id.org/b4b/schemes/ext/ref-ext#RealtimeTimeseriesReference'},\n",
       " 'ChargingSessionStatus': {'Point': 'https://w3id.org/b4b/schemes/ext/brick-ev#Charging_Session_Status',\n",
       "  'ChargingSessionStatusTsid': '759ca9cc4f3bf8f552084d67f25d4589',\n",
       "  'ChargingSessionStatusDataSource': 'urn:building_v1#insiteview',\n",
       "  'ChargingSessionStatusAPIPath': 'https://ivs.kropman.nl/insiteview/',\n",
       "  'ChargingSessionStatusrefType': 'https://w3id.org/b4b/schemes/ext/ref-ext#RealtimeTimeseriesReference'},\n",
       " 'EVElectricEnergyMeter': {'Point': 'https://w3id.org/b4b/schemes/ext/brick-ev#EV_Electric_Energy_Meter',\n",
       "  'EVElectricEnergyMeterTsid': '759ca9cc4f3bf8f552084d67f25d45899',\n",
       "  'EVElectricEnergyMeterDataSource': 'urn:building_v1#insiteview',\n",
       "  'EVElectricEnergyMeterAPIPath': 'https://ivs.kropman.nl/insiteview/',\n",
       "  'EVElectricEnergyMeterrefType': 'https://w3id.org/b4b/schemes/ext/ref-ext#HistoricalTimeseriesReference'},\n",
       " 'EVChargingSessionVisualNumber': {'Point': 'https://w3id.org/b4b/schemes/ext/brick-ev#EV_Charging_Session_Visual_Number',\n",
       "  'EVChargingSessionVisualNumberTsid': '759ca9cc4f3bf8f552084d67f25d4589',\n",
       "  'EVChargingSessionVisualNumberDataSource': 'urn:building_v1#insiteview',\n",
       "  'EVChargingSessionVisualNumberAPIPath': 'https://ivs.kropman.nl/insiteview/',\n",
       "  'EVChargingSessionVisualNumberrefType': 'https://w3id.org/b4b/schemes/ext/ref-ext#RealtimeTimeseriesReference'}}"
      ]
     },
     "execution_count": 232,
     "metadata": {},
     "output_type": "execute_result"
    }
   ],
   "source": [
    "gen_configs(feedback_inputs, config_type='dynamic')"
   ]
  },
  {
   "cell_type": "markdown",
   "metadata": {},
   "source": [
    "## Static params"
   ]
  },
  {
   "cell_type": "code",
   "execution_count": 233,
   "metadata": {},
   "outputs": [
    {
     "data": {
      "text/plain": [
       "{'ChargerVoltageRating': {'Point': 'https://w3id.org/b4b/schemes/ext/brick-ev#Charger_Voltage_Rating',\n",
       "  'ChargerVoltageRatingVal': '230',\n",
       "  'ChargerVoltageRatingUnit': 'http://qudt.org/vocab/unit/Volt'},\n",
       " 'ChargerPowerRating': {'Point': 'https://w3id.org/b4b/schemes/ext/brick-ev#Charger_Power_Rating',\n",
       "  'ChargerPowerRatingVal': '11',\n",
       "  'ChargerPowerRatingUnit': 'http://qudt.org/vocab/unit/KiloW'},\n",
       " 'PowerFactor': {'Point': 'https://w3id.org/b4b/schemes/ext/brick-ext#Power_Factor',\n",
       "  'PowerFactorVal': '0.95',\n",
       "  'PowerFactorUnit': 'http://qudt.org/vocab/unit/Unitless'}}"
      ]
     },
     "execution_count": 233,
     "metadata": {},
     "output_type": "execute_result"
    }
   ],
   "source": [
    "res=gen_configs(static_param_inputs, config_type='static')\n",
    "res"
   ]
  },
  {
   "cell_type": "code",
   "execution_count": 234,
   "metadata": {},
   "outputs": [
    {
     "data": {
      "text/plain": [
       "{'ChargerVoltageRatingVal': '230',\n",
       " 'ChargerPowerRatingVal': '11',\n",
       " 'PowerFactorVal': '0.95'}"
      ]
     },
     "execution_count": 234,
     "metadata": {},
     "output_type": "execute_result"
    }
   ],
   "source": [
    "extract_configs(res, config_var='Val') "
   ]
  },
  {
   "cell_type": "code",
   "execution_count": 235,
   "metadata": {},
   "outputs": [
    {
     "data": {
      "text/plain": [
       "{'ChargerVoltageRatingUnit': 'http://qudt.org/vocab/unit/Volt',\n",
       " 'ChargerPowerRatingUnit': 'http://qudt.org/vocab/unit/KiloW',\n",
       " 'PowerFactorUnit': 'http://qudt.org/vocab/unit/Unitless'}"
      ]
     },
     "execution_count": 235,
     "metadata": {},
     "output_type": "execute_result"
    }
   ],
   "source": [
    "extract_configs(res, config_var='Unit') "
   ]
  },
  {
   "cell_type": "markdown",
   "metadata": {},
   "source": [
    "## Dynamic params"
   ]
  },
  {
   "cell_type": "code",
   "execution_count": 236,
   "metadata": {},
   "outputs": [
    {
     "data": {
      "text/plain": [
       "{'EVElectricEnergyMeter': {'Point': 'https://w3id.org/b4b/schemes/ext/brick-ev#EV_Electric_Energy_Meter',\n",
       "  'EVElectricEnergyMeterTsid': '759ca9cc4f3bf8f552084d67f25d45899',\n",
       "  'EVElectricEnergyMeterDataSource': 'urn:building_v1#insiteview',\n",
       "  'EVElectricEnergyMeterAPIPath': 'https://ivs.kropman.nl/insiteview/',\n",
       "  'EVElectricEnergyMeterrefType': 'https://w3id.org/b4b/schemes/ext/ref-ext#HistoricalTimeseriesReference'},\n",
       " 'EVElectricPowerSensor': {'Point': 'https://w3id.org/b4b/schemes/ext/brick-ev#EV_Electric_Power_Sensor',\n",
       "  'EVElectricPowerSensorTsid': '56b56a995eae7ac5e331e115b3ad9a708.AVERAGE_POWER$value',\n",
       "  'EVElectricPowerSensorDataSource': 'urn:building_v1#insiteview',\n",
       "  'EVElectricPowerSensorAPIPath': 'https://ivs.kropman.nl/insiteview/',\n",
       "  'EVElectricPowerSensorrefType': 'https://w3id.org/b4b/schemes/ext/ref-ext#HistoricalTimeseriesReference'}}"
      ]
     },
     "execution_count": 236,
     "metadata": {},
     "output_type": "execute_result"
    }
   ],
   "source": [
    "res=gen_configs(dynamic_param_inputs, config_type='dynamic')\n",
    "res"
   ]
  },
  {
   "cell_type": "code",
   "execution_count": 237,
   "metadata": {},
   "outputs": [
    {
     "data": {
      "text/plain": [
       "{'EVElectricEnergyMeterTsid': '759ca9cc4f3bf8f552084d67f25d45899',\n",
       " 'EVElectricPowerSensorTsid': '56b56a995eae7ac5e331e115b3ad9a708.AVERAGE_POWER$value'}"
      ]
     },
     "execution_count": 237,
     "metadata": {},
     "output_type": "execute_result"
    }
   ],
   "source": [
    "extract_configs(res, config_var='Tsid')"
   ]
  },
  {
   "cell_type": "code",
   "execution_count": 238,
   "metadata": {},
   "outputs": [
    {
     "data": {
      "text/plain": [
       "{'EVElectricEnergyMeterDataSource': 'urn:building_v1#insiteview',\n",
       " 'EVElectricPowerSensorDataSource': 'urn:building_v1#insiteview'}"
      ]
     },
     "execution_count": 238,
     "metadata": {},
     "output_type": "execute_result"
    }
   ],
   "source": [
    "extract_configs(res, config_var='Source')"
   ]
  },
  {
   "cell_type": "code",
   "execution_count": 239,
   "metadata": {},
   "outputs": [
    {
     "data": {
      "text/plain": [
       "{'EVElectricEnergyMeterAPIPath': 'https://ivs.kropman.nl/insiteview/',\n",
       " 'EVElectricPowerSensorAPIPath': 'https://ivs.kropman.nl/insiteview/'}"
      ]
     },
     "execution_count": 239,
     "metadata": {},
     "output_type": "execute_result"
    }
   ],
   "source": [
    "extract_configs(res, config_var='API')"
   ]
  },
  {
   "cell_type": "markdown",
   "metadata": {},
   "source": [
    "## Constraints"
   ]
  },
  {
   "cell_type": "code",
   "execution_count": 240,
   "metadata": {},
   "outputs": [
    {
     "data": {
      "text/plain": [
       "{'MinimumChargingCurrentSetpoint': {'Point': 'https://w3id.org/b4b/schemes/ext/brick-ev#Minimum_Charging_Current_Setpoint',\n",
       "  'MinimumChargingCurrentSetpointVal': '6',\n",
       "  'MinimumChargingCurrentSetpointUnit': 'http://qudt.org/vocab/unit/A'},\n",
       " 'MaximumChargingCurrentSetpoint': {'Point': 'https://w3id.org/b4b/schemes/ext/brick-ev#Maximum_Charging_Current_Setpoint',\n",
       "  'MaximumChargingCurrentSetpointVal': '16',\n",
       "  'MaximumChargingCurrentSetpointUnit': 'http://qudt.org/vocab/unit/A'}}"
      ]
     },
     "execution_count": 240,
     "metadata": {},
     "output_type": "execute_result"
    }
   ],
   "source": [
    "res=gen_configs(constraints_inputs, config_type='static')\n",
    "res"
   ]
  },
  {
   "cell_type": "code",
   "execution_count": 241,
   "metadata": {},
   "outputs": [
    {
     "data": {
      "text/plain": [
       "{'MinimumChargingCurrentSetpointVal': '6',\n",
       " 'MaximumChargingCurrentSetpointVal': '16'}"
      ]
     },
     "execution_count": 241,
     "metadata": {},
     "output_type": "execute_result"
    }
   ],
   "source": [
    "extract_configs(res, config_var='Val') "
   ]
  },
  {
   "cell_type": "code",
   "execution_count": 242,
   "metadata": {},
   "outputs": [
    {
     "data": {
      "text/plain": [
       "{'MinimumChargingCurrentSetpointUnit': 'http://qudt.org/vocab/unit/A',\n",
       " 'MaximumChargingCurrentSetpointUnit': 'http://qudt.org/vocab/unit/A'}"
      ]
     },
     "execution_count": 242,
     "metadata": {},
     "output_type": "execute_result"
    }
   ],
   "source": [
    "extract_configs(res, config_var='Unit') "
   ]
  },
  {
   "cell_type": "markdown",
   "metadata": {},
   "source": [
    "## States"
   ]
  },
  {
   "cell_type": "code",
   "execution_count": 243,
   "metadata": {},
   "outputs": [
    {
     "data": {
      "text/plain": [
       "{'EVArrivalTime': {'Point': 'https://w3id.org/b4b/schemes/ext/brick-ev#EV_Arrival_Time',\n",
       "  'EVArrivalTimeTsid': 'evse/welkomkropman',\n",
       "  'EVArrivalTimeDataSource': 'urn:building_v1#welkomkropman',\n",
       "  'EVArrivalTimeAPIPath': 'https://ivs.kropman.nl/wk/',\n",
       "  'EVArrivalTimerefType': 'https://w3id.org/b4b/schemes/ext/ref-ext#RealtimeTimeseriesReference'},\n",
       " 'EVArrivalSOC': {'Point': 'https://w3id.org/b4b/schemes/ext/brick-ev#EV_Arrival_SOC',\n",
       "  'EVArrivalSOCTsid': 'evse/welkomkropman',\n",
       "  'EVArrivalSOCDataSource': 'urn:building_v1#welkomkropman',\n",
       "  'EVArrivalSOCAPIPath': 'https://ivs.kropman.nl/wk/',\n",
       "  'EVArrivalSOCrefType': 'https://w3id.org/b4b/schemes/ext/ref-ext#RealtimeTimeseriesReference'},\n",
       " 'EVBatterySize': {'Point': 'https://w3id.org/b4b/schemes/ext/brick-ev#EV_Battery_Size',\n",
       "  'EVBatterySizeTsid': 'evse/welkomkropman',\n",
       "  'EVBatterySizeDataSource': 'urn:building_v1#welkomkropman',\n",
       "  'EVBatterySizeAPIPath': 'https://ivs.kropman.nl/wk/',\n",
       "  'EVBatterySizerefType': 'https://w3id.org/b4b/schemes/ext/ref-ext#RealtimeTimeseriesReference'},\n",
       " 'VehicleFullStatus': {'Point': 'https://w3id.org/b4b/schemes/ext/brick-ev#Vehicle_Full_Status',\n",
       "  'VehicleFullStatusTsid': '759ca9cc4f3bf8f552084d67f25d4589',\n",
       "  'VehicleFullStatusDataSource': 'urn:building_v1#insiteview',\n",
       "  'VehicleFullStatusAPIPath': 'https://ivs.kropman.nl/insiteview/',\n",
       "  'VehicleFullStatusrefType': 'https://w3id.org/b4b/schemes/ext/ref-ext#RealtimeTimeseriesReference'},\n",
       " 'ChargingSessionStatus': {'Point': 'https://w3id.org/b4b/schemes/ext/brick-ev#Charging_Session_Status',\n",
       "  'ChargingSessionStatusTsid': '759ca9cc4f3bf8f552084d67f25d4589',\n",
       "  'ChargingSessionStatusDataSource': 'urn:building_v1#insiteview',\n",
       "  'ChargingSessionStatusAPIPath': 'https://ivs.kropman.nl/insiteview/',\n",
       "  'ChargingSessionStatusrefType': 'https://w3id.org/b4b/schemes/ext/ref-ext#RealtimeTimeseriesReference'},\n",
       " 'EVElectricEnergyMeter': {'Point': 'https://w3id.org/b4b/schemes/ext/brick-ev#EV_Electric_Energy_Meter',\n",
       "  'EVElectricEnergyMeterTsid': '759ca9cc4f3bf8f552084d67f25d45899',\n",
       "  'EVElectricEnergyMeterDataSource': 'urn:building_v1#insiteview',\n",
       "  'EVElectricEnergyMeterAPIPath': 'https://ivs.kropman.nl/insiteview/',\n",
       "  'EVElectricEnergyMeterrefType': 'https://w3id.org/b4b/schemes/ext/ref-ext#HistoricalTimeseriesReference'},\n",
       " 'EVChargingSessionVisualNumber': {'Point': 'https://w3id.org/b4b/schemes/ext/brick-ev#EV_Charging_Session_Visual_Number',\n",
       "  'EVChargingSessionVisualNumberTsid': '759ca9cc4f3bf8f552084d67f25d4589',\n",
       "  'EVChargingSessionVisualNumberDataSource': 'urn:building_v1#insiteview',\n",
       "  'EVChargingSessionVisualNumberAPIPath': 'https://ivs.kropman.nl/insiteview/',\n",
       "  'EVChargingSessionVisualNumberrefType': 'https://w3id.org/b4b/schemes/ext/ref-ext#RealtimeTimeseriesReference'},\n",
       " 'EVLoadCurrentSensor': {'Point': 'https://w3id.org/b4b/schemes/ext/brick-ev#EV_Load_Current_Sensor',\n",
       "  'EVLoadCurrentSensorTsid': 'cd8afb76be06cc43e288041260df100eb.CURRENT_L1$value',\n",
       "  'EVLoadCurrentSensorDataSource': 'urn:building_v1#insiteview',\n",
       "  'EVLoadCurrentSensorAPIPath': 'https://ivs.kropman.nl/insiteview/',\n",
       "  'EVLoadCurrentSensorrefType': 'https://w3id.org/b4b/schemes/ext/ref-ext#RealtimeTimeseriesReference'}}"
      ]
     },
     "execution_count": 243,
     "metadata": {},
     "output_type": "execute_result"
    }
   ],
   "source": [
    "res=gen_configs(state_inputs, config_type='dynamic')\n",
    "res"
   ]
  },
  {
   "cell_type": "code",
   "execution_count": 244,
   "metadata": {},
   "outputs": [
    {
     "data": {
      "text/plain": [
       "{'EVArrivalTimeTsid': 'evse/welkomkropman',\n",
       " 'EVArrivalSOCTsid': 'evse/welkomkropman',\n",
       " 'EVBatterySizeTsid': 'evse/welkomkropman',\n",
       " 'VehicleFullStatusTsid': '759ca9cc4f3bf8f552084d67f25d4589',\n",
       " 'ChargingSessionStatusTsid': '759ca9cc4f3bf8f552084d67f25d4589',\n",
       " 'EVElectricEnergyMeterTsid': '759ca9cc4f3bf8f552084d67f25d45899',\n",
       " 'EVChargingSessionVisualNumberTsid': '759ca9cc4f3bf8f552084d67f25d4589',\n",
       " 'EVLoadCurrentSensorTsid': 'cd8afb76be06cc43e288041260df100eb.CURRENT_L1$value'}"
      ]
     },
     "execution_count": 244,
     "metadata": {},
     "output_type": "execute_result"
    }
   ],
   "source": [
    "extract_configs(res, config_var='Tsid')"
   ]
  },
  {
   "cell_type": "code",
   "execution_count": 245,
   "metadata": {},
   "outputs": [
    {
     "data": {
      "text/plain": [
       "{'EVArrivalTimeAPIPath': 'https://ivs.kropman.nl/wk/',\n",
       " 'EVArrivalSOCAPIPath': 'https://ivs.kropman.nl/wk/',\n",
       " 'EVBatterySizeAPIPath': 'https://ivs.kropman.nl/wk/',\n",
       " 'VehicleFullStatusAPIPath': 'https://ivs.kropman.nl/insiteview/',\n",
       " 'ChargingSessionStatusAPIPath': 'https://ivs.kropman.nl/insiteview/',\n",
       " 'EVElectricEnergyMeterAPIPath': 'https://ivs.kropman.nl/insiteview/',\n",
       " 'EVChargingSessionVisualNumberAPIPath': 'https://ivs.kropman.nl/insiteview/',\n",
       " 'EVLoadCurrentSensorAPIPath': 'https://ivs.kropman.nl/insiteview/'}"
      ]
     },
     "execution_count": 245,
     "metadata": {},
     "output_type": "execute_result"
    }
   ],
   "source": [
    "extract_configs(res, config_var='API')"
   ]
  },
  {
   "cell_type": "code",
   "execution_count": 246,
   "metadata": {},
   "outputs": [
    {
     "data": {
      "text/plain": [
       "{'EVArrivalTimeDataSource': 'urn:building_v1#welkomkropman',\n",
       " 'EVArrivalSOCDataSource': 'urn:building_v1#welkomkropman',\n",
       " 'EVBatterySizeDataSource': 'urn:building_v1#welkomkropman',\n",
       " 'VehicleFullStatusDataSource': 'urn:building_v1#insiteview',\n",
       " 'ChargingSessionStatusDataSource': 'urn:building_v1#insiteview',\n",
       " 'EVElectricEnergyMeterDataSource': 'urn:building_v1#insiteview',\n",
       " 'EVChargingSessionVisualNumberDataSource': 'urn:building_v1#insiteview',\n",
       " 'EVLoadCurrentSensorDataSource': 'urn:building_v1#insiteview'}"
      ]
     },
     "execution_count": 246,
     "metadata": {},
     "output_type": "execute_result"
    }
   ],
   "source": [
    "extract_configs(res, config_var='Source')"
   ]
  },
  {
   "cell_type": "markdown",
   "metadata": {},
   "source": [
    "# Shapes"
   ]
  },
  {
   "cell_type": "code",
   "execution_count": 304,
   "metadata": {},
   "outputs": [],
   "source": [
    "def generate_dynamic_shape_graphs(sparql_endpoint, sparql_query, folder_name):\n",
    "    import uuid\n",
    "\n",
    "    query_params = {\n",
    "        'query': sparql_query,\n",
    "        'infer': 'false' \n",
    "    }\n",
    "    headers = {\n",
    "    \"Content-Type\": \"application/sparql-query\",\n",
    "    \"Accept\": \"application/json\"\n",
    "    }\n",
    "    auth = (\"lchamari\", \"lchamari\")\n",
    "\n",
    "    response = requests.get(sparql_endpoint, params=query_params, headers=headers, auth=auth)\n",
    "    \n",
    "    prefixes = {\n",
    "        'brick:': 'https://brickschema.org/schema/Brick#',\n",
    "        'ref:': 'https://brickschema.org/schema/Brick/ref#',\n",
    "        'ref-ext:': 'https://w3id.org/b4b/schemes/ext/ref-ext#',\n",
    "        'sba:': 'https://w3id.org/b4b/schemes/algorithms/sba#', \n",
    "        'mpc:': 'https://w3id.org/b4b/schemes/algorithms/mpc#', \n",
    "        'forc:': 'https://w3id.org/b4b/schemes/algorithms/forc#', \n",
    "        'brick-ev:': '<https://w3id.org/b4b/schemes/ext/brick-ev#>'\n",
    "    }\n",
    "\n",
    "    response_json = json.loads(response.text)\n",
    "    bindings = response_json[\"results\"][\"bindings\"]\n",
    "    data = [\n",
    "        {\"Input\": item[\"input\"][\"value\"], \"Timeseries Reference\": item[\"tsref\"][\"value\"]}\n",
    "        for item in bindings\n",
    "    ]\n",
    "    df = pd.DataFrame(data)\n",
    "\n",
    "    class_list = df['Input'].tolist()\n",
    "\n",
    "    point_with_suffix_list = []\n",
    "    for point in class_list:\n",
    "        suffix = point.split('#')[0] + '#'\n",
    "        point = point.split('#')[-1]\n",
    "\n",
    "        for prefix, uri in prefixes.items():\n",
    "            if uri == suffix:\n",
    "                suffix = prefix\n",
    "                point_with_suffix = f'{suffix}:{point}'\n",
    "                point_with_suffix_list.append(point_with_suffix)\n",
    "                break\n",
    "  \n",
    "    dplist = {}\n",
    "    for index, row in df.iterrows():\n",
    "        if row['Input'] and row['Timeseries Reference']:\n",
    "            dplist[row['Input']] = row['Timeseries Reference']\n",
    "    # print(dplist)\n",
    "\n",
    "    for key, value in dplist.items():\n",
    "        for prefix, uri in prefixes.items():\n",
    "            if uri in value:\n",
    "                dplist[key] = value.replace(uri, prefix)\n",
    "    dplist = {key.replace('https://w3id.org/b4b/schemes/algorithms/forc#', 'forc:'): value for key, value in dplist.items()}\n",
    "    dplist = {key.replace('https://brickschema.org/schema/Brick#', 'brick:'): value for key, value in dplist.items()}\n",
    "    dplist = {key.replace('https://w3id.org/b4b/schemes/algorithms/sba#', 'sba:'): value for key, value in dplist.items()}\n",
    "    dplist = {key.replace('https://w3id.org/b4b/schemes/algorithms/mpc#', 'mpc:'): value for key, value in dplist.items()}\n",
    "    dplist = {key.replace('https://brickschema.org/schema/Brick/ref#', 'ref:'): value for key, value in dplist.items()}\n",
    "    dplist = {key.replace('https://w3id.org/b4b/schemes/ext/ref-ext#', 'ref-ext:'): value for key, value in dplist.items()}\n",
    "    dplist = {key.replace('https://w3id.org/b4b/schemes/ext/brick-ev#', 'brick-ev:'): value for key, value in dplist.items()}\n",
    "\n",
    "    dict = {\n",
    "    \"ref-ext:LastKnownValueTimeseriesReference\": \"ref-ext:hasLastKnownValueTimeseriesId\",\n",
    "    \"ref-ext:HistoricalTimeseriesReference\": \"ref-ext:hasHistoricalTimeseriesId\",\n",
    "    \"ref-ext:RealtimeTimeseriesReference\": \"ref-ext:hasRealtimeTimeseriesId\",\n",
    "    \"ref-ext:ForecastTimeseriesReference\": \"ref-ext:hasForecastTimeseriesId\",\n",
    "    \"ref:TimeseriesReference\": \"ref:hasTimeseriesId\",\n",
    "    }\n",
    "\n",
    "    shape_graph_list = []\n",
    "    class_names = []\n",
    "    class_names_ = []\n",
    "    for k in dplist:\n",
    "        value_2 = dict[dplist[k]]\n",
    "        shape_graph = f\"\"\"\n",
    "@prefix brick: <https://brickschema.org/schema/Brick#> .\n",
    "@prefix rdf: <http://www.w3.org/1999/02/22-rdf-syntax-ns#> .\n",
    "@prefix sh: <http://www.w3.org/ns/shacl#>.\n",
    "@prefix ref: <https://brickschema.org/schema/Brick/ref#> .\n",
    "@prefix xsd: <http://www.w3.org/2001/XMLSchema#> .\n",
    "@prefix ref-ext: <https://w3id.org/b4b/schemes/ext/ref-ext#> .\n",
    "@prefix sba: <https://w3id.org/b4b/schemes/algorithms/sba#> .\n",
    "@prefix mpc: <https://w3id.org/b4b/schemes/algorithms/mpc#> .\n",
    "@prefix forc: <https://w3id.org/b4b/schemes/algorithms/forc#> .\n",
    "@prefix brick-ev: <https://w3id.org/b4b/schemes/ext/brick-ev#> .\n",
    "@prefix : <urn:algorithm_shapes#> .\n",
    "\n",
    ":requiredClass_{uuid.uuid4()}\n",
    "    a sh:NodeShape ;\n",
    "    sh:targetNode :targetNode ;\n",
    "    sh:sparql [\n",
    "        a sh:SPARQLConstraint ;\n",
    "        sh:message \"The building must contain at least one instance of the data point.\" ;\n",
    "        sh:select \\\"\\\"\\\"\n",
    "            SELECT ?this\n",
    "            WHERE {{\n",
    "                FILTER NOT EXISTS {{\n",
    "                    ?sensor a {k}  .\n",
    "                }}\n",
    "            }}\n",
    "        \\\"\\\"\\\" ;\n",
    "    ] .\n",
    ":requiedRelationship_{uuid.uuid4()}\n",
    "    a sh:NodeShape ;\n",
    "    sh:targetClass {k} ;\n",
    "    sh:property [\n",
    "        sh:path ref:hasExternalReference;\n",
    "        sh:minCount 1 ;\n",
    "        sh:message \"All datapoints need a timeseries reference.\" ;\n",
    "    ] .\n",
    ":reqioredExrefValue_{uuid.uuid4()}\n",
    "    a sh:NodeShape ;\n",
    "    sh:targetClass {dplist[k]} ; \n",
    "    sh:property [\n",
    "        sh:path {value_2};\n",
    "        sh:datatype xsd:string ;    \n",
    "        sh:minCount 1 ;\n",
    "        sh:maxCount 1 ;\n",
    "        sh:message \"All timeseries references need a value.\" ;\n",
    "    ] .\n",
    "\n",
    "\"\"\"\n",
    "        shape_graph_list.append(shape_graph)\n",
    "        class_names.append(k)\n",
    "        class_name = k.replace(\":\", \"_\")\n",
    "        class_names_.append(class_name)\n",
    "        \n",
    "    i=0\n",
    "    for g in shape_graph_list:\n",
    "        with open(f\"shacl/{folder_name}/shape_graph_{class_names_[i]}.ttl\", \"w\") as f:\n",
    "            f.write(g)\n",
    "            i=i+1\n",
    "\n",
    "    return df"
   ]
  },
  {
   "cell_type": "code",
   "execution_count": 305,
   "metadata": {},
   "outputs": [],
   "source": [
    "sparql_endpoint = 'https://graphdb.bimsim.app/repositories/breda_plus_schemas'"
   ]
  },
  {
   "cell_type": "markdown",
   "metadata": {},
   "source": [
    "### LoadForecastAlgorithm"
   ]
  },
  {
   "cell_type": "code",
   "execution_count": 306,
   "metadata": {},
   "outputs": [
    {
     "data": {
      "text/html": [
       "<div>\n",
       "<style scoped>\n",
       "    .dataframe tbody tr th:only-of-type {\n",
       "        vertical-align: middle;\n",
       "    }\n",
       "\n",
       "    .dataframe tbody tr th {\n",
       "        vertical-align: top;\n",
       "    }\n",
       "\n",
       "    .dataframe thead th {\n",
       "        text-align: right;\n",
       "    }\n",
       "</style>\n",
       "<table border=\"1\" class=\"dataframe\">\n",
       "  <thead>\n",
       "    <tr style=\"text-align: right;\">\n",
       "      <th></th>\n",
       "      <th>Input</th>\n",
       "      <th>Timeseries Reference</th>\n",
       "    </tr>\n",
       "  </thead>\n",
       "  <tbody>\n",
       "    <tr>\n",
       "      <th>0</th>\n",
       "      <td>https://brickschema.org/schema/Brick#Building_...</td>\n",
       "      <td>https://w3id.org/b4b/schemes/ext/ref-ext#Histo...</td>\n",
       "    </tr>\n",
       "    <tr>\n",
       "      <th>1</th>\n",
       "      <td>https://brickschema.org/schema/Brick#Outside_A...</td>\n",
       "      <td>https://w3id.org/b4b/schemes/ext/ref-ext#Histo...</td>\n",
       "    </tr>\n",
       "    <tr>\n",
       "      <th>2</th>\n",
       "      <td>https://brickschema.org/schema/Brick#Wind_Spee...</td>\n",
       "      <td>https://w3id.org/b4b/schemes/ext/ref-ext#Histo...</td>\n",
       "    </tr>\n",
       "    <tr>\n",
       "      <th>3</th>\n",
       "      <td>https://brickschema.org/schema/Brick#Solar_Rad...</td>\n",
       "      <td>https://w3id.org/b4b/schemes/ext/ref-ext#Histo...</td>\n",
       "    </tr>\n",
       "    <tr>\n",
       "      <th>4</th>\n",
       "      <td>https://w3id.org/b4b/schemes/algorithms/forc#O...</td>\n",
       "      <td>https://w3id.org/b4b/schemes/ext/ref-ext#Forec...</td>\n",
       "    </tr>\n",
       "    <tr>\n",
       "      <th>5</th>\n",
       "      <td>https://w3id.org/b4b/schemes/algorithms/forc#W...</td>\n",
       "      <td>https://w3id.org/b4b/schemes/ext/ref-ext#Forec...</td>\n",
       "    </tr>\n",
       "    <tr>\n",
       "      <th>6</th>\n",
       "      <td>https://w3id.org/b4b/schemes/algorithms/forc#S...</td>\n",
       "      <td>https://w3id.org/b4b/schemes/ext/ref-ext#Forec...</td>\n",
       "    </tr>\n",
       "  </tbody>\n",
       "</table>\n",
       "</div>"
      ],
      "text/plain": [
       "                                               Input  \\\n",
       "0  https://brickschema.org/schema/Brick#Building_...   \n",
       "1  https://brickschema.org/schema/Brick#Outside_A...   \n",
       "2  https://brickschema.org/schema/Brick#Wind_Spee...   \n",
       "3  https://brickschema.org/schema/Brick#Solar_Rad...   \n",
       "4  https://w3id.org/b4b/schemes/algorithms/forc#O...   \n",
       "5  https://w3id.org/b4b/schemes/algorithms/forc#W...   \n",
       "6  https://w3id.org/b4b/schemes/algorithms/forc#S...   \n",
       "\n",
       "                                Timeseries Reference  \n",
       "0  https://w3id.org/b4b/schemes/ext/ref-ext#Histo...  \n",
       "1  https://w3id.org/b4b/schemes/ext/ref-ext#Histo...  \n",
       "2  https://w3id.org/b4b/schemes/ext/ref-ext#Histo...  \n",
       "3  https://w3id.org/b4b/schemes/ext/ref-ext#Histo...  \n",
       "4  https://w3id.org/b4b/schemes/ext/ref-ext#Forec...  \n",
       "5  https://w3id.org/b4b/schemes/ext/ref-ext#Forec...  \n",
       "6  https://w3id.org/b4b/schemes/ext/ref-ext#Forec...  "
      ]
     },
     "execution_count": 306,
     "metadata": {},
     "output_type": "execute_result"
    }
   ],
   "source": [
    "query = \"\"\"\n",
    "PREFIX ref-ext: <https://w3id.org/b4b/schemes/ext/ref-ext#>\n",
    "PREFIX ref: <https://brickschema.org/schema/Brick/ref#>\n",
    "PREFIX brick: <https://brickschema.org/schema/Brick#>\n",
    "PREFIX sba: <https://w3id.org/b4b/schemes/algorithms/sba#> \n",
    "PREFIX mpc: <https://w3id.org/b4b/schemes/algorithms/mpc#> \n",
    "PREFIX forc: <https://w3id.org/b4b/schemes/algorithms/forc#> \n",
    "\n",
    "select ?input ?tsref where {\n",
    "    ?s ?p ?input .\n",
    "    FILTER(?s=sba:LoadForecastAlgorithm)\n",
    "    FILTER(?p=sba:hasInputData)\n",
    "    ?input ref:hasExternalReference ?arr .\n",
    "    ?arr a ?tsref .\n",
    "}\n",
    "    \"\"\"\n",
    "generate_dynamic_shape_graphs(sparql_endpoint, query, folder_name=\"/dynamic/LoadForecastAlgorithm\")\n"
   ]
  },
  {
   "cell_type": "markdown",
   "metadata": {},
   "source": [
    "### EVRealtimeFeedbackAlgorithm\n"
   ]
  },
  {
   "cell_type": "code",
   "execution_count": 307,
   "metadata": {},
   "outputs": [
    {
     "data": {
      "text/html": [
       "<div>\n",
       "<style scoped>\n",
       "    .dataframe tbody tr th:only-of-type {\n",
       "        vertical-align: middle;\n",
       "    }\n",
       "\n",
       "    .dataframe tbody tr th {\n",
       "        vertical-align: top;\n",
       "    }\n",
       "\n",
       "    .dataframe thead th {\n",
       "        text-align: right;\n",
       "    }\n",
       "</style>\n",
       "<table border=\"1\" class=\"dataframe\">\n",
       "  <thead>\n",
       "    <tr style=\"text-align: right;\">\n",
       "      <th></th>\n",
       "      <th>Input</th>\n",
       "      <th>Timeseries Reference</th>\n",
       "    </tr>\n",
       "  </thead>\n",
       "  <tbody>\n",
       "    <tr>\n",
       "      <th>0</th>\n",
       "      <td>https://w3id.org/b4b/schemes/ext/brick-ev#EV_C...</td>\n",
       "      <td>https://w3id.org/b4b/schemes/ext/ref-ext#Realt...</td>\n",
       "    </tr>\n",
       "    <tr>\n",
       "      <th>1</th>\n",
       "      <td>https://w3id.org/b4b/schemes/ext/brick-ev#EV_A...</td>\n",
       "      <td>https://w3id.org/b4b/schemes/ext/ref-ext#Realt...</td>\n",
       "    </tr>\n",
       "    <tr>\n",
       "      <th>2</th>\n",
       "      <td>https://w3id.org/b4b/schemes/ext/brick-ev#EV_D...</td>\n",
       "      <td>https://w3id.org/b4b/schemes/ext/ref-ext#Realt...</td>\n",
       "    </tr>\n",
       "    <tr>\n",
       "      <th>3</th>\n",
       "      <td>https://w3id.org/b4b/schemes/ext/brick-ev#EV_A...</td>\n",
       "      <td>https://w3id.org/b4b/schemes/ext/ref-ext#Realt...</td>\n",
       "    </tr>\n",
       "    <tr>\n",
       "      <th>4</th>\n",
       "      <td>https://w3id.org/b4b/schemes/ext/brick-ev#EV_B...</td>\n",
       "      <td>https://w3id.org/b4b/schemes/ext/ref-ext#Realt...</td>\n",
       "    </tr>\n",
       "  </tbody>\n",
       "</table>\n",
       "</div>"
      ],
      "text/plain": [
       "                                               Input  \\\n",
       "0  https://w3id.org/b4b/schemes/ext/brick-ev#EV_C...   \n",
       "1  https://w3id.org/b4b/schemes/ext/brick-ev#EV_A...   \n",
       "2  https://w3id.org/b4b/schemes/ext/brick-ev#EV_D...   \n",
       "3  https://w3id.org/b4b/schemes/ext/brick-ev#EV_A...   \n",
       "4  https://w3id.org/b4b/schemes/ext/brick-ev#EV_B...   \n",
       "\n",
       "                                Timeseries Reference  \n",
       "0  https://w3id.org/b4b/schemes/ext/ref-ext#Realt...  \n",
       "1  https://w3id.org/b4b/schemes/ext/ref-ext#Realt...  \n",
       "2  https://w3id.org/b4b/schemes/ext/ref-ext#Realt...  \n",
       "3  https://w3id.org/b4b/schemes/ext/ref-ext#Realt...  \n",
       "4  https://w3id.org/b4b/schemes/ext/ref-ext#Realt...  "
      ]
     },
     "execution_count": 307,
     "metadata": {},
     "output_type": "execute_result"
    }
   ],
   "source": [
    "query = \"\"\"\n",
    "PREFIX ref-ext: <https://w3id.org/b4b/schemes/ext/ref-ext#>\n",
    "PREFIX ref: <https://brickschema.org/schema/Brick/ref#>\n",
    "PREFIX brick: <https://brickschema.org/schema/Brick#>\n",
    "PREFIX sba: <https://w3id.org/b4b/schemes/algorithms/sba#> \n",
    "PREFIX mpc: <https://w3id.org/b4b/schemes/algorithms/mpc#> \n",
    "PREFIX forc: <https://w3id.org/b4b/schemes/algorithms/forc#> \n",
    "\n",
    "select ?input ?tsref where {\n",
    "    ?s ?p ?input .\n",
    "    FILTER(?s=mpc:EVRealtimeFeedbackAlgorithm)\n",
    "    FILTER(?p=sba:hasInputData)\n",
    "    ?input ref:hasExternalReference ?arr .\n",
    "    ?arr a ?tsref .\n",
    "}\n",
    "    \"\"\"\n",
    "\n",
    "generate_dynamic_shape_graphs(sparql_endpoint, query, folder_name='/dynamic/RealtimeFeedbackAlgorithm')"
   ]
  },
  {
   "cell_type": "markdown",
   "metadata": {},
   "source": [
    "### EVStateEstimationAlgorithm"
   ]
  },
  {
   "cell_type": "code",
   "execution_count": 308,
   "metadata": {},
   "outputs": [
    {
     "data": {
      "text/html": [
       "<div>\n",
       "<style scoped>\n",
       "    .dataframe tbody tr th:only-of-type {\n",
       "        vertical-align: middle;\n",
       "    }\n",
       "\n",
       "    .dataframe tbody tr th {\n",
       "        vertical-align: top;\n",
       "    }\n",
       "\n",
       "    .dataframe thead th {\n",
       "        text-align: right;\n",
       "    }\n",
       "</style>\n",
       "<table border=\"1\" class=\"dataframe\">\n",
       "  <thead>\n",
       "    <tr style=\"text-align: right;\">\n",
       "      <th></th>\n",
       "      <th>Input</th>\n",
       "      <th>Timeseries Reference</th>\n",
       "    </tr>\n",
       "  </thead>\n",
       "  <tbody>\n",
       "    <tr>\n",
       "      <th>0</th>\n",
       "      <td>https://w3id.org/b4b/schemes/ext/brick-ev#EV_C...</td>\n",
       "      <td>https://w3id.org/b4b/schemes/ext/ref-ext#Realt...</td>\n",
       "    </tr>\n",
       "    <tr>\n",
       "      <th>1</th>\n",
       "      <td>https://w3id.org/b4b/schemes/ext/brick-ev#EV_A...</td>\n",
       "      <td>https://w3id.org/b4b/schemes/ext/ref-ext#Realt...</td>\n",
       "    </tr>\n",
       "    <tr>\n",
       "      <th>2</th>\n",
       "      <td>https://w3id.org/b4b/schemes/ext/brick-ev#EV_D...</td>\n",
       "      <td>https://w3id.org/b4b/schemes/ext/ref-ext#Realt...</td>\n",
       "    </tr>\n",
       "    <tr>\n",
       "      <th>3</th>\n",
       "      <td>https://w3id.org/b4b/schemes/ext/brick-ev#EV_A...</td>\n",
       "      <td>https://w3id.org/b4b/schemes/ext/ref-ext#Realt...</td>\n",
       "    </tr>\n",
       "    <tr>\n",
       "      <th>4</th>\n",
       "      <td>https://w3id.org/b4b/schemes/ext/brick-ev#EV_B...</td>\n",
       "      <td>https://w3id.org/b4b/schemes/ext/ref-ext#Realt...</td>\n",
       "    </tr>\n",
       "    <tr>\n",
       "      <th>5</th>\n",
       "      <td>https://w3id.org/b4b/schemes/ext/brick-ev#Vehi...</td>\n",
       "      <td>https://w3id.org/b4b/schemes/ext/ref-ext#Realt...</td>\n",
       "    </tr>\n",
       "    <tr>\n",
       "      <th>6</th>\n",
       "      <td>https://w3id.org/b4b/schemes/ext/brick-ev#Char...</td>\n",
       "      <td>https://w3id.org/b4b/schemes/ext/ref-ext#Realt...</td>\n",
       "    </tr>\n",
       "    <tr>\n",
       "      <th>7</th>\n",
       "      <td>https://w3id.org/b4b/schemes/ext/brick-ev#EV_E...</td>\n",
       "      <td>https://w3id.org/b4b/schemes/ext/ref-ext#Realt...</td>\n",
       "    </tr>\n",
       "    <tr>\n",
       "      <th>8</th>\n",
       "      <td>https://w3id.org/b4b/schemes/ext/brick-ev#EV_C...</td>\n",
       "      <td>https://w3id.org/b4b/schemes/ext/ref-ext#Realt...</td>\n",
       "    </tr>\n",
       "  </tbody>\n",
       "</table>\n",
       "</div>"
      ],
      "text/plain": [
       "                                               Input  \\\n",
       "0  https://w3id.org/b4b/schemes/ext/brick-ev#EV_C...   \n",
       "1  https://w3id.org/b4b/schemes/ext/brick-ev#EV_A...   \n",
       "2  https://w3id.org/b4b/schemes/ext/brick-ev#EV_D...   \n",
       "3  https://w3id.org/b4b/schemes/ext/brick-ev#EV_A...   \n",
       "4  https://w3id.org/b4b/schemes/ext/brick-ev#EV_B...   \n",
       "5  https://w3id.org/b4b/schemes/ext/brick-ev#Vehi...   \n",
       "6  https://w3id.org/b4b/schemes/ext/brick-ev#Char...   \n",
       "7  https://w3id.org/b4b/schemes/ext/brick-ev#EV_E...   \n",
       "8  https://w3id.org/b4b/schemes/ext/brick-ev#EV_C...   \n",
       "\n",
       "                                Timeseries Reference  \n",
       "0  https://w3id.org/b4b/schemes/ext/ref-ext#Realt...  \n",
       "1  https://w3id.org/b4b/schemes/ext/ref-ext#Realt...  \n",
       "2  https://w3id.org/b4b/schemes/ext/ref-ext#Realt...  \n",
       "3  https://w3id.org/b4b/schemes/ext/ref-ext#Realt...  \n",
       "4  https://w3id.org/b4b/schemes/ext/ref-ext#Realt...  \n",
       "5  https://w3id.org/b4b/schemes/ext/ref-ext#Realt...  \n",
       "6  https://w3id.org/b4b/schemes/ext/ref-ext#Realt...  \n",
       "7  https://w3id.org/b4b/schemes/ext/ref-ext#Realt...  \n",
       "8  https://w3id.org/b4b/schemes/ext/ref-ext#Realt...  "
      ]
     },
     "execution_count": 308,
     "metadata": {},
     "output_type": "execute_result"
    }
   ],
   "source": [
    "query = \"\"\"\n",
    "PREFIX ref-ext: <https://w3id.org/b4b/schemes/ext/ref-ext#>\n",
    "PREFIX ref: <https://brickschema.org/schema/Brick/ref#>\n",
    "PREFIX brick: <https://brickschema.org/schema/Brick#>\n",
    "PREFIX sba: <https://w3id.org/b4b/schemes/algorithms/sba#> \n",
    "PREFIX mpc: <https://w3id.org/b4b/schemes/algorithms/mpc#> \n",
    "PREFIX forc: <https://w3id.org/b4b/schemes/algorithms/forc#> \n",
    "\n",
    "select ?input ?tsref where {\n",
    "    ?s ?p ?input .\n",
    "    FILTER(?s=mpc:EVStateEstimationAlgorithm)\n",
    "    FILTER(?p=sba:hasInputData)\n",
    "    ?input ref:hasExternalReference ?arr .\n",
    "    ?arr a ?tsref .\n",
    "}\n",
    "    \"\"\"\n",
    "\n",
    "generate_dynamic_shape_graphs(sparql_endpoint, query, folder_name='dynamic/EVStateEstimationAlgorithm')"
   ]
  },
  {
   "cell_type": "markdown",
   "metadata": {},
   "source": [
    "### DynamicParameterEstimationAlgorithm"
   ]
  },
  {
   "cell_type": "code",
   "execution_count": 309,
   "metadata": {},
   "outputs": [
    {
     "data": {
      "text/html": [
       "<div>\n",
       "<style scoped>\n",
       "    .dataframe tbody tr th:only-of-type {\n",
       "        vertical-align: middle;\n",
       "    }\n",
       "\n",
       "    .dataframe tbody tr th {\n",
       "        vertical-align: top;\n",
       "    }\n",
       "\n",
       "    .dataframe thead th {\n",
       "        text-align: right;\n",
       "    }\n",
       "</style>\n",
       "<table border=\"1\" class=\"dataframe\">\n",
       "  <thead>\n",
       "    <tr style=\"text-align: right;\">\n",
       "      <th></th>\n",
       "      <th>Input</th>\n",
       "      <th>Timeseries Reference</th>\n",
       "    </tr>\n",
       "  </thead>\n",
       "  <tbody>\n",
       "    <tr>\n",
       "      <th>0</th>\n",
       "      <td>https://w3id.org/b4b/schemes/ext/brick-ev#EV_E...</td>\n",
       "      <td>https://w3id.org/b4b/schemes/ext/ref-ext#Realt...</td>\n",
       "    </tr>\n",
       "  </tbody>\n",
       "</table>\n",
       "</div>"
      ],
      "text/plain": [
       "                                               Input  \\\n",
       "0  https://w3id.org/b4b/schemes/ext/brick-ev#EV_E...   \n",
       "\n",
       "                                Timeseries Reference  \n",
       "0  https://w3id.org/b4b/schemes/ext/ref-ext#Realt...  "
      ]
     },
     "execution_count": 309,
     "metadata": {},
     "output_type": "execute_result"
    }
   ],
   "source": [
    "query = \"\"\"\n",
    "PREFIX ref-ext: <https://w3id.org/b4b/schemes/ext/ref-ext#>\n",
    "PREFIX ref: <https://brickschema.org/schema/Brick/ref#>\n",
    "PREFIX brick: <https://brickschema.org/schema/Brick#>\n",
    "PREFIX sba: <https://w3id.org/b4b/schemes/algorithms/sba#> \n",
    "PREFIX mpc: <https://w3id.org/b4b/schemes/algorithms/mpc#> \n",
    "PREFIX forc: <https://w3id.org/b4b/schemes/algorithms/forc#> \n",
    "\n",
    "select ?input ?tsref where {\n",
    "    ?s ?p ?input .\n",
    "    FILTER(?s=mpc:DynamicParameterEstimationAlgorithm)\n",
    "    FILTER(?p=sba:hasInputData)\n",
    "    ?input ref:hasExternalReference ?arr .\n",
    "    ?arr a ?tsref .\n",
    "}\n",
    "    \"\"\"\n",
    "\n",
    "generate_dynamic_shape_graphs(sparql_endpoint, query, folder_name='/dynamic/DynamicParameterEstimationAlgorithm')"
   ]
  },
  {
   "cell_type": "markdown",
   "metadata": {},
   "source": [
    "### EVChargingCurrentSetpointCommunication"
   ]
  },
  {
   "cell_type": "code",
   "execution_count": 310,
   "metadata": {},
   "outputs": [
    {
     "ename": "KeyError",
     "evalue": "'Input'",
     "output_type": "error",
     "traceback": [
      "\u001b[1;31m---------------------------------------------------------------------------\u001b[0m",
      "\u001b[1;31mKeyError\u001b[0m                                  Traceback (most recent call last)",
      "Cell \u001b[1;32mIn[310], line 18\u001b[0m\n\u001b[0;32m      1\u001b[0m query \u001b[38;5;241m=\u001b[39m \u001b[38;5;124m\"\"\"\u001b[39m\n\u001b[0;32m      2\u001b[0m \u001b[38;5;124mPREFIX ref-ext: <https://w3id.org/b4b/schemes/ext/ref-ext#>\u001b[39m\n\u001b[0;32m      3\u001b[0m \u001b[38;5;124mPREFIX ref: <https://brickschema.org/schema/Brick/ref#>\u001b[39m\n\u001b[1;32m   (...)\u001b[0m\n\u001b[0;32m     15\u001b[0m \u001b[38;5;124m}\u001b[39m\n\u001b[0;32m     16\u001b[0m \u001b[38;5;124m    \u001b[39m\u001b[38;5;124m\"\"\"\u001b[39m\n\u001b[1;32m---> 18\u001b[0m df \u001b[38;5;241m=\u001b[39m \u001b[43mgenerate_dynamic_shape_graphs\u001b[49m\u001b[43m(\u001b[49m\u001b[43msparql_endpoint\u001b[49m\u001b[43m,\u001b[49m\u001b[43m \u001b[49m\u001b[43mquery\u001b[49m\u001b[43m,\u001b[49m\u001b[43m \u001b[49m\u001b[43mfolder_name\u001b[49m\u001b[38;5;241;43m=\u001b[39;49m\u001b[38;5;124;43m'\u001b[39;49m\u001b[38;5;124;43m/dynamic/EVChargingCurrentSetpointCommunication\u001b[39;49m\u001b[38;5;124;43m'\u001b[39;49m\u001b[43m)\u001b[49m\n",
      "Cell \u001b[1;32mIn[304], line 34\u001b[0m, in \u001b[0;36mgenerate_dynamic_shape_graphs\u001b[1;34m(sparql_endpoint, sparql_query, folder_name)\u001b[0m\n\u001b[0;32m     28\u001b[0m data \u001b[38;5;241m=\u001b[39m [\n\u001b[0;32m     29\u001b[0m     {\u001b[38;5;124m\"\u001b[39m\u001b[38;5;124mInput\u001b[39m\u001b[38;5;124m\"\u001b[39m: item[\u001b[38;5;124m\"\u001b[39m\u001b[38;5;124minput\u001b[39m\u001b[38;5;124m\"\u001b[39m][\u001b[38;5;124m\"\u001b[39m\u001b[38;5;124mvalue\u001b[39m\u001b[38;5;124m\"\u001b[39m], \u001b[38;5;124m\"\u001b[39m\u001b[38;5;124mTimeseries Reference\u001b[39m\u001b[38;5;124m\"\u001b[39m: item[\u001b[38;5;124m\"\u001b[39m\u001b[38;5;124mtsref\u001b[39m\u001b[38;5;124m\"\u001b[39m][\u001b[38;5;124m\"\u001b[39m\u001b[38;5;124mvalue\u001b[39m\u001b[38;5;124m\"\u001b[39m]}\n\u001b[0;32m     30\u001b[0m     \u001b[38;5;28;01mfor\u001b[39;00m item \u001b[38;5;129;01min\u001b[39;00m bindings\n\u001b[0;32m     31\u001b[0m ]\n\u001b[0;32m     32\u001b[0m df \u001b[38;5;241m=\u001b[39m pd\u001b[38;5;241m.\u001b[39mDataFrame(data)\n\u001b[1;32m---> 34\u001b[0m class_list \u001b[38;5;241m=\u001b[39m \u001b[43mdf\u001b[49m\u001b[43m[\u001b[49m\u001b[38;5;124;43m'\u001b[39;49m\u001b[38;5;124;43mInput\u001b[39;49m\u001b[38;5;124;43m'\u001b[39;49m\u001b[43m]\u001b[49m\u001b[38;5;241m.\u001b[39mtolist()\n\u001b[0;32m     36\u001b[0m point_with_suffix_list \u001b[38;5;241m=\u001b[39m []\n\u001b[0;32m     37\u001b[0m \u001b[38;5;28;01mfor\u001b[39;00m point \u001b[38;5;129;01min\u001b[39;00m class_list:\n",
      "File \u001b[1;32mc:\\Users\\lasit\\Documents\\SoftwarePhD\\mpc-schema-journal-paper\\venv\\Lib\\site-packages\\pandas\\core\\frame.py:4102\u001b[0m, in \u001b[0;36mDataFrame.__getitem__\u001b[1;34m(self, key)\u001b[0m\n\u001b[0;32m   4100\u001b[0m \u001b[38;5;28;01mif\u001b[39;00m \u001b[38;5;28mself\u001b[39m\u001b[38;5;241m.\u001b[39mcolumns\u001b[38;5;241m.\u001b[39mnlevels \u001b[38;5;241m>\u001b[39m \u001b[38;5;241m1\u001b[39m:\n\u001b[0;32m   4101\u001b[0m     \u001b[38;5;28;01mreturn\u001b[39;00m \u001b[38;5;28mself\u001b[39m\u001b[38;5;241m.\u001b[39m_getitem_multilevel(key)\n\u001b[1;32m-> 4102\u001b[0m indexer \u001b[38;5;241m=\u001b[39m \u001b[38;5;28;43mself\u001b[39;49m\u001b[38;5;241;43m.\u001b[39;49m\u001b[43mcolumns\u001b[49m\u001b[38;5;241;43m.\u001b[39;49m\u001b[43mget_loc\u001b[49m\u001b[43m(\u001b[49m\u001b[43mkey\u001b[49m\u001b[43m)\u001b[49m\n\u001b[0;32m   4103\u001b[0m \u001b[38;5;28;01mif\u001b[39;00m is_integer(indexer):\n\u001b[0;32m   4104\u001b[0m     indexer \u001b[38;5;241m=\u001b[39m [indexer]\n",
      "File \u001b[1;32mc:\\Users\\lasit\\Documents\\SoftwarePhD\\mpc-schema-journal-paper\\venv\\Lib\\site-packages\\pandas\\core\\indexes\\range.py:417\u001b[0m, in \u001b[0;36mRangeIndex.get_loc\u001b[1;34m(self, key)\u001b[0m\n\u001b[0;32m    415\u001b[0m         \u001b[38;5;28;01mraise\u001b[39;00m \u001b[38;5;167;01mKeyError\u001b[39;00m(key) \u001b[38;5;28;01mfrom\u001b[39;00m \u001b[38;5;21;01merr\u001b[39;00m\n\u001b[0;32m    416\u001b[0m \u001b[38;5;28;01mif\u001b[39;00m \u001b[38;5;28misinstance\u001b[39m(key, Hashable):\n\u001b[1;32m--> 417\u001b[0m     \u001b[38;5;28;01mraise\u001b[39;00m \u001b[38;5;167;01mKeyError\u001b[39;00m(key)\n\u001b[0;32m    418\u001b[0m \u001b[38;5;28mself\u001b[39m\u001b[38;5;241m.\u001b[39m_check_indexing_error(key)\n\u001b[0;32m    419\u001b[0m \u001b[38;5;28;01mraise\u001b[39;00m \u001b[38;5;167;01mKeyError\u001b[39;00m(key)\n",
      "\u001b[1;31mKeyError\u001b[0m: 'Input'"
     ]
    }
   ],
   "source": [
    "query = \"\"\"\n",
    "PREFIX ref-ext: <https://w3id.org/b4b/schemes/ext/ref-ext#>\n",
    "PREFIX ref: <https://brickschema.org/schema/Brick/ref#>\n",
    "PREFIX brick: <https://brickschema.org/schema/Brick#>\n",
    "PREFIX sba: <https://w3id.org/b4b/schemes/algorithms/sba#> \n",
    "PREFIX mpc: <https://w3id.org/b4b/schemes/algorithms/mpc#> \n",
    "PREFIX forc: <https://w3id.org/b4b/schemes/algorithms/forc#> \n",
    "\n",
    "select ?input ?tsref where {\n",
    "    ?s ?p ?input .\n",
    "    FILTER(?s=mpc:EVChargingCurrentSetpointCommunication)\n",
    "    FILTER(?p=sba:hasInputData)\n",
    "    ?input ref:hasExternalReference ?arr .\n",
    "    ?arr a ?tsref .\n",
    "}\n",
    "    \"\"\"\n",
    "\n",
    "df = generate_dynamic_shape_graphs(sparql_endpoint, query, folder_name='/dynamic/EVChargingCurrentSetpointCommunication')"
   ]
  },
  {
   "cell_type": "markdown",
   "metadata": {},
   "source": [
    "# Validate"
   ]
  },
  {
   "cell_type": "markdown",
   "metadata": {},
   "source": [
    "## Breda"
   ]
  },
  {
   "cell_type": "markdown",
   "metadata": {},
   "source": [
    "Points under Dynamic configurations --> have a reference to timeseries \\\\\\\n",
    "Points under Static configurations --> have a brick:value"
   ]
  },
  {
   "cell_type": "code",
   "execution_count": 23,
   "metadata": {},
   "outputs": [],
   "source": [
    "building_sparql_endpoint = 'https://graphdb.bimsim.app/repositories/breda'"
   ]
  },
  {
   "cell_type": "code",
   "execution_count": 24,
   "metadata": {},
   "outputs": [],
   "source": [
    "from pyshacl import validate\n",
    "from rdflib import Graph\n",
    "\n",
    "def validate_graph(data_graph, shape_graph):\n",
    "    conforms, report_graph, report_text = validate(\n",
    "        data_graph,\n",
    "        shacl_graph=shape_graph,\n",
    "        inference='none',\n",
    "        serialize_report_graph=True\n",
    "    )\n",
    "    return conforms, report_graph, report_text\n",
    "\n"
   ]
  },
  {
   "cell_type": "code",
   "execution_count": 25,
   "metadata": {},
   "outputs": [
    {
     "name": "stdout",
     "output_type": "stream",
     "text": [
      "Loaded 774 tripples\n"
     ]
    }
   ],
   "source": [
    "construct_query = \"\"\"\n",
    "CONSTRUCT { ?s ?p ?o }\n",
    "WHERE { ?s ?p ?o }\n",
    "\"\"\"\n",
    "query_params = {\n",
    "    'query': construct_query,\n",
    "    'infer': 'true' \n",
    "}\n",
    "headers = {\n",
    "\"Content-Type\": \"application/sparql-query\",\n",
    "\"Accept\": \"application/json\"\n",
    "}\n",
    "auth = (\"lchamari\", \"lchamari\")\n",
    "\n",
    "response = requests.get(building_sparql_endpoint, params=query_params,  auth=auth)\n",
    "\n",
    "if response.status_code == 200:\n",
    "    response_text = response.text\n",
    "    building_data_graph= Graph()\n",
    "    building_data_graph.parse(data=response_text, format=\"turtle\")\n",
    "    print(f\"Loaded {len(building_data_graph)} tripples\")\n",
    "\n",
    "else:\n",
    "\n",
    "    print(f\"Error: {response.status_code} - {response.reason}\")"
   ]
  },
  {
   "cell_type": "code",
   "execution_count": 26,
   "metadata": {},
   "outputs": [
    {
     "name": "stdout",
     "output_type": "stream",
     "text": [
      "Conforms: True\n",
      "Validation Report\n",
      "Conforms: True\n",
      "\n"
     ]
    }
   ],
   "source": [
    "shape_graph= Graph()\n",
    "shape_graph.parse(\"shacl/dynamic/LoadForecastAlgorithm/shape_graph_brick_Building_Electrical_Meter.ttl\", format=\"turtle\")\n",
    "conforms, report_graph, report_text  = validate_graph(building_data_graph, shape_graph)\n",
    "print(\"Conforms:\", conforms)\n",
    "print(report_text)"
   ]
  },
  {
   "cell_type": "code",
   "execution_count": 27,
   "metadata": {},
   "outputs": [],
   "source": [
    "def validate_algorithm(folder_name):\n",
    "    full_text = \"\"\n",
    "    folder_path = f\"shacl\\{folder_name}\"\n",
    "    for file_name in os.listdir(folder_path):\n",
    "        if file_name.endswith('.ttl'):\n",
    "            file_path = os.path.join(folder_path, file_name)\n",
    "            temp_graph = Graph()\n",
    "            temp_graph.parse(file_path, format='turtle')\n",
    "            res = validate_graph(building_data_graph, temp_graph)\n",
    "            conforms, results_graph, results_text = res\n",
    "            full_text = full_text + file_name + \"\\n\"\n",
    "            full_text = full_text + results_text + \"\\n\"\n",
    "    try:\n",
    "        folder_path = f\"validation/building_1/{folder_name}\"\n",
    "        os.makedirs(folder_path, exist_ok=True)\n",
    "        with open(f\"{folder_path}/validation.txt\", \"w\") as f:\n",
    "            f.write(str(full_text))\n",
    "        print(\"Writing to:\", os.path.abspath(f\"{folder_path}/validation.txt\"))\n",
    "        return full_text\n",
    "    except Exception as e:\n",
    "        print(\"Error writing file:\", e)\n",
    "        return None\n"
   ]
  },
  {
   "cell_type": "code",
   "execution_count": 28,
   "metadata": {},
   "outputs": [
    {
     "name": "stdout",
     "output_type": "stream",
     "text": [
      "Writing to: c:\\Users\\lasit\\Documents\\SoftwarePhD\\mpc-schema-journal-paper\\validation\\building_1\\dynamic\\LoadForecastAlgorithm\\validation.txt\n",
      "shape_graph_brick_Building_Electrical_Meter.ttl\n",
      "Validation Report\n",
      "Conforms: True\n",
      "\n",
      "shape_graph_brick_Outside_Air_Temperature_Sensor.ttl\n",
      "Validation Report\n",
      "Conforms: True\n",
      "\n",
      "shape_graph_brick_Solar_Radiance_Sensor.ttl\n",
      "Validation Report\n",
      "Conforms: True\n",
      "\n",
      "shape_graph_brick_Wind_Speed_Sensor.ttl\n",
      "Validation Report\n",
      "Conforms: True\n",
      "\n",
      "shape_graph_forc_OutdoorTemperatureForecast.ttl\n",
      "Validation Report\n",
      "Conforms: True\n",
      "\n",
      "shape_graph_forc_SolarRadianceForecast.ttl\n",
      "Validation Report\n",
      "Conforms: True\n",
      "\n",
      "shape_graph_forc_WindSpeedForecast.ttl\n",
      "Validation Report\n",
      "Conforms: True\n",
      "\n",
      "\n"
     ]
    }
   ],
   "source": [
    "shape_graph.bind('forc', 'https://w3id.org/b4b/schemes/algorithms/forc#')\n",
    "building_data_graph.bind('forc', 'https://w3id.org/b4b/schemes/algorithms/forc#')\n",
    "res=validate_algorithm('dynamic/LoadForecastAlgorithm')\n",
    "print(res)"
   ]
  },
  {
   "cell_type": "code",
   "execution_count": 29,
   "metadata": {},
   "outputs": [
    {
     "name": "stdout",
     "output_type": "stream",
     "text": [
      "Writing to: c:\\Users\\lasit\\Documents\\SoftwarePhD\\mpc-schema-journal-paper\\validation\\building_1\\dynamic\\EVStateEstimationAlgorithm\\validation.txt\n",
      "shape_graph_brick-ev_Charging_Session_Status.ttl\n",
      "Validation Report\n",
      "Conforms: True\n",
      "\n",
      "shape_graph_brick-ev_EV_Arrival_SOC.ttl\n",
      "Validation Report\n",
      "Conforms: True\n",
      "\n",
      "shape_graph_brick-ev_EV_Arrival_Time.ttl\n",
      "Validation Report\n",
      "Conforms: True\n",
      "\n",
      "shape_graph_brick-ev_EV_Battery_Size.ttl\n",
      "Validation Report\n",
      "Conforms: True\n",
      "\n",
      "shape_graph_brick-ev_EV_Charging_Session_Visual_Number.ttl\n",
      "Validation Report\n",
      "Conforms: True\n",
      "\n",
      "shape_graph_brick-ev_EV_Charging_Station_ID.ttl\n",
      "Validation Report\n",
      "Conforms: True\n",
      "\n",
      "shape_graph_brick-ev_EV_Departure_Time.ttl\n",
      "Validation Report\n",
      "Conforms: True\n",
      "\n",
      "shape_graph_brick-ev_EV_Electric_Energy_Meter.ttl\n",
      "Validation Report\n",
      "Conforms: True\n",
      "\n",
      "shape_graph_brick-ev_Vehicle_Full_Status.ttl\n",
      "Validation Report\n",
      "Conforms: True\n",
      "\n",
      "\n"
     ]
    }
   ],
   "source": [
    "shape_graph.bind('brick-ev', 'https://w3id.org/b4b/schemes/ext/brick-ev#')\n",
    "building_data_graph.bind('brick-ev', 'https://w3id.org/b4b/schemes/ext/brick-ev#')\n",
    "res=validate_algorithm('dynamic/EVStateEstimationAlgorithm')\n",
    "print(res)"
   ]
  },
  {
   "cell_type": "code",
   "execution_count": 30,
   "metadata": {},
   "outputs": [
    {
     "name": "stdout",
     "output_type": "stream",
     "text": [
      "Writing to: c:\\Users\\lasit\\Documents\\SoftwarePhD\\mpc-schema-journal-paper\\validation\\building_1\\dynamic\\RealtimeFeedbackAlgorithm\\validation.txt\n",
      "shape_graph_brick-ev_EV_Arrival_SOC.ttl\n",
      "Validation Report\n",
      "Conforms: True\n",
      "\n",
      "shape_graph_brick-ev_EV_Arrival_Time.ttl\n",
      "Validation Report\n",
      "Conforms: True\n",
      "\n",
      "shape_graph_brick-ev_EV_Battery_Size.ttl\n",
      "Validation Report\n",
      "Conforms: True\n",
      "\n",
      "shape_graph_brick-ev_EV_Charging_Station_ID.ttl\n",
      "Validation Report\n",
      "Conforms: True\n",
      "\n",
      "shape_graph_brick-ev_EV_Departure_Time.ttl\n",
      "Validation Report\n",
      "Conforms: True\n",
      "\n",
      "\n"
     ]
    }
   ],
   "source": [
    "shape_graph.bind('brick-ev', 'https://w3id.org/b4b/schemes/ext/brick-ev#')\n",
    "building_data_graph.bind('brick-ev', 'https://w3id.org/b4b/schemes/ext/brick-ev#')\n",
    "res=validate_algorithm('dynamic/RealtimeFeedbackAlgorithm')\n",
    "print(res)"
   ]
  },
  {
   "cell_type": "code",
   "execution_count": 31,
   "metadata": {},
   "outputs": [
    {
     "name": "stdout",
     "output_type": "stream",
     "text": [
      "Writing to: c:\\Users\\lasit\\Documents\\SoftwarePhD\\mpc-schema-journal-paper\\validation\\building_1\\dynamic\\EVChargingCurrentSetpointCommunication\\validation.txt\n",
      "shape_graph_brick-ev_EV_Electric_Energy_Meter.ttl\n",
      "Validation Report\n",
      "Conforms: True\n",
      "\n",
      "\n"
     ]
    }
   ],
   "source": [
    "res=validate_algorithm('dynamic/EVChargingCurrentSetpointCommunication')\n",
    "print(res)"
   ]
  },
  {
   "cell_type": "markdown",
   "metadata": {},
   "source": [
    "## Building_v1"
   ]
  },
  {
   "cell_type": "code",
   "execution_count": 32,
   "metadata": {},
   "outputs": [],
   "source": [
    "building_sparql_endpoint = 'https://graphdb.bimsim.app/repositories/building_v1'"
   ]
  },
  {
   "cell_type": "code",
   "execution_count": 33,
   "metadata": {},
   "outputs": [
    {
     "name": "stdout",
     "output_type": "stream",
     "text": [
      "Loaded 719 tripples\n"
     ]
    }
   ],
   "source": [
    "construct_query = \"\"\"\n",
    "CONSTRUCT { ?s ?p ?o }\n",
    "WHERE { ?s ?p ?o }\n",
    "\"\"\"\n",
    "query_params = {\n",
    "    'query': construct_query,\n",
    "    'infer': 'true' \n",
    "}\n",
    "headers = {\n",
    "\"Content-Type\": \"application/sparql-query\",\n",
    "\"Accept\": \"application/json\"\n",
    "}\n",
    "auth = (\"lchamari\", \"lchamari\")\n",
    "\n",
    "response = requests.get(building_sparql_endpoint, params=query_params,  auth=auth)\n",
    "\n",
    "if response.status_code == 200:\n",
    "    response_text = response.text\n",
    "    building_data_graph= Graph()\n",
    "    building_data_graph.parse(data=response_text, format=\"turtle\")\n",
    "    print(f\"Loaded {len(building_data_graph)} tripples\")\n",
    "\n",
    "else:\n",
    "    print(f\"Error: {response.status_code} - {response.reason}\")"
   ]
  },
  {
   "cell_type": "code",
   "execution_count": 34,
   "metadata": {},
   "outputs": [],
   "source": [
    "def validate_algorithm(folder_name):\n",
    "    full_text = \"\"\n",
    "    folder_path = f\"shacl\\{folder_name}\"\n",
    "    for file_name in os.listdir(folder_path):\n",
    "        if file_name.endswith('.ttl'):\n",
    "            file_path = os.path.join(folder_path, file_name)\n",
    "            temp_graph = Graph()\n",
    "            temp_graph.parse(file_path, format='turtle')\n",
    "            res = validate_graph(building_data_graph, temp_graph)\n",
    "            conforms, results_graph, results_text = res\n",
    "            full_text = full_text + file_name + \"\\n\"\n",
    "            full_text = full_text + results_text + \"\\n\"\n",
    "    try:\n",
    "        folder_path = f\"validation/building_v1/{folder_name}\"\n",
    "        os.makedirs(folder_path, exist_ok=True)\n",
    "        with open(f\"{folder_path}/validation.txt\", \"w\") as f:\n",
    "            f.write(str(full_text))\n",
    "        print(\"Writing to:\", os.path.abspath(f\"{folder_path}/validation.txt\"))\n",
    "        return full_text\n",
    "    except Exception as e:\n",
    "        print(\"Error writing file:\", e)\n",
    "        return None\n"
   ]
  },
  {
   "cell_type": "code",
   "execution_count": 35,
   "metadata": {},
   "outputs": [],
   "source": [
    "building_data_graph.bind('forc', 'https://w3id.org/b4b/schemes/algorithms/forc#')\n",
    "shape_graph.bind('brick-ev', 'https://w3id.org/b4b/schemes/algorithms/brick-ev#')"
   ]
  },
  {
   "cell_type": "code",
   "execution_count": 36,
   "metadata": {},
   "outputs": [
    {
     "name": "stdout",
     "output_type": "stream",
     "text": [
      "Writing to: c:\\Users\\lasit\\Documents\\SoftwarePhD\\mpc-schema-journal-paper\\validation\\building_v1\\dynamic\\LoadForecastAlgorithm\\validation.txt\n",
      "shape_graph_brick_Building_Electrical_Meter.ttl\n",
      "Validation Report\n",
      "Conforms: True\n",
      "\n",
      "shape_graph_brick_Outside_Air_Temperature_Sensor.ttl\n",
      "Validation Report\n",
      "Conforms: False\n",
      "Results (1):\n",
      "Constraint Violation in SPARQLConstraintComponent (http://www.w3.org/ns/shacl#SPARQLConstraintComponent):\n",
      "\tSeverity: sh:Violation\n",
      "\tSource Shape: :requiredClass_f6d49ea0-639c-4d2c-8724-05dfba5e7e1c\n",
      "\tFocus Node: <urn:algorithm_shapes#targetNode>\n",
      "\tValue Node: <urn:algorithm_shapes#targetNode>\n",
      "\tSource Constraint: [ rdf:type sh:SPARQLConstraint ; sh:message Literal(\"The building must contain at least one instance of the data point.\") ; sh:select Literal(\"\n",
      "            SELECT ?this\n",
      "            WHERE {\n",
      "                FILTER NOT EXISTS {\n",
      "                    ?sensor a brick:Outside_Air_Temperature_Sensor  .\n",
      "                }\n",
      "            }\n",
      "        \") ]\n",
      "\tMessage: The building must contain at least one instance of the data point.\n",
      "\n",
      "shape_graph_brick_Solar_Radiance_Sensor.ttl\n",
      "Validation Report\n",
      "Conforms: True\n",
      "\n",
      "shape_graph_brick_Wind_Speed_Sensor.ttl\n",
      "Validation Report\n",
      "Conforms: False\n",
      "Results (1):\n",
      "Constraint Violation in MinCountConstraintComponent (http://www.w3.org/ns/shacl#MinCountConstraintComponent):\n",
      "\tSeverity: sh:Violation\n",
      "\tSource Shape: [ sh:message Literal(\"All datapoints need a timeseries reference.\") ; sh:minCount Literal(\"1\", datatype=xsd:integer) ; sh:path ref:hasExternalReference ]\n",
      "\tFocus Node: <urn:building_v1#bldgWindSpeedSensor>\n",
      "\tResult Path: ref:hasExternalReference\n",
      "\tMessage: All datapoints need a timeseries reference.\n",
      "\n",
      "shape_graph_forc_OutdoorTemperatureForecast.ttl\n",
      "Validation Report\n",
      "Conforms: True\n",
      "\n",
      "shape_graph_forc_SolarRadianceForecast.ttl\n",
      "Validation Report\n",
      "Conforms: True\n",
      "\n",
      "shape_graph_forc_WindSpeedForecast.ttl\n",
      "Validation Report\n",
      "Conforms: True\n",
      "\n",
      "\n"
     ]
    }
   ],
   "source": [
    "building_data_graph.bind('forc', 'https://w3id.org/b4b/schemes/algorithms/forc#')\n",
    "building_data_graph.bind('brick-ev', 'https://w3id.org/b4b/schemes/algorithms/brick-ev#')\n",
    "res=validate_algorithm('dynamic/LoadForecastAlgorithm')\n",
    "print(res)"
   ]
  },
  {
   "cell_type": "code",
   "execution_count": 37,
   "metadata": {},
   "outputs": [
    {
     "name": "stdout",
     "output_type": "stream",
     "text": [
      "Writing to: c:\\Users\\lasit\\Documents\\SoftwarePhD\\mpc-schema-journal-paper\\validation\\building_v1\\dynamic\\RealtimeFeedbackAlgorithm\\validation.txt\n",
      "shape_graph_brick-ev_EV_Arrival_SOC.ttl\n",
      "Validation Report\n",
      "Conforms: False\n",
      "Results (1):\n",
      "Constraint Violation in SPARQLConstraintComponent (http://www.w3.org/ns/shacl#SPARQLConstraintComponent):\n",
      "\tSeverity: sh:Violation\n",
      "\tSource Shape: :requiredClass_d4edee03-f735-4834-8f74-0ee8a1958c52\n",
      "\tFocus Node: <urn:algorithm_shapes#targetNode>\n",
      "\tValue Node: <urn:algorithm_shapes#targetNode>\n",
      "\tSource Constraint: [ rdf:type sh:SPARQLConstraint ; sh:message Literal(\"The building must contain at least one instance of the data point.\") ; sh:select Literal(\"\n",
      "            SELECT ?this\n",
      "            WHERE {\n",
      "                FILTER NOT EXISTS {\n",
      "                    ?sensor a brick-ev:EV_Arrival_SOC  .\n",
      "                }\n",
      "            }\n",
      "        \") ]\n",
      "\tMessage: The building must contain at least one instance of the data point.\n",
      "\n",
      "shape_graph_brick-ev_EV_Arrival_Time.ttl\n",
      "Validation Report\n",
      "Conforms: False\n",
      "Results (1):\n",
      "Constraint Violation in SPARQLConstraintComponent (http://www.w3.org/ns/shacl#SPARQLConstraintComponent):\n",
      "\tSeverity: sh:Violation\n",
      "\tSource Shape: :requiredClass_92c693aa-3867-4318-9fc8-96657d213d70\n",
      "\tFocus Node: <urn:algorithm_shapes#targetNode>\n",
      "\tValue Node: <urn:algorithm_shapes#targetNode>\n",
      "\tSource Constraint: [ rdf:type sh:SPARQLConstraint ; sh:message Literal(\"The building must contain at least one instance of the data point.\") ; sh:select Literal(\"\n",
      "            SELECT ?this\n",
      "            WHERE {\n",
      "                FILTER NOT EXISTS {\n",
      "                    ?sensor a brick-ev:EV_Arrival_Time  .\n",
      "                }\n",
      "            }\n",
      "        \") ]\n",
      "\tMessage: The building must contain at least one instance of the data point.\n",
      "\n",
      "shape_graph_brick-ev_EV_Battery_Size.ttl\n",
      "Validation Report\n",
      "Conforms: False\n",
      "Results (1):\n",
      "Constraint Violation in SPARQLConstraintComponent (http://www.w3.org/ns/shacl#SPARQLConstraintComponent):\n",
      "\tSeverity: sh:Violation\n",
      "\tSource Shape: :requiredClass_5985ad22-d91a-41b8-b5ca-32d5593fa014\n",
      "\tFocus Node: <urn:algorithm_shapes#targetNode>\n",
      "\tValue Node: <urn:algorithm_shapes#targetNode>\n",
      "\tSource Constraint: [ rdf:type sh:SPARQLConstraint ; sh:message Literal(\"The building must contain at least one instance of the data point.\") ; sh:select Literal(\"\n",
      "            SELECT ?this\n",
      "            WHERE {\n",
      "                FILTER NOT EXISTS {\n",
      "                    ?sensor a brick-ev:EV_Battery_Size  .\n",
      "                }\n",
      "            }\n",
      "        \") ]\n",
      "\tMessage: The building must contain at least one instance of the data point.\n",
      "\n",
      "shape_graph_brick-ev_EV_Charging_Station_ID.ttl\n",
      "Validation Report\n",
      "Conforms: False\n",
      "Results (1):\n",
      "Constraint Violation in SPARQLConstraintComponent (http://www.w3.org/ns/shacl#SPARQLConstraintComponent):\n",
      "\tSeverity: sh:Violation\n",
      "\tSource Shape: :requiredClass_999f143b-52a5-4094-97c2-b6f67454ecd0\n",
      "\tFocus Node: <urn:algorithm_shapes#targetNode>\n",
      "\tValue Node: <urn:algorithm_shapes#targetNode>\n",
      "\tSource Constraint: [ rdf:type sh:SPARQLConstraint ; sh:message Literal(\"The building must contain at least one instance of the data point.\") ; sh:select Literal(\"\n",
      "            SELECT ?this\n",
      "            WHERE {\n",
      "                FILTER NOT EXISTS {\n",
      "                    ?sensor a brick-ev:EV_Charging_Station_ID  .\n",
      "                }\n",
      "            }\n",
      "        \") ]\n",
      "\tMessage: The building must contain at least one instance of the data point.\n",
      "\n",
      "shape_graph_brick-ev_EV_Departure_Time.ttl\n",
      "Validation Report\n",
      "Conforms: False\n",
      "Results (1):\n",
      "Constraint Violation in SPARQLConstraintComponent (http://www.w3.org/ns/shacl#SPARQLConstraintComponent):\n",
      "\tSeverity: sh:Violation\n",
      "\tSource Shape: :requiredClass_5b8ea56b-4973-47d6-8fee-09813b879ce7\n",
      "\tFocus Node: <urn:algorithm_shapes#targetNode>\n",
      "\tValue Node: <urn:algorithm_shapes#targetNode>\n",
      "\tSource Constraint: [ rdf:type sh:SPARQLConstraint ; sh:message Literal(\"The building must contain at least one instance of the data point.\") ; sh:select Literal(\"\n",
      "            SELECT ?this\n",
      "            WHERE {\n",
      "                FILTER NOT EXISTS {\n",
      "                    ?sensor a brick-ev:EV_Departure_Time  .\n",
      "                }\n",
      "            }\n",
      "        \") ]\n",
      "\tMessage: The building must contain at least one instance of the data point.\n",
      "\n",
      "\n"
     ]
    }
   ],
   "source": [
    "building_data_graph.bind('forc', 'https://w3id.org/b4b/schemes/algorithms/forc#')\n",
    "building_data_graph.bind('brick-ev', 'https://w3id.org/b4b/schemes/algorithms/brick-ev#')\n",
    "res=validate_algorithm('dynamic/RealtimeFeedbackAlgorithm')\n",
    "print(res)"
   ]
  },
  {
   "cell_type": "code",
   "execution_count": 38,
   "metadata": {},
   "outputs": [
    {
     "name": "stdout",
     "output_type": "stream",
     "text": [
      "Writing to: c:\\Users\\lasit\\Documents\\SoftwarePhD\\mpc-schema-journal-paper\\validation\\building_v1\\dynamic\\EVStateEstimationAlgorithm\\validation.txt\n",
      "shape_graph_brick-ev_Charging_Session_Status.ttl\n",
      "Validation Report\n",
      "Conforms: False\n",
      "Results (1):\n",
      "Constraint Violation in SPARQLConstraintComponent (http://www.w3.org/ns/shacl#SPARQLConstraintComponent):\n",
      "\tSeverity: sh:Violation\n",
      "\tSource Shape: :requiredClass_f71511cb-3126-4187-8f98-c31d12a01f96\n",
      "\tFocus Node: <urn:algorithm_shapes#targetNode>\n",
      "\tValue Node: <urn:algorithm_shapes#targetNode>\n",
      "\tSource Constraint: [ rdf:type sh:SPARQLConstraint ; sh:message Literal(\"The building must contain at least one instance of the data point.\") ; sh:select Literal(\"\n",
      "            SELECT ?this\n",
      "            WHERE {\n",
      "                FILTER NOT EXISTS {\n",
      "                    ?sensor a brick-ev:Charging_Session_Status  .\n",
      "                }\n",
      "            }\n",
      "        \") ]\n",
      "\tMessage: The building must contain at least one instance of the data point.\n",
      "\n",
      "shape_graph_brick-ev_EV_Arrival_SOC.ttl\n",
      "Validation Report\n",
      "Conforms: False\n",
      "Results (1):\n",
      "Constraint Violation in SPARQLConstraintComponent (http://www.w3.org/ns/shacl#SPARQLConstraintComponent):\n",
      "\tSeverity: sh:Violation\n",
      "\tSource Shape: :requiredClass_4a43310f-0409-488e-b773-2f5fb0a9f3fb\n",
      "\tFocus Node: <urn:algorithm_shapes#targetNode>\n",
      "\tValue Node: <urn:algorithm_shapes#targetNode>\n",
      "\tSource Constraint: [ rdf:type sh:SPARQLConstraint ; sh:message Literal(\"The building must contain at least one instance of the data point.\") ; sh:select Literal(\"\n",
      "            SELECT ?this\n",
      "            WHERE {\n",
      "                FILTER NOT EXISTS {\n",
      "                    ?sensor a brick-ev:EV_Arrival_SOC  .\n",
      "                }\n",
      "            }\n",
      "        \") ]\n",
      "\tMessage: The building must contain at least one instance of the data point.\n",
      "\n",
      "shape_graph_brick-ev_EV_Arrival_Time.ttl\n",
      "Validation Report\n",
      "Conforms: False\n",
      "Results (1):\n",
      "Constraint Violation in SPARQLConstraintComponent (http://www.w3.org/ns/shacl#SPARQLConstraintComponent):\n",
      "\tSeverity: sh:Violation\n",
      "\tSource Shape: :requiredClass_709a5871-c1f1-4c34-89a1-ab3a17493361\n",
      "\tFocus Node: <urn:algorithm_shapes#targetNode>\n",
      "\tValue Node: <urn:algorithm_shapes#targetNode>\n",
      "\tSource Constraint: [ rdf:type sh:SPARQLConstraint ; sh:message Literal(\"The building must contain at least one instance of the data point.\") ; sh:select Literal(\"\n",
      "            SELECT ?this\n",
      "            WHERE {\n",
      "                FILTER NOT EXISTS {\n",
      "                    ?sensor a brick-ev:EV_Arrival_Time  .\n",
      "                }\n",
      "            }\n",
      "        \") ]\n",
      "\tMessage: The building must contain at least one instance of the data point.\n",
      "\n",
      "shape_graph_brick-ev_EV_Battery_Size.ttl\n",
      "Validation Report\n",
      "Conforms: False\n",
      "Results (1):\n",
      "Constraint Violation in SPARQLConstraintComponent (http://www.w3.org/ns/shacl#SPARQLConstraintComponent):\n",
      "\tSeverity: sh:Violation\n",
      "\tSource Shape: :requiredClass_7b262822-b1e9-4400-bf95-7f9bbf5b7775\n",
      "\tFocus Node: <urn:algorithm_shapes#targetNode>\n",
      "\tValue Node: <urn:algorithm_shapes#targetNode>\n",
      "\tSource Constraint: [ rdf:type sh:SPARQLConstraint ; sh:message Literal(\"The building must contain at least one instance of the data point.\") ; sh:select Literal(\"\n",
      "            SELECT ?this\n",
      "            WHERE {\n",
      "                FILTER NOT EXISTS {\n",
      "                    ?sensor a brick-ev:EV_Battery_Size  .\n",
      "                }\n",
      "            }\n",
      "        \") ]\n",
      "\tMessage: The building must contain at least one instance of the data point.\n",
      "\n",
      "shape_graph_brick-ev_EV_Charging_Session_Visual_Number.ttl\n",
      "Validation Report\n",
      "Conforms: False\n",
      "Results (1):\n",
      "Constraint Violation in SPARQLConstraintComponent (http://www.w3.org/ns/shacl#SPARQLConstraintComponent):\n",
      "\tSeverity: sh:Violation\n",
      "\tSource Shape: :requiredClass_f699a844-604a-4271-846c-0715b8cf08b1\n",
      "\tFocus Node: <urn:algorithm_shapes#targetNode>\n",
      "\tValue Node: <urn:algorithm_shapes#targetNode>\n",
      "\tSource Constraint: [ rdf:type sh:SPARQLConstraint ; sh:message Literal(\"The building must contain at least one instance of the data point.\") ; sh:select Literal(\"\n",
      "            SELECT ?this\n",
      "            WHERE {\n",
      "                FILTER NOT EXISTS {\n",
      "                    ?sensor a brick-ev:EV_Charging_Session_Visual_Number  .\n",
      "                }\n",
      "            }\n",
      "        \") ]\n",
      "\tMessage: The building must contain at least one instance of the data point.\n",
      "\n",
      "shape_graph_brick-ev_EV_Charging_Station_ID.ttl\n",
      "Validation Report\n",
      "Conforms: False\n",
      "Results (1):\n",
      "Constraint Violation in SPARQLConstraintComponent (http://www.w3.org/ns/shacl#SPARQLConstraintComponent):\n",
      "\tSeverity: sh:Violation\n",
      "\tSource Shape: :requiredClass_cc287119-f08c-46d5-89e4-98854e56b388\n",
      "\tFocus Node: <urn:algorithm_shapes#targetNode>\n",
      "\tValue Node: <urn:algorithm_shapes#targetNode>\n",
      "\tSource Constraint: [ rdf:type sh:SPARQLConstraint ; sh:message Literal(\"The building must contain at least one instance of the data point.\") ; sh:select Literal(\"\n",
      "            SELECT ?this\n",
      "            WHERE {\n",
      "                FILTER NOT EXISTS {\n",
      "                    ?sensor a brick-ev:EV_Charging_Station_ID  .\n",
      "                }\n",
      "            }\n",
      "        \") ]\n",
      "\tMessage: The building must contain at least one instance of the data point.\n",
      "\n",
      "shape_graph_brick-ev_EV_Departure_Time.ttl\n",
      "Validation Report\n",
      "Conforms: False\n",
      "Results (1):\n",
      "Constraint Violation in SPARQLConstraintComponent (http://www.w3.org/ns/shacl#SPARQLConstraintComponent):\n",
      "\tSeverity: sh:Violation\n",
      "\tSource Shape: :requiredClass_0fb29a91-6d13-4a08-bb42-8588b2a3c847\n",
      "\tFocus Node: <urn:algorithm_shapes#targetNode>\n",
      "\tValue Node: <urn:algorithm_shapes#targetNode>\n",
      "\tSource Constraint: [ rdf:type sh:SPARQLConstraint ; sh:message Literal(\"The building must contain at least one instance of the data point.\") ; sh:select Literal(\"\n",
      "            SELECT ?this\n",
      "            WHERE {\n",
      "                FILTER NOT EXISTS {\n",
      "                    ?sensor a brick-ev:EV_Departure_Time  .\n",
      "                }\n",
      "            }\n",
      "        \") ]\n",
      "\tMessage: The building must contain at least one instance of the data point.\n",
      "\n",
      "shape_graph_brick-ev_EV_Electric_Energy_Meter.ttl\n",
      "Validation Report\n",
      "Conforms: False\n",
      "Results (1):\n",
      "Constraint Violation in SPARQLConstraintComponent (http://www.w3.org/ns/shacl#SPARQLConstraintComponent):\n",
      "\tSeverity: sh:Violation\n",
      "\tSource Shape: :requiredClass_d3e4aefb-4556-4299-bce0-ecef1a29650d\n",
      "\tFocus Node: <urn:algorithm_shapes#targetNode>\n",
      "\tValue Node: <urn:algorithm_shapes#targetNode>\n",
      "\tSource Constraint: [ rdf:type sh:SPARQLConstraint ; sh:message Literal(\"The building must contain at least one instance of the data point.\") ; sh:select Literal(\"\n",
      "            SELECT ?this\n",
      "            WHERE {\n",
      "                FILTER NOT EXISTS {\n",
      "                    ?sensor a brick-ev:EV_Electric_Energy_Meter  .\n",
      "                }\n",
      "            }\n",
      "        \") ]\n",
      "\tMessage: The building must contain at least one instance of the data point.\n",
      "\n",
      "shape_graph_brick-ev_Vehicle_Full_Status.ttl\n",
      "Validation Report\n",
      "Conforms: False\n",
      "Results (1):\n",
      "Constraint Violation in SPARQLConstraintComponent (http://www.w3.org/ns/shacl#SPARQLConstraintComponent):\n",
      "\tSeverity: sh:Violation\n",
      "\tSource Shape: :requiredClass_bfaf3e04-f6ac-4833-b50c-7b3e6a31a2d0\n",
      "\tFocus Node: <urn:algorithm_shapes#targetNode>\n",
      "\tValue Node: <urn:algorithm_shapes#targetNode>\n",
      "\tSource Constraint: [ rdf:type sh:SPARQLConstraint ; sh:message Literal(\"The building must contain at least one instance of the data point.\") ; sh:select Literal(\"\n",
      "            SELECT ?this\n",
      "            WHERE {\n",
      "                FILTER NOT EXISTS {\n",
      "                    ?sensor a brick-ev:Vehicle_Full_Status  .\n",
      "                }\n",
      "            }\n",
      "        \") ]\n",
      "\tMessage: The building must contain at least one instance of the data point.\n",
      "\n",
      "\n"
     ]
    }
   ],
   "source": [
    "res=validate_algorithm('dynamic/EVStateEstimationAlgorithm')\n",
    "print(res)"
   ]
  },
  {
   "cell_type": "code",
   "execution_count": 39,
   "metadata": {},
   "outputs": [
    {
     "name": "stdout",
     "output_type": "stream",
     "text": [
      "Writing to: c:\\Users\\lasit\\Documents\\SoftwarePhD\\mpc-schema-journal-paper\\validation\\building_v1\\dynamic\\EVChargingCurrentSetpointCommunication\\validation.txt\n",
      "shape_graph_brick-ev_EV_Electric_Energy_Meter.ttl\n",
      "Validation Report\n",
      "Conforms: True\n",
      "\n",
      "\n"
     ]
    }
   ],
   "source": [
    "res=validate_algorithm('dynamic/EVChargingCurrentSetpointCommunication')\n",
    "print(res)"
   ]
  },
  {
   "cell_type": "code",
   "execution_count": 40,
   "metadata": {},
   "outputs": [
    {
     "name": "stdout",
     "output_type": "stream",
     "text": [
      "Writing to: c:\\Users\\lasit\\Documents\\SoftwarePhD\\mpc-schema-journal-paper\\validation\\building_v1\\dynamic\\DynamicParameterEstimationAlgorithm\\validation.txt\n",
      "shape_graph_brick-ev_EV_Electric_Energy_Meter.ttl\n",
      "Validation Report\n",
      "Conforms: False\n",
      "Results (1):\n",
      "Constraint Violation in SPARQLConstraintComponent (http://www.w3.org/ns/shacl#SPARQLConstraintComponent):\n",
      "\tSeverity: sh:Violation\n",
      "\tSource Shape: :requiredClass_e5e13c08-0176-4ad7-9d9e-a6e26dab0089\n",
      "\tFocus Node: <urn:algorithm_shapes#targetNode>\n",
      "\tValue Node: <urn:algorithm_shapes#targetNode>\n",
      "\tSource Constraint: [ rdf:type sh:SPARQLConstraint ; sh:message Literal(\"The building must contain at least one instance of the data point.\") ; sh:select Literal(\"\n",
      "            SELECT ?this\n",
      "            WHERE {\n",
      "                FILTER NOT EXISTS {\n",
      "                    ?sensor a brick-ev:EV_Electric_Energy_Meter  .\n",
      "                }\n",
      "            }\n",
      "        \") ]\n",
      "\tMessage: The building must contain at least one instance of the data point.\n",
      "\n",
      "shape_graph_brick-ev_EV_Electric_Power_Meter.ttl\n",
      "Validation Report\n",
      "Conforms: False\n",
      "Results (1):\n",
      "Constraint Violation in SPARQLConstraintComponent (http://www.w3.org/ns/shacl#SPARQLConstraintComponent):\n",
      "\tSeverity: sh:Violation\n",
      "\tSource Shape: :requiredClass_e5e13c08-0176-4ad7-9d9e-a6e26dab0089\n",
      "\tFocus Node: <urn:algorithm_shapes#targetNode>\n",
      "\tValue Node: <urn:algorithm_shapes#targetNode>\n",
      "\tSource Constraint: [ rdf:type sh:SPARQLConstraint ; sh:message Literal(\"The building must contain at least one instance of the data point.\") ; sh:select Literal(\"\n",
      "            SELECT ?this\n",
      "            WHERE {\n",
      "                FILTER NOT EXISTS {\n",
      "                    ?sensor a brick-ev:EV_Electric_Power_Sensor  .\n",
      "                }\n",
      "            }\n",
      "        \") ]\n",
      "\tMessage: The building must contain at least one instance of the data point.\n",
      "\n",
      "\n"
     ]
    }
   ],
   "source": [
    "res=validate_algorithm('dynamic/DynamicParameterEstimationAlgorithm')\n",
    "print(res)"
   ]
  }
 ],
 "metadata": {
  "kernelspec": {
   "display_name": "venv",
   "language": "python",
   "name": "python3"
  },
  "language_info": {
   "codemirror_mode": {
    "name": "ipython",
    "version": 3
   },
   "file_extension": ".py",
   "mimetype": "text/x-python",
   "name": "python",
   "nbconvert_exporter": "python",
   "pygments_lexer": "ipython3",
   "version": "3.11.2"
  }
 },
 "nbformat": 4,
 "nbformat_minor": 2
}
